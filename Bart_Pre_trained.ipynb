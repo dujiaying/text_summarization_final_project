{
  "nbformat": 4,
  "nbformat_minor": 0,
  "metadata": {
    "colab": {
      "name": "Bart Pre-trained.ipynb",
      "provenance": [],
      "collapsed_sections": []
    },
    "kernelspec": {
      "name": "python3",
      "display_name": "Python 3"
    },
    "widgets": {
      "application/vnd.jupyter.widget-state+json": {
        "be2665e87f45493e9d2382cac1f863bb": {
          "model_module": "@jupyter-widgets/controls",
          "model_name": "HBoxModel",
          "state": {
            "_view_name": "HBoxView",
            "_dom_classes": [],
            "_model_name": "HBoxModel",
            "_view_module": "@jupyter-widgets/controls",
            "_model_module_version": "1.5.0",
            "_view_count": null,
            "_view_module_version": "1.5.0",
            "box_style": "",
            "layout": "IPY_MODEL_5663eb2af00c4859a272659b6ccae122",
            "_model_module": "@jupyter-widgets/controls",
            "children": [
              "IPY_MODEL_3b94a24eb0d84e15965d845593438dfb",
              "IPY_MODEL_5e974c76cd2649479e5ff4f6156ec1f2"
            ]
          }
        },
        "5663eb2af00c4859a272659b6ccae122": {
          "model_module": "@jupyter-widgets/base",
          "model_name": "LayoutModel",
          "state": {
            "_view_name": "LayoutView",
            "grid_template_rows": null,
            "right": null,
            "justify_content": null,
            "_view_module": "@jupyter-widgets/base",
            "overflow": null,
            "_model_module_version": "1.2.0",
            "_view_count": null,
            "flex_flow": null,
            "width": null,
            "min_width": null,
            "border": null,
            "align_items": null,
            "bottom": null,
            "_model_module": "@jupyter-widgets/base",
            "top": null,
            "grid_column": null,
            "overflow_y": null,
            "overflow_x": null,
            "grid_auto_flow": null,
            "grid_area": null,
            "grid_template_columns": null,
            "flex": null,
            "_model_name": "LayoutModel",
            "justify_items": null,
            "grid_row": null,
            "max_height": null,
            "align_content": null,
            "visibility": null,
            "align_self": null,
            "height": null,
            "min_height": null,
            "padding": null,
            "grid_auto_rows": null,
            "grid_gap": null,
            "max_width": null,
            "order": null,
            "_view_module_version": "1.2.0",
            "grid_template_areas": null,
            "object_position": null,
            "object_fit": null,
            "grid_auto_columns": null,
            "margin": null,
            "display": null,
            "left": null
          }
        },
        "3b94a24eb0d84e15965d845593438dfb": {
          "model_module": "@jupyter-widgets/controls",
          "model_name": "FloatProgressModel",
          "state": {
            "_view_name": "ProgressView",
            "style": "IPY_MODEL_e69594f5050247dda987294f2356a3b0",
            "_dom_classes": [],
            "description": "Downloading: 100%",
            "_model_name": "FloatProgressModel",
            "bar_style": "success",
            "max": 1343,
            "_view_module": "@jupyter-widgets/controls",
            "_model_module_version": "1.5.0",
            "value": 1343,
            "_view_count": null,
            "_view_module_version": "1.5.0",
            "orientation": "horizontal",
            "min": 0,
            "description_tooltip": null,
            "_model_module": "@jupyter-widgets/controls",
            "layout": "IPY_MODEL_f47f895f1ef841d5ad15cb9be49e7b1e"
          }
        },
        "5e974c76cd2649479e5ff4f6156ec1f2": {
          "model_module": "@jupyter-widgets/controls",
          "model_name": "HTMLModel",
          "state": {
            "_view_name": "HTMLView",
            "style": "IPY_MODEL_37c635e284d24ba3ac82cc1c1bee27f1",
            "_dom_classes": [],
            "description": "",
            "_model_name": "HTMLModel",
            "placeholder": "​",
            "_view_module": "@jupyter-widgets/controls",
            "_model_module_version": "1.5.0",
            "value": " 1.34k/1.34k [00:29&lt;00:00, 45.0B/s]",
            "_view_count": null,
            "_view_module_version": "1.5.0",
            "description_tooltip": null,
            "_model_module": "@jupyter-widgets/controls",
            "layout": "IPY_MODEL_45a19c3ff8a249c8a4941e55b58a4e79"
          }
        },
        "e69594f5050247dda987294f2356a3b0": {
          "model_module": "@jupyter-widgets/controls",
          "model_name": "ProgressStyleModel",
          "state": {
            "_view_name": "StyleView",
            "_model_name": "ProgressStyleModel",
            "description_width": "initial",
            "_view_module": "@jupyter-widgets/base",
            "_model_module_version": "1.5.0",
            "_view_count": null,
            "_view_module_version": "1.2.0",
            "bar_color": null,
            "_model_module": "@jupyter-widgets/controls"
          }
        },
        "f47f895f1ef841d5ad15cb9be49e7b1e": {
          "model_module": "@jupyter-widgets/base",
          "model_name": "LayoutModel",
          "state": {
            "_view_name": "LayoutView",
            "grid_template_rows": null,
            "right": null,
            "justify_content": null,
            "_view_module": "@jupyter-widgets/base",
            "overflow": null,
            "_model_module_version": "1.2.0",
            "_view_count": null,
            "flex_flow": null,
            "width": null,
            "min_width": null,
            "border": null,
            "align_items": null,
            "bottom": null,
            "_model_module": "@jupyter-widgets/base",
            "top": null,
            "grid_column": null,
            "overflow_y": null,
            "overflow_x": null,
            "grid_auto_flow": null,
            "grid_area": null,
            "grid_template_columns": null,
            "flex": null,
            "_model_name": "LayoutModel",
            "justify_items": null,
            "grid_row": null,
            "max_height": null,
            "align_content": null,
            "visibility": null,
            "align_self": null,
            "height": null,
            "min_height": null,
            "padding": null,
            "grid_auto_rows": null,
            "grid_gap": null,
            "max_width": null,
            "order": null,
            "_view_module_version": "1.2.0",
            "grid_template_areas": null,
            "object_position": null,
            "object_fit": null,
            "grid_auto_columns": null,
            "margin": null,
            "display": null,
            "left": null
          }
        },
        "37c635e284d24ba3ac82cc1c1bee27f1": {
          "model_module": "@jupyter-widgets/controls",
          "model_name": "DescriptionStyleModel",
          "state": {
            "_view_name": "StyleView",
            "_model_name": "DescriptionStyleModel",
            "description_width": "",
            "_view_module": "@jupyter-widgets/base",
            "_model_module_version": "1.5.0",
            "_view_count": null,
            "_view_module_version": "1.2.0",
            "_model_module": "@jupyter-widgets/controls"
          }
        },
        "45a19c3ff8a249c8a4941e55b58a4e79": {
          "model_module": "@jupyter-widgets/base",
          "model_name": "LayoutModel",
          "state": {
            "_view_name": "LayoutView",
            "grid_template_rows": null,
            "right": null,
            "justify_content": null,
            "_view_module": "@jupyter-widgets/base",
            "overflow": null,
            "_model_module_version": "1.2.0",
            "_view_count": null,
            "flex_flow": null,
            "width": null,
            "min_width": null,
            "border": null,
            "align_items": null,
            "bottom": null,
            "_model_module": "@jupyter-widgets/base",
            "top": null,
            "grid_column": null,
            "overflow_y": null,
            "overflow_x": null,
            "grid_auto_flow": null,
            "grid_area": null,
            "grid_template_columns": null,
            "flex": null,
            "_model_name": "LayoutModel",
            "justify_items": null,
            "grid_row": null,
            "max_height": null,
            "align_content": null,
            "visibility": null,
            "align_self": null,
            "height": null,
            "min_height": null,
            "padding": null,
            "grid_auto_rows": null,
            "grid_gap": null,
            "max_width": null,
            "order": null,
            "_view_module_version": "1.2.0",
            "grid_template_areas": null,
            "object_position": null,
            "object_fit": null,
            "grid_auto_columns": null,
            "margin": null,
            "display": null,
            "left": null
          }
        },
        "4f98d0b69bdc4ebc8c5f1443d7ba7c89": {
          "model_module": "@jupyter-widgets/controls",
          "model_name": "HBoxModel",
          "state": {
            "_view_name": "HBoxView",
            "_dom_classes": [],
            "_model_name": "HBoxModel",
            "_view_module": "@jupyter-widgets/controls",
            "_model_module_version": "1.5.0",
            "_view_count": null,
            "_view_module_version": "1.5.0",
            "box_style": "",
            "layout": "IPY_MODEL_8d008caddf4e4149a61f358835543cc4",
            "_model_module": "@jupyter-widgets/controls",
            "children": [
              "IPY_MODEL_25d1b0d7163043b2b28b3f8cf40006a1",
              "IPY_MODEL_c6d7be3ebf68416b93a133e4e33a5b40"
            ]
          }
        },
        "8d008caddf4e4149a61f358835543cc4": {
          "model_module": "@jupyter-widgets/base",
          "model_name": "LayoutModel",
          "state": {
            "_view_name": "LayoutView",
            "grid_template_rows": null,
            "right": null,
            "justify_content": null,
            "_view_module": "@jupyter-widgets/base",
            "overflow": null,
            "_model_module_version": "1.2.0",
            "_view_count": null,
            "flex_flow": null,
            "width": null,
            "min_width": null,
            "border": null,
            "align_items": null,
            "bottom": null,
            "_model_module": "@jupyter-widgets/base",
            "top": null,
            "grid_column": null,
            "overflow_y": null,
            "overflow_x": null,
            "grid_auto_flow": null,
            "grid_area": null,
            "grid_template_columns": null,
            "flex": null,
            "_model_name": "LayoutModel",
            "justify_items": null,
            "grid_row": null,
            "max_height": null,
            "align_content": null,
            "visibility": null,
            "align_self": null,
            "height": null,
            "min_height": null,
            "padding": null,
            "grid_auto_rows": null,
            "grid_gap": null,
            "max_width": null,
            "order": null,
            "_view_module_version": "1.2.0",
            "grid_template_areas": null,
            "object_position": null,
            "object_fit": null,
            "grid_auto_columns": null,
            "margin": null,
            "display": null,
            "left": null
          }
        },
        "25d1b0d7163043b2b28b3f8cf40006a1": {
          "model_module": "@jupyter-widgets/controls",
          "model_name": "FloatProgressModel",
          "state": {
            "_view_name": "ProgressView",
            "style": "IPY_MODEL_cdf4cd61f548452abd5c3da74d04bae5",
            "_dom_classes": [],
            "description": "Downloading: 100%",
            "_model_name": "FloatProgressModel",
            "bar_style": "success",
            "max": 1625270765,
            "_view_module": "@jupyter-widgets/controls",
            "_model_module_version": "1.5.0",
            "value": 1625270765,
            "_view_count": null,
            "_view_module_version": "1.5.0",
            "orientation": "horizontal",
            "min": 0,
            "description_tooltip": null,
            "_model_module": "@jupyter-widgets/controls",
            "layout": "IPY_MODEL_3571808fdccf4a89869a33e8d814188a"
          }
        },
        "c6d7be3ebf68416b93a133e4e33a5b40": {
          "model_module": "@jupyter-widgets/controls",
          "model_name": "HTMLModel",
          "state": {
            "_view_name": "HTMLView",
            "style": "IPY_MODEL_e140a2eabe2a45d287f3c90192652281",
            "_dom_classes": [],
            "description": "",
            "_model_name": "HTMLModel",
            "placeholder": "​",
            "_view_module": "@jupyter-widgets/controls",
            "_model_module_version": "1.5.0",
            "value": " 1.63G/1.63G [00:27&lt;00:00, 58.4MB/s]",
            "_view_count": null,
            "_view_module_version": "1.5.0",
            "description_tooltip": null,
            "_model_module": "@jupyter-widgets/controls",
            "layout": "IPY_MODEL_b42fc9b0777a4cff805c3d5a9743df3b"
          }
        },
        "cdf4cd61f548452abd5c3da74d04bae5": {
          "model_module": "@jupyter-widgets/controls",
          "model_name": "ProgressStyleModel",
          "state": {
            "_view_name": "StyleView",
            "_model_name": "ProgressStyleModel",
            "description_width": "initial",
            "_view_module": "@jupyter-widgets/base",
            "_model_module_version": "1.5.0",
            "_view_count": null,
            "_view_module_version": "1.2.0",
            "bar_color": null,
            "_model_module": "@jupyter-widgets/controls"
          }
        },
        "3571808fdccf4a89869a33e8d814188a": {
          "model_module": "@jupyter-widgets/base",
          "model_name": "LayoutModel",
          "state": {
            "_view_name": "LayoutView",
            "grid_template_rows": null,
            "right": null,
            "justify_content": null,
            "_view_module": "@jupyter-widgets/base",
            "overflow": null,
            "_model_module_version": "1.2.0",
            "_view_count": null,
            "flex_flow": null,
            "width": null,
            "min_width": null,
            "border": null,
            "align_items": null,
            "bottom": null,
            "_model_module": "@jupyter-widgets/base",
            "top": null,
            "grid_column": null,
            "overflow_y": null,
            "overflow_x": null,
            "grid_auto_flow": null,
            "grid_area": null,
            "grid_template_columns": null,
            "flex": null,
            "_model_name": "LayoutModel",
            "justify_items": null,
            "grid_row": null,
            "max_height": null,
            "align_content": null,
            "visibility": null,
            "align_self": null,
            "height": null,
            "min_height": null,
            "padding": null,
            "grid_auto_rows": null,
            "grid_gap": null,
            "max_width": null,
            "order": null,
            "_view_module_version": "1.2.0",
            "grid_template_areas": null,
            "object_position": null,
            "object_fit": null,
            "grid_auto_columns": null,
            "margin": null,
            "display": null,
            "left": null
          }
        },
        "e140a2eabe2a45d287f3c90192652281": {
          "model_module": "@jupyter-widgets/controls",
          "model_name": "DescriptionStyleModel",
          "state": {
            "_view_name": "StyleView",
            "_model_name": "DescriptionStyleModel",
            "description_width": "",
            "_view_module": "@jupyter-widgets/base",
            "_model_module_version": "1.5.0",
            "_view_count": null,
            "_view_module_version": "1.2.0",
            "_model_module": "@jupyter-widgets/controls"
          }
        },
        "b42fc9b0777a4cff805c3d5a9743df3b": {
          "model_module": "@jupyter-widgets/base",
          "model_name": "LayoutModel",
          "state": {
            "_view_name": "LayoutView",
            "grid_template_rows": null,
            "right": null,
            "justify_content": null,
            "_view_module": "@jupyter-widgets/base",
            "overflow": null,
            "_model_module_version": "1.2.0",
            "_view_count": null,
            "flex_flow": null,
            "width": null,
            "min_width": null,
            "border": null,
            "align_items": null,
            "bottom": null,
            "_model_module": "@jupyter-widgets/base",
            "top": null,
            "grid_column": null,
            "overflow_y": null,
            "overflow_x": null,
            "grid_auto_flow": null,
            "grid_area": null,
            "grid_template_columns": null,
            "flex": null,
            "_model_name": "LayoutModel",
            "justify_items": null,
            "grid_row": null,
            "max_height": null,
            "align_content": null,
            "visibility": null,
            "align_self": null,
            "height": null,
            "min_height": null,
            "padding": null,
            "grid_auto_rows": null,
            "grid_gap": null,
            "max_width": null,
            "order": null,
            "_view_module_version": "1.2.0",
            "grid_template_areas": null,
            "object_position": null,
            "object_fit": null,
            "grid_auto_columns": null,
            "margin": null,
            "display": null,
            "left": null
          }
        },
        "9595597aeacb4bd0aeb7d3afb9a71982": {
          "model_module": "@jupyter-widgets/controls",
          "model_name": "HBoxModel",
          "state": {
            "_view_name": "HBoxView",
            "_dom_classes": [],
            "_model_name": "HBoxModel",
            "_view_module": "@jupyter-widgets/controls",
            "_model_module_version": "1.5.0",
            "_view_count": null,
            "_view_module_version": "1.5.0",
            "box_style": "",
            "layout": "IPY_MODEL_36c6fe6c1b564c96934b20c70274d076",
            "_model_module": "@jupyter-widgets/controls",
            "children": [
              "IPY_MODEL_6f94c5068ec3449e99dc34f1ae8348d6",
              "IPY_MODEL_4ebf268d200447ff86b39d077b9e2d1b"
            ]
          }
        },
        "36c6fe6c1b564c96934b20c70274d076": {
          "model_module": "@jupyter-widgets/base",
          "model_name": "LayoutModel",
          "state": {
            "_view_name": "LayoutView",
            "grid_template_rows": null,
            "right": null,
            "justify_content": null,
            "_view_module": "@jupyter-widgets/base",
            "overflow": null,
            "_model_module_version": "1.2.0",
            "_view_count": null,
            "flex_flow": null,
            "width": null,
            "min_width": null,
            "border": null,
            "align_items": null,
            "bottom": null,
            "_model_module": "@jupyter-widgets/base",
            "top": null,
            "grid_column": null,
            "overflow_y": null,
            "overflow_x": null,
            "grid_auto_flow": null,
            "grid_area": null,
            "grid_template_columns": null,
            "flex": null,
            "_model_name": "LayoutModel",
            "justify_items": null,
            "grid_row": null,
            "max_height": null,
            "align_content": null,
            "visibility": null,
            "align_self": null,
            "height": null,
            "min_height": null,
            "padding": null,
            "grid_auto_rows": null,
            "grid_gap": null,
            "max_width": null,
            "order": null,
            "_view_module_version": "1.2.0",
            "grid_template_areas": null,
            "object_position": null,
            "object_fit": null,
            "grid_auto_columns": null,
            "margin": null,
            "display": null,
            "left": null
          }
        },
        "6f94c5068ec3449e99dc34f1ae8348d6": {
          "model_module": "@jupyter-widgets/controls",
          "model_name": "FloatProgressModel",
          "state": {
            "_view_name": "ProgressView",
            "style": "IPY_MODEL_e0f4adb630a84bf48e99c99742562fe6",
            "_dom_classes": [],
            "description": "Downloading: 100%",
            "_model_name": "FloatProgressModel",
            "bar_style": "success",
            "max": 898823,
            "_view_module": "@jupyter-widgets/controls",
            "_model_module_version": "1.5.0",
            "value": 898823,
            "_view_count": null,
            "_view_module_version": "1.5.0",
            "orientation": "horizontal",
            "min": 0,
            "description_tooltip": null,
            "_model_module": "@jupyter-widgets/controls",
            "layout": "IPY_MODEL_0bd538d6185242c6be8a780e732b87ae"
          }
        },
        "4ebf268d200447ff86b39d077b9e2d1b": {
          "model_module": "@jupyter-widgets/controls",
          "model_name": "HTMLModel",
          "state": {
            "_view_name": "HTMLView",
            "style": "IPY_MODEL_e268d6ae88a541d2b7123ccf05062555",
            "_dom_classes": [],
            "description": "",
            "_model_name": "HTMLModel",
            "placeholder": "​",
            "_view_module": "@jupyter-widgets/controls",
            "_model_module_version": "1.5.0",
            "value": " 899k/899k [00:00&lt;00:00, 3.53MB/s]",
            "_view_count": null,
            "_view_module_version": "1.5.0",
            "description_tooltip": null,
            "_model_module": "@jupyter-widgets/controls",
            "layout": "IPY_MODEL_815f96e02d9e49e2879c876b90dfd70a"
          }
        },
        "e0f4adb630a84bf48e99c99742562fe6": {
          "model_module": "@jupyter-widgets/controls",
          "model_name": "ProgressStyleModel",
          "state": {
            "_view_name": "StyleView",
            "_model_name": "ProgressStyleModel",
            "description_width": "initial",
            "_view_module": "@jupyter-widgets/base",
            "_model_module_version": "1.5.0",
            "_view_count": null,
            "_view_module_version": "1.2.0",
            "bar_color": null,
            "_model_module": "@jupyter-widgets/controls"
          }
        },
        "0bd538d6185242c6be8a780e732b87ae": {
          "model_module": "@jupyter-widgets/base",
          "model_name": "LayoutModel",
          "state": {
            "_view_name": "LayoutView",
            "grid_template_rows": null,
            "right": null,
            "justify_content": null,
            "_view_module": "@jupyter-widgets/base",
            "overflow": null,
            "_model_module_version": "1.2.0",
            "_view_count": null,
            "flex_flow": null,
            "width": null,
            "min_width": null,
            "border": null,
            "align_items": null,
            "bottom": null,
            "_model_module": "@jupyter-widgets/base",
            "top": null,
            "grid_column": null,
            "overflow_y": null,
            "overflow_x": null,
            "grid_auto_flow": null,
            "grid_area": null,
            "grid_template_columns": null,
            "flex": null,
            "_model_name": "LayoutModel",
            "justify_items": null,
            "grid_row": null,
            "max_height": null,
            "align_content": null,
            "visibility": null,
            "align_self": null,
            "height": null,
            "min_height": null,
            "padding": null,
            "grid_auto_rows": null,
            "grid_gap": null,
            "max_width": null,
            "order": null,
            "_view_module_version": "1.2.0",
            "grid_template_areas": null,
            "object_position": null,
            "object_fit": null,
            "grid_auto_columns": null,
            "margin": null,
            "display": null,
            "left": null
          }
        },
        "e268d6ae88a541d2b7123ccf05062555": {
          "model_module": "@jupyter-widgets/controls",
          "model_name": "DescriptionStyleModel",
          "state": {
            "_view_name": "StyleView",
            "_model_name": "DescriptionStyleModel",
            "description_width": "",
            "_view_module": "@jupyter-widgets/base",
            "_model_module_version": "1.5.0",
            "_view_count": null,
            "_view_module_version": "1.2.0",
            "_model_module": "@jupyter-widgets/controls"
          }
        },
        "815f96e02d9e49e2879c876b90dfd70a": {
          "model_module": "@jupyter-widgets/base",
          "model_name": "LayoutModel",
          "state": {
            "_view_name": "LayoutView",
            "grid_template_rows": null,
            "right": null,
            "justify_content": null,
            "_view_module": "@jupyter-widgets/base",
            "overflow": null,
            "_model_module_version": "1.2.0",
            "_view_count": null,
            "flex_flow": null,
            "width": null,
            "min_width": null,
            "border": null,
            "align_items": null,
            "bottom": null,
            "_model_module": "@jupyter-widgets/base",
            "top": null,
            "grid_column": null,
            "overflow_y": null,
            "overflow_x": null,
            "grid_auto_flow": null,
            "grid_area": null,
            "grid_template_columns": null,
            "flex": null,
            "_model_name": "LayoutModel",
            "justify_items": null,
            "grid_row": null,
            "max_height": null,
            "align_content": null,
            "visibility": null,
            "align_self": null,
            "height": null,
            "min_height": null,
            "padding": null,
            "grid_auto_rows": null,
            "grid_gap": null,
            "max_width": null,
            "order": null,
            "_view_module_version": "1.2.0",
            "grid_template_areas": null,
            "object_position": null,
            "object_fit": null,
            "grid_auto_columns": null,
            "margin": null,
            "display": null,
            "left": null
          }
        },
        "7f1e423eac41489e86f40e742fc6241b": {
          "model_module": "@jupyter-widgets/controls",
          "model_name": "HBoxModel",
          "state": {
            "_view_name": "HBoxView",
            "_dom_classes": [],
            "_model_name": "HBoxModel",
            "_view_module": "@jupyter-widgets/controls",
            "_model_module_version": "1.5.0",
            "_view_count": null,
            "_view_module_version": "1.5.0",
            "box_style": "",
            "layout": "IPY_MODEL_65e8ff0132244aa5bc1fd2be51e3ba44",
            "_model_module": "@jupyter-widgets/controls",
            "children": [
              "IPY_MODEL_d12954a3f6af452399f57600e82e3244",
              "IPY_MODEL_fa29402fd58141ee9e4d6e51856ef4b7"
            ]
          }
        },
        "65e8ff0132244aa5bc1fd2be51e3ba44": {
          "model_module": "@jupyter-widgets/base",
          "model_name": "LayoutModel",
          "state": {
            "_view_name": "LayoutView",
            "grid_template_rows": null,
            "right": null,
            "justify_content": null,
            "_view_module": "@jupyter-widgets/base",
            "overflow": null,
            "_model_module_version": "1.2.0",
            "_view_count": null,
            "flex_flow": null,
            "width": null,
            "min_width": null,
            "border": null,
            "align_items": null,
            "bottom": null,
            "_model_module": "@jupyter-widgets/base",
            "top": null,
            "grid_column": null,
            "overflow_y": null,
            "overflow_x": null,
            "grid_auto_flow": null,
            "grid_area": null,
            "grid_template_columns": null,
            "flex": null,
            "_model_name": "LayoutModel",
            "justify_items": null,
            "grid_row": null,
            "max_height": null,
            "align_content": null,
            "visibility": null,
            "align_self": null,
            "height": null,
            "min_height": null,
            "padding": null,
            "grid_auto_rows": null,
            "grid_gap": null,
            "max_width": null,
            "order": null,
            "_view_module_version": "1.2.0",
            "grid_template_areas": null,
            "object_position": null,
            "object_fit": null,
            "grid_auto_columns": null,
            "margin": null,
            "display": null,
            "left": null
          }
        },
        "d12954a3f6af452399f57600e82e3244": {
          "model_module": "@jupyter-widgets/controls",
          "model_name": "FloatProgressModel",
          "state": {
            "_view_name": "ProgressView",
            "style": "IPY_MODEL_2bab90f69e2d40488c5171b74f3c2ce4",
            "_dom_classes": [],
            "description": "Downloading: 100%",
            "_model_name": "FloatProgressModel",
            "bar_style": "success",
            "max": 456318,
            "_view_module": "@jupyter-widgets/controls",
            "_model_module_version": "1.5.0",
            "value": 456318,
            "_view_count": null,
            "_view_module_version": "1.5.0",
            "orientation": "horizontal",
            "min": 0,
            "description_tooltip": null,
            "_model_module": "@jupyter-widgets/controls",
            "layout": "IPY_MODEL_4d9120271d664642a4457aae847c23f5"
          }
        },
        "fa29402fd58141ee9e4d6e51856ef4b7": {
          "model_module": "@jupyter-widgets/controls",
          "model_name": "HTMLModel",
          "state": {
            "_view_name": "HTMLView",
            "style": "IPY_MODEL_4aac813386ea489ab3c7a1c74a470a17",
            "_dom_classes": [],
            "description": "",
            "_model_name": "HTMLModel",
            "placeholder": "​",
            "_view_module": "@jupyter-widgets/controls",
            "_model_module_version": "1.5.0",
            "value": " 456k/456k [00:00&lt;00:00, 3.23MB/s]",
            "_view_count": null,
            "_view_module_version": "1.5.0",
            "description_tooltip": null,
            "_model_module": "@jupyter-widgets/controls",
            "layout": "IPY_MODEL_f40d95f392814c7fa9cd333d8c78ca48"
          }
        },
        "2bab90f69e2d40488c5171b74f3c2ce4": {
          "model_module": "@jupyter-widgets/controls",
          "model_name": "ProgressStyleModel",
          "state": {
            "_view_name": "StyleView",
            "_model_name": "ProgressStyleModel",
            "description_width": "initial",
            "_view_module": "@jupyter-widgets/base",
            "_model_module_version": "1.5.0",
            "_view_count": null,
            "_view_module_version": "1.2.0",
            "bar_color": null,
            "_model_module": "@jupyter-widgets/controls"
          }
        },
        "4d9120271d664642a4457aae847c23f5": {
          "model_module": "@jupyter-widgets/base",
          "model_name": "LayoutModel",
          "state": {
            "_view_name": "LayoutView",
            "grid_template_rows": null,
            "right": null,
            "justify_content": null,
            "_view_module": "@jupyter-widgets/base",
            "overflow": null,
            "_model_module_version": "1.2.0",
            "_view_count": null,
            "flex_flow": null,
            "width": null,
            "min_width": null,
            "border": null,
            "align_items": null,
            "bottom": null,
            "_model_module": "@jupyter-widgets/base",
            "top": null,
            "grid_column": null,
            "overflow_y": null,
            "overflow_x": null,
            "grid_auto_flow": null,
            "grid_area": null,
            "grid_template_columns": null,
            "flex": null,
            "_model_name": "LayoutModel",
            "justify_items": null,
            "grid_row": null,
            "max_height": null,
            "align_content": null,
            "visibility": null,
            "align_self": null,
            "height": null,
            "min_height": null,
            "padding": null,
            "grid_auto_rows": null,
            "grid_gap": null,
            "max_width": null,
            "order": null,
            "_view_module_version": "1.2.0",
            "grid_template_areas": null,
            "object_position": null,
            "object_fit": null,
            "grid_auto_columns": null,
            "margin": null,
            "display": null,
            "left": null
          }
        },
        "4aac813386ea489ab3c7a1c74a470a17": {
          "model_module": "@jupyter-widgets/controls",
          "model_name": "DescriptionStyleModel",
          "state": {
            "_view_name": "StyleView",
            "_model_name": "DescriptionStyleModel",
            "description_width": "",
            "_view_module": "@jupyter-widgets/base",
            "_model_module_version": "1.5.0",
            "_view_count": null,
            "_view_module_version": "1.2.0",
            "_model_module": "@jupyter-widgets/controls"
          }
        },
        "f40d95f392814c7fa9cd333d8c78ca48": {
          "model_module": "@jupyter-widgets/base",
          "model_name": "LayoutModel",
          "state": {
            "_view_name": "LayoutView",
            "grid_template_rows": null,
            "right": null,
            "justify_content": null,
            "_view_module": "@jupyter-widgets/base",
            "overflow": null,
            "_model_module_version": "1.2.0",
            "_view_count": null,
            "flex_flow": null,
            "width": null,
            "min_width": null,
            "border": null,
            "align_items": null,
            "bottom": null,
            "_model_module": "@jupyter-widgets/base",
            "top": null,
            "grid_column": null,
            "overflow_y": null,
            "overflow_x": null,
            "grid_auto_flow": null,
            "grid_area": null,
            "grid_template_columns": null,
            "flex": null,
            "_model_name": "LayoutModel",
            "justify_items": null,
            "grid_row": null,
            "max_height": null,
            "align_content": null,
            "visibility": null,
            "align_self": null,
            "height": null,
            "min_height": null,
            "padding": null,
            "grid_auto_rows": null,
            "grid_gap": null,
            "max_width": null,
            "order": null,
            "_view_module_version": "1.2.0",
            "grid_template_areas": null,
            "object_position": null,
            "object_fit": null,
            "grid_auto_columns": null,
            "margin": null,
            "display": null,
            "left": null
          }
        },
        "aed97eb0298b4d06b12fa344b97cf080": {
          "model_module": "@jupyter-widgets/controls",
          "model_name": "HBoxModel",
          "state": {
            "_view_name": "HBoxView",
            "_dom_classes": [],
            "_model_name": "HBoxModel",
            "_view_module": "@jupyter-widgets/controls",
            "_model_module_version": "1.5.0",
            "_view_count": null,
            "_view_module_version": "1.5.0",
            "box_style": "",
            "layout": "IPY_MODEL_3aa310a0375b42da997918dcb7b11ab0",
            "_model_module": "@jupyter-widgets/controls",
            "children": [
              "IPY_MODEL_b5d547e1206b4f17ae349b82a24a5376",
              "IPY_MODEL_64f3fb83f736458199dd52131e12100f"
            ]
          }
        },
        "3aa310a0375b42da997918dcb7b11ab0": {
          "model_module": "@jupyter-widgets/base",
          "model_name": "LayoutModel",
          "state": {
            "_view_name": "LayoutView",
            "grid_template_rows": null,
            "right": null,
            "justify_content": null,
            "_view_module": "@jupyter-widgets/base",
            "overflow": null,
            "_model_module_version": "1.2.0",
            "_view_count": null,
            "flex_flow": null,
            "width": null,
            "min_width": null,
            "border": null,
            "align_items": null,
            "bottom": null,
            "_model_module": "@jupyter-widgets/base",
            "top": null,
            "grid_column": null,
            "overflow_y": null,
            "overflow_x": null,
            "grid_auto_flow": null,
            "grid_area": null,
            "grid_template_columns": null,
            "flex": null,
            "_model_name": "LayoutModel",
            "justify_items": null,
            "grid_row": null,
            "max_height": null,
            "align_content": null,
            "visibility": null,
            "align_self": null,
            "height": null,
            "min_height": null,
            "padding": null,
            "grid_auto_rows": null,
            "grid_gap": null,
            "max_width": null,
            "order": null,
            "_view_module_version": "1.2.0",
            "grid_template_areas": null,
            "object_position": null,
            "object_fit": null,
            "grid_auto_columns": null,
            "margin": null,
            "display": null,
            "left": null
          }
        },
        "b5d547e1206b4f17ae349b82a24a5376": {
          "model_module": "@jupyter-widgets/controls",
          "model_name": "FloatProgressModel",
          "state": {
            "_view_name": "ProgressView",
            "style": "IPY_MODEL_fe62d29532314461aa594447015d6ddc",
            "_dom_classes": [],
            "description": "Downloading: 100%",
            "_model_name": "FloatProgressModel",
            "bar_style": "success",
            "max": 1355863,
            "_view_module": "@jupyter-widgets/controls",
            "_model_module_version": "1.5.0",
            "value": 1355863,
            "_view_count": null,
            "_view_module_version": "1.5.0",
            "orientation": "horizontal",
            "min": 0,
            "description_tooltip": null,
            "_model_module": "@jupyter-widgets/controls",
            "layout": "IPY_MODEL_6e695cba29f9448b99d6db85a0bbc1ac"
          }
        },
        "64f3fb83f736458199dd52131e12100f": {
          "model_module": "@jupyter-widgets/controls",
          "model_name": "HTMLModel",
          "state": {
            "_view_name": "HTMLView",
            "style": "IPY_MODEL_10bc5704185a4a5a96519cb126457ebe",
            "_dom_classes": [],
            "description": "",
            "_model_name": "HTMLModel",
            "placeholder": "​",
            "_view_module": "@jupyter-widgets/controls",
            "_model_module_version": "1.5.0",
            "value": " 1.36M/1.36M [00:02&lt;00:00, 623kB/s]",
            "_view_count": null,
            "_view_module_version": "1.5.0",
            "description_tooltip": null,
            "_model_module": "@jupyter-widgets/controls",
            "layout": "IPY_MODEL_4c2de4c07eee46fc91a54d4be729c641"
          }
        },
        "fe62d29532314461aa594447015d6ddc": {
          "model_module": "@jupyter-widgets/controls",
          "model_name": "ProgressStyleModel",
          "state": {
            "_view_name": "StyleView",
            "_model_name": "ProgressStyleModel",
            "description_width": "initial",
            "_view_module": "@jupyter-widgets/base",
            "_model_module_version": "1.5.0",
            "_view_count": null,
            "_view_module_version": "1.2.0",
            "bar_color": null,
            "_model_module": "@jupyter-widgets/controls"
          }
        },
        "6e695cba29f9448b99d6db85a0bbc1ac": {
          "model_module": "@jupyter-widgets/base",
          "model_name": "LayoutModel",
          "state": {
            "_view_name": "LayoutView",
            "grid_template_rows": null,
            "right": null,
            "justify_content": null,
            "_view_module": "@jupyter-widgets/base",
            "overflow": null,
            "_model_module_version": "1.2.0",
            "_view_count": null,
            "flex_flow": null,
            "width": null,
            "min_width": null,
            "border": null,
            "align_items": null,
            "bottom": null,
            "_model_module": "@jupyter-widgets/base",
            "top": null,
            "grid_column": null,
            "overflow_y": null,
            "overflow_x": null,
            "grid_auto_flow": null,
            "grid_area": null,
            "grid_template_columns": null,
            "flex": null,
            "_model_name": "LayoutModel",
            "justify_items": null,
            "grid_row": null,
            "max_height": null,
            "align_content": null,
            "visibility": null,
            "align_self": null,
            "height": null,
            "min_height": null,
            "padding": null,
            "grid_auto_rows": null,
            "grid_gap": null,
            "max_width": null,
            "order": null,
            "_view_module_version": "1.2.0",
            "grid_template_areas": null,
            "object_position": null,
            "object_fit": null,
            "grid_auto_columns": null,
            "margin": null,
            "display": null,
            "left": null
          }
        },
        "10bc5704185a4a5a96519cb126457ebe": {
          "model_module": "@jupyter-widgets/controls",
          "model_name": "DescriptionStyleModel",
          "state": {
            "_view_name": "StyleView",
            "_model_name": "DescriptionStyleModel",
            "description_width": "",
            "_view_module": "@jupyter-widgets/base",
            "_model_module_version": "1.5.0",
            "_view_count": null,
            "_view_module_version": "1.2.0",
            "_model_module": "@jupyter-widgets/controls"
          }
        },
        "4c2de4c07eee46fc91a54d4be729c641": {
          "model_module": "@jupyter-widgets/base",
          "model_name": "LayoutModel",
          "state": {
            "_view_name": "LayoutView",
            "grid_template_rows": null,
            "right": null,
            "justify_content": null,
            "_view_module": "@jupyter-widgets/base",
            "overflow": null,
            "_model_module_version": "1.2.0",
            "_view_count": null,
            "flex_flow": null,
            "width": null,
            "min_width": null,
            "border": null,
            "align_items": null,
            "bottom": null,
            "_model_module": "@jupyter-widgets/base",
            "top": null,
            "grid_column": null,
            "overflow_y": null,
            "overflow_x": null,
            "grid_auto_flow": null,
            "grid_area": null,
            "grid_template_columns": null,
            "flex": null,
            "_model_name": "LayoutModel",
            "justify_items": null,
            "grid_row": null,
            "max_height": null,
            "align_content": null,
            "visibility": null,
            "align_self": null,
            "height": null,
            "min_height": null,
            "padding": null,
            "grid_auto_rows": null,
            "grid_gap": null,
            "max_width": null,
            "order": null,
            "_view_module_version": "1.2.0",
            "grid_template_areas": null,
            "object_position": null,
            "object_fit": null,
            "grid_auto_columns": null,
            "margin": null,
            "display": null,
            "left": null
          }
        }
      }
    }
  },
  "cells": [
    {
      "cell_type": "code",
      "metadata": {
        "id": "8kWOt7kO7lUu"
      },
      "source": [
        "%%capture\n",
        "!pip install transformers\n",
        "!pip install nltk==3.5\n",
        "!pip install rouge"
      ],
      "execution_count": null,
      "outputs": []
    },
    {
      "cell_type": "markdown",
      "metadata": {
        "id": "egidmKYXsKjt"
      },
      "source": [
        "function ClickConnect(){\n",
        "console.log(\"Working\"); \n",
        "document.querySelector(\"colab-toolbar-button#connect\").click() \n",
        "}\n",
        "setInterval(ClickConnect,60000)"
      ]
    },
    {
      "cell_type": "code",
      "metadata": {
        "id": "0dBOFE3d8HPM"
      },
      "source": [
        "import torch\n",
        "import numpy as np\n",
        "import pandas as pd\n",
        "from rouge import Rouge\n",
        "from transformers import pipeline\n",
        "from matplotlib import pyplot as plt\n",
        "from nltk.translate.bleu_score import sentence_bleu\n",
        "import re\n",
        "#from nltk.translate.bleu_score import SmoothingFunction\n",
        "#from nltk.translate.meteor_score import single_meteor_score"
      ],
      "execution_count": null,
      "outputs": []
    },
    {
      "cell_type": "code",
      "metadata": {
        "colab": {
          "base_uri": "https://localhost:8080/"
        },
        "id": "AK5w_IQe8NhW",
        "outputId": "5b8317e3-4b4a-4afe-ea07-53ed207b71d0"
      },
      "source": [
        "# Load data\n",
        "path = '/content/drive/MyDrive/AML_workshop/'\n",
        "filename = 'hot_topics_data_100K.csv'\n",
        "\n",
        "df = pd.read_csv(path + filename, nrows = 2000)\n",
        "df.columns = ['id', 'FINDINGS', 'IMPRESSION']\n",
        "df.shape # (100000, 3)"
      ],
      "execution_count": null,
      "outputs": [
        {
          "output_type": "execute_result",
          "data": {
            "text/plain": [
              "(2000, 3)"
            ]
          },
          "metadata": {
            "tags": []
          },
          "execution_count": 3
        }
      ]
    },
    {
      "cell_type": "code",
      "metadata": {
        "colab": {
          "base_uri": "https://localhost:8080/"
        },
        "id": "8kqy6wPm-Wcd",
        "outputId": "89830dca-4b56-441a-9ce1-51e422ad9eaf"
      },
      "source": [
        "finding_len = [len(x.split()) for x in df['FINDINGS']]\n",
        "impression_len = [len(x.split()) for x in df['IMPRESSION']]\n",
        "\n",
        "print(np.percentile(finding_len, [85, 90, 95]))\n",
        "print(np.percentile(impression_len, [85, 90, 95]))\n",
        "print(np.percentile(impression_len, [5, 10, 15]))"
      ],
      "execution_count": null,
      "outputs": [
        {
          "output_type": "stream",
          "text": [
            "[193.  221.  268.1]\n",
            "[45.  56.1 71. ]\n",
            "[3. 5. 6.]\n"
          ],
          "name": "stdout"
        }
      ]
    },
    {
      "cell_type": "code",
      "metadata": {
        "colab": {
          "base_uri": "https://localhost:8080/",
          "height": 544
        },
        "id": "lE6FWooH9-TG",
        "outputId": "b6662129-1f3d-4cd0-b51b-dfa7ddb5bd44"
      },
      "source": [
        "plt.figure()\n",
        "plt.hist(finding_len, bins = 100)\n",
        "plt.title(\"FINDINGS length distribution\")\n",
        "plt.show()\n",
        "\n",
        "plt.figure()\n",
        "plt.hist(impression_len, bins = 100)\n",
        "plt.title(\"IMPRESSION length distribution\")\n",
        "plt.xlim((0,200))\n",
        "plt.show()"
      ],
      "execution_count": null,
      "outputs": [
        {
          "output_type": "display_data",
          "data": {
            "image/png": "[encoded data removed]",
            "text/plain": [
              "<Figure size 432x288 with 1 Axes>"
            ]
          },
          "metadata": {
            "tags": [],
            "needs_background": "light"
          }
        },
        {
          "output_type": "display_data",
          "data": {
            "image/png": "[encoded data removed]",
            "text/plain": [
              "<Figure size 432x288 with 1 Axes>"
            ]
          },
          "metadata": {
            "tags": [],
            "needs_background": "light"
          }
        }
      ]
    },
    {
      "cell_type": "markdown",
      "metadata": {
        "id": "rDAKo0sPZMMn"
      },
      "source": [
        "# BART"
      ]
    },
    {
      "cell_type": "code",
      "metadata": {
        "colab": {
          "base_uri": "https://localhost:8080/",
          "height": 53
        },
        "id": "pjtoJkBslbHo",
        "outputId": "cb11fad3-d4e4-467c-9c10-a8e03b7accd4"
      },
      "source": [
        "# Load data\n",
        "path = '/content/drive/MyDrive/AML_workshop/'\n",
        "filename = 'test_set_2000.csv'\n",
        "df = pd.read_csv(path + filename)\n",
        "df.shape # (100000, 3)\n",
        "\"\"\"\n",
        "filename = 'hot_topics_data_100K.csv'  # 6% duplicates\n",
        "df = pd.read_csv(path + filename)\n",
        "del df['Unnamed: 0']\n",
        "df = df.drop_duplicates(['FINDINGS', 'IMPRESSION']).head(2000)\n",
        "df.reset_index(inplace = True)\n",
        "df.columns = ['index', 'FINDINGS', 'IMPRESSION']\n",
        "\"\"\""
      ],
      "execution_count": null,
      "outputs": [
        {
          "output_type": "execute_result",
          "data": {
            "application/vnd.google.colaboratory.intrinsic+json": {
              "type": "string"
            },
            "text/plain": [
              "\"\\nfilename = 'hot_topics_data_100K.csv'  # 6% duplicates\\ndf = pd.read_csv(path + filename)\\ndel df['Unnamed: 0']\\ndf = df.drop_duplicates(['FINDINGS', 'IMPRESSION']).head(2000)\\ndf.reset_index(inplace = True)\\ndf.columns = ['index', 'FINDINGS', 'IMPRESSION']\\n\""
            ]
          },
          "metadata": {
            "tags": []
          },
          "execution_count": 3
        }
      ]
    },
    {
      "cell_type": "code",
      "metadata": {
        "id": "WnTKgCUJ84J2"
      },
      "source": [
        "# Evaluation\n",
        "\n",
        "def sentence_bleu_n(x, weights):\n",
        "  regex = re.compile('[^a-zA-Z]')\n",
        "  #chencherry = SmoothingFunction()\n",
        "  return sentence_bleu(references = [regex.sub(' ', x[1]).strip().split()], \n",
        "                            hypothesis = regex.sub(' ', x[0]).strip().split(),\n",
        "                            weights = weights)\n",
        "\n",
        "def nlp_evaluate(df):\n",
        "\n",
        "  data = df.copy()\n",
        "\n",
        "  # bleu\n",
        "  data['bleu1'] = data[['pred', 'IMPRESSION']].apply(lambda x: sentence_bleu_n(x, [1,0,0,0]), axis=1)\n",
        "  data['bleu2'] = data[['pred', 'IMPRESSION']].apply(lambda x: sentence_bleu_n(x, [0.5,0.5,0,0]), axis=1)\n",
        "  data['bleu3'] = data[['pred', 'IMPRESSION']].apply(lambda x: sentence_bleu_n(x, [0.33,0.33,0.33,0]), axis=1)\n",
        "  data['bleu4'] = data[['pred', 'IMPRESSION']].apply(lambda x: sentence_bleu_n(x, [0.25,0.25,0.25,0.25]), axis=1)\n",
        "\n",
        "  # rogue\n",
        "  rouge = Rouge()\n",
        "  rogue_list = data[['pred', 'IMPRESSION']].apply(lambda x: rouge.get_scores(hyps = x[0], refs = x[1], avg = False)[0], axis = 1)\n",
        "  rogue_df = pd.json_normalize(rogue_list)\n",
        "  data = pd.concat([data, rogue_df], axis = 1)\n",
        "\n",
        "  return data\n"
      ],
      "execution_count": null,
      "outputs": []
    },
    {
      "cell_type": "code",
      "metadata": {
        "id": "UhwEko2jgZ8h"
      },
      "source": [
        "def chunks(df, n):\n",
        "    \"\"\"Yield successive n-sized chunks from lst.\"\"\"\n",
        "    for i in range(0, len(lst), n):\n",
        "        yield df.iloc[i:i + n,:]"
      ],
      "execution_count": null,
      "outputs": []
    },
    {
      "cell_type": "code",
      "metadata": {
        "id": "qsLSEv3M_NMa"
      },
      "source": [
        "impression_max_len = 54\n",
        "#impression_min_len = 5"
      ],
      "execution_count": null,
      "outputs": []
    },
    {
      "cell_type": "code",
      "metadata": {
        "id": "5DKMgEmQ8Wlo",
        "colab": {
          "base_uri": "https://localhost:8080/",
          "height": 265,
          "referenced_widgets": [
            "be2665e87f45493e9d2382cac1f863bb",
            "5663eb2af00c4859a272659b6ccae122",
            "3b94a24eb0d84e15965d845593438dfb",
            "5e974c76cd2649479e5ff4f6156ec1f2",
            "e69594f5050247dda987294f2356a3b0",
            "f47f895f1ef841d5ad15cb9be49e7b1e",
            "37c635e284d24ba3ac82cc1c1bee27f1",
            "45a19c3ff8a249c8a4941e55b58a4e79",
            "4f98d0b69bdc4ebc8c5f1443d7ba7c89",
            "8d008caddf4e4149a61f358835543cc4",
            "25d1b0d7163043b2b28b3f8cf40006a1",
            "c6d7be3ebf68416b93a133e4e33a5b40",
            "cdf4cd61f548452abd5c3da74d04bae5",
            "3571808fdccf4a89869a33e8d814188a",
            "e140a2eabe2a45d287f3c90192652281",
            "b42fc9b0777a4cff805c3d5a9743df3b",
            "9595597aeacb4bd0aeb7d3afb9a71982",
            "36c6fe6c1b564c96934b20c70274d076",
            "6f94c5068ec3449e99dc34f1ae8348d6",
            "4ebf268d200447ff86b39d077b9e2d1b",
            "e0f4adb630a84bf48e99c99742562fe6",
            "0bd538d6185242c6be8a780e732b87ae",
            "e268d6ae88a541d2b7123ccf05062555",
            "815f96e02d9e49e2879c876b90dfd70a",
            "7f1e423eac41489e86f40e742fc6241b",
            "65e8ff0132244aa5bc1fd2be51e3ba44",
            "d12954a3f6af452399f57600e82e3244",
            "fa29402fd58141ee9e4d6e51856ef4b7",
            "2bab90f69e2d40488c5171b74f3c2ce4",
            "4d9120271d664642a4457aae847c23f5",
            "4aac813386ea489ab3c7a1c74a470a17",
            "f40d95f392814c7fa9cd333d8c78ca48",
            "aed97eb0298b4d06b12fa344b97cf080",
            "3aa310a0375b42da997918dcb7b11ab0",
            "b5d547e1206b4f17ae349b82a24a5376",
            "64f3fb83f736458199dd52131e12100f",
            "fe62d29532314461aa594447015d6ddc",
            "6e695cba29f9448b99d6db85a0bbc1ac",
            "10bc5704185a4a5a96519cb126457ebe",
            "4c2de4c07eee46fc91a54d4be729c641"
          ]
        },
        "outputId": "dfa783a8-3a09-4158-8036-55b1969a159d"
      },
      "source": [
        "# Load pre-trained models\n",
        "summarizer = pipeline(\"summarization\", model='facebook/bart-large-cnn', tokenizer='facebook/bart-large-cnn')"
      ],
      "execution_count": null,
      "outputs": [
        {
          "output_type": "display_data",
          "data": {
            "application/vnd.jupyter.widget-view+json": {
              "model_id": "be2665e87f45493e9d2382cac1f863bb",
              "version_minor": 0,
              "version_major": 2
            },
            "text/plain": [
              "HBox(children=(FloatProgress(value=0.0, description='Downloading', max=1343.0, style=ProgressStyle(description…"
            ]
          },
          "metadata": {
            "tags": []
          }
        },
        {
          "output_type": "stream",
          "text": [
            "\n"
          ],
          "name": "stdout"
        },
        {
          "output_type": "display_data",
          "data": {
            "application/vnd.jupyter.widget-view+json": {
              "model_id": "4f98d0b69bdc4ebc8c5f1443d7ba7c89",
              "version_minor": 0,
              "version_major": 2
            },
            "text/plain": [
              "HBox(children=(FloatProgress(value=0.0, description='Downloading', max=1625270765.0, style=ProgressStyle(descr…"
            ]
          },
          "metadata": {
            "tags": []
          }
        },
        {
          "output_type": "stream",
          "text": [
            "\n"
          ],
          "name": "stdout"
        },
        {
          "output_type": "display_data",
          "data": {
            "application/vnd.jupyter.widget-view+json": {
              "model_id": "9595597aeacb4bd0aeb7d3afb9a71982",
              "version_minor": 0,
              "version_major": 2
            },
            "text/plain": [
              "HBox(children=(FloatProgress(value=0.0, description='Downloading', max=898823.0, style=ProgressStyle(descripti…"
            ]
          },
          "metadata": {
            "tags": []
          }
        },
        {
          "output_type": "stream",
          "text": [
            "\n"
          ],
          "name": "stdout"
        },
        {
          "output_type": "display_data",
          "data": {
            "application/vnd.jupyter.widget-view+json": {
              "model_id": "7f1e423eac41489e86f40e742fc6241b",
              "version_minor": 0,
              "version_major": 2
            },
            "text/plain": [
              "HBox(children=(FloatProgress(value=0.0, description='Downloading', max=456318.0, style=ProgressStyle(descripti…"
            ]
          },
          "metadata": {
            "tags": []
          }
        },
        {
          "output_type": "stream",
          "text": [
            "\n"
          ],
          "name": "stdout"
        },
        {
          "output_type": "display_data",
          "data": {
            "application/vnd.jupyter.widget-view+json": {
              "model_id": "aed97eb0298b4d06b12fa344b97cf080",
              "version_minor": 0,
              "version_major": 2
            },
            "text/plain": [
              "HBox(children=(FloatProgress(value=0.0, description='Downloading', max=1355863.0, style=ProgressStyle(descript…"
            ]
          },
          "metadata": {
            "tags": []
          }
        },
        {
          "output_type": "stream",
          "text": [
            "\n"
          ],
          "name": "stdout"
        }
      ]
    },
    {
      "cell_type": "code",
      "metadata": {
        "id": "5zoa0yKdhR4U"
      },
      "source": [
        "def get_summary(x):\n",
        "  try:\n",
        "    return summarizer(x, \n",
        "                      max_length=impression_max_len,\n",
        "                      do_sample = False)[0]['summary_text']\n",
        "  except:\n",
        "    return None"
      ],
      "execution_count": null,
      "outputs": []
    },
    {
      "cell_type": "code",
      "metadata": {
        "id": "lZpcpcQQidqR"
      },
      "source": [
        "from tqdm import tqdm\n",
        "tqdm.pandas()"
      ],
      "execution_count": null,
      "outputs": []
    },
    {
      "cell_type": "code",
      "metadata": {
        "id": "CX1V-W13rcJj"
      },
      "source": [
        "import warnings\n",
        "warnings.filterwarnings(\"ignore\")"
      ],
      "execution_count": null,
      "outputs": []
    },
    {
      "cell_type": "code",
      "metadata": {
        "id": "0nygC_QolH8i"
      },
      "source": [
        "file_name = 'BART_pred_eval_1105.csv'\n",
        "n = 50\n",
        "pd.DataFrame(columns = ['id', 'FINDINGS', 'IMPRESSION', 'pred']).to_csv(path + file_name, index = False)"
      ],
      "execution_count": null,
      "outputs": []
    },
    {
      "cell_type": "code",
      "metadata": {
        "colab": {
          "base_uri": "https://localhost:8080/"
        },
        "id": "Qz7QQwPxjyFB",
        "outputId": "7633ae10-c161-441d-eb3b-e8cf6667615d"
      },
      "source": [
        "for i in range(50, df.shape[0], n):\n",
        "  df_subset = df.iloc[i:i+n, :]\n",
        "  df_subset['pred'] = df_subset['FINDINGS'].progress_apply(get_summary)\n",
        "  df_subset.to_csv(path + file_name, index = False, mode = 'a', header = False)\n",
        "  print(\"{} done.\".format(i*50 + 50))"
      ],
      "execution_count": null,
      "outputs": [
        {
          "output_type": "stream",
          "text": [
            "  4%|▍         | 2/50 [00:10<04:06,  5.13s/it]Your max_length is set to 54, but you input_length is only 51. You might consider decreasing max_length manually, e.g. summarizer('...', max_length=50)\n",
            "  8%|▊         | 4/50 [00:25<04:44,  6.20s/it]Your max_length is set to 54, but you input_length is only 38. You might consider decreasing max_length manually, e.g. summarizer('...', max_length=50)\n",
            " 12%|█▏        | 6/50 [00:45<06:04,  8.28s/it]Your max_length is set to 54, but you input_length is only 31. You might consider decreasing max_length manually, e.g. summarizer('...', max_length=50)\n",
            " 30%|███       | 15/50 [02:23<07:01, 12.05s/it]Your max_length is set to 54, but you input_length is only 47. You might consider decreasing max_length manually, e.g. summarizer('...', max_length=50)\n",
            " 52%|█████▏    | 26/50 [04:23<04:37, 11.58s/it]Your max_length is set to 54, but you input_length is only 49. You might consider decreasing max_length manually, e.g. summarizer('...', max_length=50)\n",
            " 62%|██████▏   | 31/50 [05:18<03:37, 11.46s/it]Your max_length is set to 54, but you input_length is only 36. You might consider decreasing max_length manually, e.g. summarizer('...', max_length=50)\n",
            " 66%|██████▌   | 33/50 [05:40<03:14, 11.46s/it]Your max_length is set to 54, but you input_length is only 50. You might consider decreasing max_length manually, e.g. summarizer('...', max_length=50)\n",
            " 76%|███████▌  | 38/50 [06:27<01:56,  9.75s/it]Your max_length is set to 54, but you input_length is only 34. You might consider decreasing max_length manually, e.g. summarizer('...', max_length=50)\n",
            " 82%|████████▏ | 41/50 [06:59<01:34, 10.51s/it]Your max_length is set to 54, but you input_length is only 37. You might consider decreasing max_length manually, e.g. summarizer('...', max_length=50)\n",
            " 92%|█████████▏| 46/50 [07:46<00:37,  9.44s/it]Your max_length is set to 54, but you input_length is only 36. You might consider decreasing max_length manually, e.g. summarizer('...', max_length=50)\n",
            " 96%|█████████▌| 48/50 [08:03<00:18,  9.06s/it]Your max_length is set to 54, but you input_length is only 43. You might consider decreasing max_length manually, e.g. summarizer('...', max_length=50)\n",
            "100%|██████████| 50/50 [08:30<00:00, 10.21s/it]\n",
            "  4%|▍         | 2/50 [00:10<04:09,  5.20s/it]Your max_length is set to 54, but you input_length is only 32. You might consider decreasing max_length manually, e.g. summarizer('...', max_length=50)\n",
            "  8%|▊         | 4/50 [00:29<05:38,  7.37s/it]Your max_length is set to 54, but you input_length is only 43. You might consider decreasing max_length manually, e.g. summarizer('...', max_length=50)\n",
            " 14%|█▍        | 7/50 [01:06<08:08, 11.36s/it]Your max_length is set to 54, but you input_length is only 42. You might consider decreasing max_length manually, e.g. summarizer('...', max_length=50)\n",
            " 18%|█▊        | 9/50 [01:27<07:42, 11.29s/it]Your max_length is set to 54, but you input_length is only 48. You might consider decreasing max_length manually, e.g. summarizer('...', max_length=50)\n",
            " 28%|██▊       | 14/50 [02:27<07:14, 12.08s/it]Your max_length is set to 54, but you input_length is only 29. You might consider decreasing max_length manually, e.g. summarizer('...', max_length=50)\n",
            " 36%|███▌      | 18/50 [03:11<06:13, 11.68s/it]Your max_length is set to 54, but you input_length is only 43. You might consider decreasing max_length manually, e.g. summarizer('...', max_length=50)\n",
            " 38%|███▊      | 19/50 [03:19<05:33, 10.77s/it]Your min_length is set to 56, but you input_length is only 20. You might consider decreasing min_length manually, e.g. summarizer('...', min_length=10)\n",
            "Your max_length is set to 54, but you input_length is only 20. You might consider decreasing max_length manually, e.g. summarizer('...', max_length=50)\n",
            " 40%|████      | 20/50 [03:28<05:00, 10.03s/it]Your max_length is set to 54, but you input_length is only 34. You might consider decreasing max_length manually, e.g. summarizer('...', max_length=50)\n",
            " 50%|█████     | 25/50 [04:24<04:32, 10.91s/it]Your max_length is set to 54, but you input_length is only 48. You might consider decreasing max_length manually, e.g. summarizer('...', max_length=50)\n",
            " 58%|█████▊    | 29/50 [05:00<03:20,  9.56s/it]Your min_length is set to 56, but you input_length is only 11. You might consider decreasing min_length manually, e.g. summarizer('...', min_length=10)\n",
            "Your max_length is set to 54, but you input_length is only 11. You might consider decreasing max_length manually, e.g. summarizer('...', max_length=50)\n",
            " 96%|█████████▌| 48/50 [08:47<00:28, 14.33s/it]Your max_length is set to 54, but you input_length is only 53. You might consider decreasing max_length manually, e.g. summarizer('...', max_length=50)\n",
            "100%|██████████| 50/50 [09:05<00:00, 11.63s/it]Your min_length is set to 56, but you input_length is only 26. You might consider decreasing min_length manually, e.g. summarizer('...', min_length=10)\n",
            "Your max_length is set to 54, but you input_length is only 26. You might consider decreasing max_length manually, e.g. summarizer('...', max_length=50)\n",
            "100%|██████████| 50/50 [09:14<00:00, 11.09s/it]\n",
            " 18%|█▊        | 9/50 [01:34<07:34, 11.09s/it]Your max_length is set to 54, but you input_length is only 36. You might consider decreasing max_length manually, e.g. summarizer('...', max_length=50)\n",
            " 24%|██▍       | 12/50 [02:08<07:15, 11.46s/it]Your min_length is set to 56, but you input_length is only 20. You might consider decreasing min_length manually, e.g. summarizer('...', min_length=10)\n",
            "Your max_length is set to 54, but you input_length is only 20. You might consider decreasing max_length manually, e.g. summarizer('...', max_length=50)\n",
            " 26%|██▌       | 13/50 [02:16<06:29, 10.53s/it]Your min_length is set to 56, but you input_length is only 21. You might consider decreasing min_length manually, e.g. summarizer('...', min_length=10)\n",
            "Your max_length is set to 54, but you input_length is only 21. You might consider decreasing max_length manually, e.g. summarizer('...', max_length=50)\n",
            " 42%|████▏     | 21/50 [03:48<05:18, 10.97s/it]Your max_length is set to 54, but you input_length is only 42. You might consider decreasing max_length manually, e.g. summarizer('...', max_length=50)\n",
            " 60%|██████    | 30/50 [05:22<03:30, 10.50s/it]Your max_length is set to 54, but you input_length is only 29. You might consider decreasing max_length manually, e.g. summarizer('...', max_length=50)\n",
            " 62%|██████▏   | 31/50 [05:31<03:07,  9.86s/it]Your min_length is set to 56, but you input_length is only 13. You might consider decreasing min_length manually, e.g. summarizer('...', min_length=10)\n",
            "Your max_length is set to 54, but you input_length is only 13. You might consider decreasing max_length manually, e.g. summarizer('...', max_length=50)\n",
            " 70%|███████   | 35/50 [06:09<02:28,  9.93s/it]Your max_length is set to 54, but you input_length is only 39. You might consider decreasing max_length manually, e.g. summarizer('...', max_length=50)\n",
            " 72%|███████▏  | 36/50 [06:18<02:13,  9.54s/it]Your max_length is set to 54, but you input_length is only 30. You might consider decreasing max_length manually, e.g. summarizer('...', max_length=50)\n",
            " 88%|████████▊ | 44/50 [07:48<01:08, 11.43s/it]Your max_length is set to 54, but you input_length is only 35. You might consider decreasing max_length manually, e.g. summarizer('...', max_length=50)\n",
            "100%|██████████| 50/50 [09:07<00:00, 10.95s/it]\n",
            "  0%|          | 0/50 [00:00<?, ?it/s]Your max_length is set to 54, but you input_length is only 33. You might consider decreasing max_length manually, e.g. summarizer('...', max_length=50)\n",
            "  4%|▍         | 2/50 [00:08<03:22,  4.23s/it]Your max_length is set to 54, but you input_length is only 46. You might consider decreasing max_length manually, e.g. summarizer('...', max_length=50)\n",
            " 10%|█         | 5/50 [00:37<05:51,  7.81s/it]Your min_length is set to 56, but you input_length is only 9. You might consider decreasing min_length manually, e.g. summarizer('...', min_length=10)\n",
            "Your max_length is set to 54, but you input_length is only 9. You might consider decreasing max_length manually, e.g. summarizer('...', max_length=50)\n",
            " 30%|███       | 15/50 [02:23<06:20, 10.87s/it]Your max_length is set to 54, but you input_length is only 51. You might consider decreasing max_length manually, e.g. summarizer('...', max_length=50)\n",
            " 32%|███▏      | 16/50 [02:32<05:47, 10.23s/it]Your max_length is set to 54, but you input_length is only 44. You might consider decreasing max_length manually, e.g. summarizer('...', max_length=50)\n",
            " 80%|████████  | 40/50 [07:11<01:57, 11.77s/it]Your max_length is set to 54, but you input_length is only 48. You might consider decreasing max_length manually, e.g. summarizer('...', max_length=50)\n",
            " 88%|████████▊ | 44/50 [07:57<01:13, 12.21s/it]Your max_length is set to 54, but you input_length is only 28. You might consider decreasing max_length manually, e.g. summarizer('...', max_length=50)\n",
            "100%|██████████| 50/50 [09:09<00:00, 10.98s/it]\n",
            "  0%|          | 0/50 [00:00<?, ?it/s]Your max_length is set to 54, but you input_length is only 49. You might consider decreasing max_length manually, e.g. summarizer('...', max_length=50)\n",
            "  4%|▍         | 2/50 [00:08<03:30,  4.38s/it]Your min_length is set to 56, but you input_length is only 21. You might consider decreasing min_length manually, e.g. summarizer('...', min_length=10)\n",
            "Your max_length is set to 54, but you input_length is only 21. You might consider decreasing max_length manually, e.g. summarizer('...', max_length=50)\n",
            " 32%|███▏      | 16/50 [02:40<06:24, 11.32s/it]Your min_length is set to 56, but you input_length is only 23. You might consider decreasing min_length manually, e.g. summarizer('...', min_length=10)\n",
            "Your max_length is set to 54, but you input_length is only 23. You might consider decreasing max_length manually, e.g. summarizer('...', max_length=50)\n",
            " 34%|███▍      | 17/50 [02:49<05:44, 10.45s/it]Your min_length is set to 56, but you input_length is only 23. You might consider decreasing min_length manually, e.g. summarizer('...', min_length=10)\n",
            "Your max_length is set to 54, but you input_length is only 23. You might consider decreasing max_length manually, e.g. summarizer('...', max_length=50)\n",
            " 46%|████▌     | 23/50 [03:50<05:02, 11.22s/it]Your min_length is set to 56, but you input_length is only 27. You might consider decreasing min_length manually, e.g. summarizer('...', min_length=10)\n",
            "Your max_length is set to 54, but you input_length is only 27. You might consider decreasing max_length manually, e.g. summarizer('...', max_length=50)\n",
            " 54%|█████▍    | 27/50 [04:32<04:09, 10.86s/it]Your min_length is set to 56, but you input_length is only 18. You might consider decreasing min_length manually, e.g. summarizer('...', min_length=10)\n",
            "Your max_length is set to 54, but you input_length is only 18. You might consider decreasing max_length manually, e.g. summarizer('...', max_length=50)\n",
            " 76%|███████▌  | 38/50 [06:37<02:06, 10.55s/it]Your max_length is set to 54, but you input_length is only 45. You might consider decreasing max_length manually, e.g. summarizer('...', max_length=50)\n",
            " 86%|████████▌ | 43/50 [07:32<01:20, 11.54s/it]Your max_length is set to 54, but you input_length is only 40. You might consider decreasing max_length manually, e.g. summarizer('...', max_length=50)\n",
            " 92%|█████████▏| 46/50 [07:59<00:39,  9.84s/it]Your min_length is set to 56, but you input_length is only 22. You might consider decreasing min_length manually, e.g. summarizer('...', min_length=10)\n",
            "Your max_length is set to 54, but you input_length is only 22. You might consider decreasing max_length manually, e.g. summarizer('...', max_length=50)\n",
            "100%|██████████| 50/50 [08:46<00:00, 11.50s/it]Your max_length is set to 54, but you input_length is only 44. You might consider decreasing max_length manually, e.g. summarizer('...', max_length=50)\n",
            "100%|██████████| 50/50 [08:54<00:00, 10.69s/it]\n",
            "  4%|▍         | 2/50 [00:11<04:30,  5.63s/it]Your max_length is set to 54, but you input_length is only 42. You might consider decreasing max_length manually, e.g. summarizer('...', max_length=50)\n",
            " 20%|██        | 10/50 [01:41<07:00, 10.52s/it]Your max_length is set to 54, but you input_length is only 39. You might consider decreasing max_length manually, e.g. summarizer('...', max_length=50)\n",
            " 26%|██▌       | 13/50 [02:17<07:19, 11.87s/it]Your max_length is set to 54, but you input_length is only 49. You might consider decreasing max_length manually, e.g. summarizer('...', max_length=50)\n",
            " 48%|████▊     | 24/50 [04:25<04:55, 11.36s/it]Your max_length is set to 54, but you input_length is only 31. You might consider decreasing max_length manually, e.g. summarizer('...', max_length=50)\n",
            " 52%|█████▏    | 26/50 [04:44<04:06, 10.27s/it]Your max_length is set to 54, but you input_length is only 32. You might consider decreasing max_length manually, e.g. summarizer('...', max_length=50)\n",
            " 58%|█████▊    | 29/50 [05:17<03:46, 10.81s/it]Your min_length is set to 56, but you input_length is only 26. You might consider decreasing min_length manually, e.g. summarizer('...', min_length=10)\n",
            "Your max_length is set to 54, but you input_length is only 26. You might consider decreasing max_length manually, e.g. summarizer('...', max_length=50)\n",
            " 64%|██████▍   | 32/50 [05:46<03:03, 10.18s/it]Your max_length is set to 54, but you input_length is only 33. You might consider decreasing max_length manually, e.g. summarizer('...', max_length=50)\n",
            " 72%|███████▏  | 36/50 [06:26<02:22, 10.16s/it]Your min_length is set to 56, but you input_length is only 22. You might consider decreasing min_length manually, e.g. summarizer('...', min_length=10)\n",
            "Your max_length is set to 54, but you input_length is only 22. You might consider decreasing max_length manually, e.g. summarizer('...', max_length=50)\n",
            " 74%|███████▍  | 37/50 [06:35<02:07,  9.79s/it]Your max_length is set to 54, but you input_length is only 45. You might consider decreasing max_length manually, e.g. summarizer('...', max_length=50)\n",
            " 92%|█████████▏| 46/50 [08:16<00:42, 10.71s/it]Your max_length is set to 54, but you input_length is only 51. You might consider decreasing max_length manually, e.g. summarizer('...', max_length=50)\n",
            " 96%|█████████▌| 48/50 [08:36<00:20, 10.20s/it]Your max_length is set to 54, but you input_length is only 38. You might consider decreasing max_length manually, e.g. summarizer('...', max_length=50)\n",
            "100%|██████████| 50/50 [09:09<00:00, 11.00s/it]\n",
            " 10%|█         | 5/50 [00:43<06:49,  9.09s/it]Your min_length is set to 56, but you input_length is only 18. You might consider decreasing min_length manually, e.g. summarizer('...', min_length=10)\n",
            "Your max_length is set to 54, but you input_length is only 18. You might consider decreasing max_length manually, e.g. summarizer('...', max_length=50)\n",
            " 54%|█████▍    | 27/50 [05:01<04:40, 12.21s/it]Your max_length is set to 54, but you input_length is only 40. You might consider decreasing max_length manually, e.g. summarizer('...', max_length=50)\n",
            " 70%|███████   | 35/50 [06:32<02:53, 11.59s/it]Your min_length is set to 56, but you input_length is only 26. You might consider decreasing min_length manually, e.g. summarizer('...', min_length=10)\n",
            "Your max_length is set to 54, but you input_length is only 26. You might consider decreasing max_length manually, e.g. summarizer('...', max_length=50)\n",
            " 84%|████████▍ | 42/50 [07:56<01:38, 12.34s/it]Your max_length is set to 54, but you input_length is only 32. You might consider decreasing max_length manually, e.g. summarizer('...', max_length=50)\n",
            "100%|██████████| 50/50 [09:33<00:00, 11.48s/it]\n",
            "  4%|▍         | 2/50 [00:15<06:03,  7.58s/it]Your min_length is set to 56, but you input_length is only 8. You might consider decreasing min_length manually, e.g. summarizer('...', min_length=10)\n",
            "Your max_length is set to 54, but you input_length is only 8. You might consider decreasing max_length manually, e.g. summarizer('...', max_length=50)\n",
            " 18%|█▊        | 9/50 [01:27<06:52, 10.07s/it]Your max_length is set to 54, but you input_length is only 40. You might consider decreasing max_length manually, e.g. summarizer('...', max_length=50)\n",
            " 22%|██▏       | 11/50 [01:46<06:20,  9.76s/it]Your max_length is set to 54, but you input_length is only 45. You might consider decreasing max_length manually, e.g. summarizer('...', max_length=50)\n",
            " 50%|█████     | 25/50 [04:15<04:18, 10.35s/it]Your max_length is set to 54, but you input_length is only 42. You might consider decreasing max_length manually, e.g. summarizer('...', max_length=50)\n",
            " 54%|█████▍    | 27/50 [04:34<03:47,  9.88s/it]Your max_length is set to 54, but you input_length is only 41. You might consider decreasing max_length manually, e.g. summarizer('...', max_length=50)\n",
            " 56%|█████▌    | 28/50 [04:42<03:30,  9.55s/it]Your min_length is set to 56, but you input_length is only 19. You might consider decreasing min_length manually, e.g. summarizer('...', min_length=10)\n",
            "Your max_length is set to 54, but you input_length is only 19. You might consider decreasing max_length manually, e.g. summarizer('...', max_length=50)\n",
            " 80%|████████  | 40/50 [06:55<01:44, 10.44s/it]Your max_length is set to 54, but you input_length is only 45. You might consider decreasing max_length manually, e.g. summarizer('...', max_length=50)\n",
            " 84%|████████▍ | 42/50 [07:19<01:32, 11.55s/it]Your max_length is set to 54, but you input_length is only 29. You might consider decreasing max_length manually, e.g. summarizer('...', max_length=50)\n",
            " 88%|████████▊ | 44/50 [07:37<01:02, 10.40s/it]Your max_length is set to 54, but you input_length is only 53. You might consider decreasing max_length manually, e.g. summarizer('...', max_length=50)\n",
            " 90%|█████████ | 45/50 [07:46<00:49,  9.98s/it]Your min_length is set to 56, but you input_length is only 18. You might consider decreasing min_length manually, e.g. summarizer('...', min_length=10)\n",
            "Your max_length is set to 54, but you input_length is only 18. You might consider decreasing max_length manually, e.g. summarizer('...', max_length=50)\n",
            "100%|██████████| 50/50 [08:52<00:00, 10.66s/it]\n",
            "  6%|▌         | 3/50 [00:20<05:12,  6.65s/it]Your max_length is set to 54, but you input_length is only 39. You might consider decreasing max_length manually, e.g. summarizer('...', max_length=50)\n",
            " 32%|███▏      | 16/50 [02:45<06:06, 10.78s/it]Your max_length is set to 54, but you input_length is only 48. You might consider decreasing max_length manually, e.g. summarizer('...', max_length=50)\n",
            " 36%|███▌      | 18/50 [03:08<05:58, 11.20s/it]Your max_length is set to 54, but you input_length is only 44. You might consider decreasing max_length manually, e.g. summarizer('...', max_length=50)\n",
            " 64%|██████▍   | 32/50 [05:37<03:20, 11.15s/it]Your max_length is set to 54, but you input_length is only 38. You might consider decreasing max_length manually, e.g. summarizer('...', max_length=50)\n",
            " 66%|██████▌   | 33/50 [05:46<02:57, 10.43s/it]Your max_length is set to 54, but you input_length is only 49. You might consider decreasing max_length manually, e.g. summarizer('...', max_length=50)\n",
            " 70%|███████   | 35/50 [06:05<02:30, 10.03s/it]Your max_length is set to 54, but you input_length is only 30. You might consider decreasing max_length manually, e.g. summarizer('...', max_length=50)\n",
            "100%|██████████| 50/50 [09:07<00:00, 10.94s/it]\n",
            " 34%|███▍      | 17/50 [02:49<05:38, 10.27s/it]Your max_length is set to 54, but you input_length is only 40. You might consider decreasing max_length manually, e.g. summarizer('...', max_length=50)\n",
            " 72%|███████▏  | 36/50 [06:07<02:29, 10.67s/it]Your max_length is set to 54, but you input_length is only 42. You might consider decreasing max_length manually, e.g. summarizer('...', max_length=50)\n",
            " 82%|████████▏ | 41/50 [07:10<01:55, 12.81s/it]Your min_length is set to 56, but you input_length is only 22. You might consider decreasing min_length manually, e.g. summarizer('...', min_length=10)\n",
            "Your max_length is set to 54, but you input_length is only 22. You might consider decreasing max_length manually, e.g. summarizer('...', max_length=50)\n",
            " 84%|████████▍ | 42/50 [07:19<01:32, 11.50s/it]Your max_length is set to 54, but you input_length is only 31. You might consider decreasing max_length manually, e.g. summarizer('...', max_length=50)\n",
            "100%|██████████| 50/50 [08:59<00:00, 10.79s/it]\n",
            " 20%|██        | 10/50 [01:34<06:27,  9.69s/it]Your max_length is set to 54, but you input_length is only 40. You might consider decreasing max_length manually, e.g. summarizer('...', max_length=50)\n",
            " 22%|██▏       | 11/50 [01:43<06:08,  9.45s/it]Your max_length is set to 54, but you input_length is only 51. You might consider decreasing max_length manually, e.g. summarizer('...', max_length=50)\n",
            " 26%|██▌       | 13/50 [02:06<06:37, 10.75s/it]Your max_length is set to 54, but you input_length is only 50. You might consider decreasing max_length manually, e.g. summarizer('...', max_length=50)\n",
            " 28%|██▊       | 14/50 [02:15<06:05, 10.16s/it]Your max_length is set to 54, but you input_length is only 30. You might consider decreasing max_length manually, e.g. summarizer('...', max_length=50)\n",
            " 42%|████▏     | 21/50 [03:28<05:01, 10.38s/it]Your min_length is set to 56, but you input_length is only 20. You might consider decreasing min_length manually, e.g. summarizer('...', min_length=10)\n",
            "Your max_length is set to 54, but you input_length is only 20. You might consider decreasing max_length manually, e.g. summarizer('...', max_length=50)\n",
            " 62%|██████▏   | 31/50 [05:20<03:26, 10.84s/it]Your max_length is set to 54, but you input_length is only 33. You might consider decreasing max_length manually, e.g. summarizer('...', max_length=50)\n",
            "100%|██████████| 50/50 [09:02<00:00, 10.86s/it]\n",
            " 24%|██▍       | 12/50 [02:05<07:12, 11.37s/it]Your min_length is set to 56, but you input_length is only 20. You might consider decreasing min_length manually, e.g. summarizer('...', min_length=10)\n",
            "Your max_length is set to 54, but you input_length is only 20. You might consider decreasing max_length manually, e.g. summarizer('...', max_length=50)\n",
            " 26%|██▌       | 13/50 [02:14<06:27, 10.48s/it]Your min_length is set to 56, but you input_length is only 26. You might consider decreasing min_length manually, e.g. summarizer('...', min_length=10)\n",
            "Your max_length is set to 54, but you input_length is only 26. You might consider decreasing max_length manually, e.g. summarizer('...', max_length=50)\n",
            " 32%|███▏      | 16/50 [02:41<05:32,  9.79s/it]Your max_length is set to 54, but you input_length is only 49. You might consider decreasing max_length manually, e.g. summarizer('...', max_length=50)\n",
            " 42%|████▏     | 21/50 [03:36<05:20, 11.04s/it]Your max_length is set to 54, but you input_length is only 45. You might consider decreasing max_length manually, e.g. summarizer('...', max_length=50)\n",
            " 52%|█████▏    | 26/50 [04:24<03:52,  9.70s/it]Your max_length is set to 54, but you input_length is only 50. You might consider decreasing max_length manually, e.g. summarizer('...', max_length=50)\n",
            " 60%|██████    | 30/50 [05:07<03:30, 10.53s/it]Your min_length is set to 56, but you input_length is only 25. You might consider decreasing min_length manually, e.g. summarizer('...', min_length=10)\n",
            "Your max_length is set to 54, but you input_length is only 25. You might consider decreasing max_length manually, e.g. summarizer('...', max_length=50)\n",
            " 68%|██████▊   | 34/50 [05:51<03:01, 11.32s/it]Your max_length is set to 54, but you input_length is only 46. You might consider decreasing max_length manually, e.g. summarizer('...', max_length=50)\n",
            " 74%|███████▍  | 37/50 [06:25<02:28, 11.40s/it]Your max_length is set to 54, but you input_length is only 38. You might consider decreasing max_length manually, e.g. summarizer('...', max_length=50)\n",
            " 80%|████████  | 40/50 [06:56<01:48, 10.84s/it]Your min_length is set to 56, but you input_length is only 9. You might consider decreasing min_length manually, e.g. summarizer('...', min_length=10)\n",
            "Your max_length is set to 54, but you input_length is only 9. You might consider decreasing max_length manually, e.g. summarizer('...', max_length=50)\n",
            " 82%|████████▏ | 41/50 [07:04<01:30, 10.02s/it]Your min_length is set to 56, but you input_length is only 24. You might consider decreasing min_length manually, e.g. summarizer('...', min_length=10)\n",
            "Your max_length is set to 54, but you input_length is only 24. You might consider decreasing max_length manually, e.g. summarizer('...', max_length=50)\n",
            " 84%|████████▍ | 42/50 [07:12<01:16,  9.52s/it]Your max_length is set to 54, but you input_length is only 39. You might consider decreasing max_length manually, e.g. summarizer('...', max_length=50)\n",
            " 96%|█████████▌| 48/50 [08:19<00:22, 11.44s/it]Your max_length is set to 54, but you input_length is only 41. You might consider decreasing max_length manually, e.g. summarizer('...', max_length=50)\n",
            "100%|██████████| 50/50 [08:42<00:00, 11.71s/it]Your max_length is set to 54, but you input_length is only 46. You might consider decreasing max_length manually, e.g. summarizer('...', max_length=50)\n",
            "100%|██████████| 50/50 [08:51<00:00, 10.63s/it]\n",
            " 44%|████▍     | 22/50 [03:54<05:15, 11.26s/it]Your max_length is set to 54, but you input_length is only 35. You might consider decreasing max_length manually, e.g. summarizer('...', max_length=50)\n",
            " 64%|██████▍   | 32/50 [05:52<03:27, 11.51s/it]Your max_length is set to 54, but you input_length is only 30. You might consider decreasing max_length manually, e.g. summarizer('...', max_length=50)\n",
            " 68%|██████▊   | 34/50 [06:10<02:41, 10.10s/it]Your max_length is set to 54, but you input_length is only 31. You might consider decreasing max_length manually, e.g. summarizer('...', max_length=50)\n",
            " 84%|████████▍ | 42/50 [07:32<01:27, 10.92s/it]Your max_length is set to 54, but you input_length is only 28. You might consider decreasing max_length manually, e.g. summarizer('...', max_length=50)\n",
            " 88%|████████▊ | 44/50 [07:52<01:04, 10.73s/it]Your max_length is set to 54, but you input_length is only 40. You might consider decreasing max_length manually, e.g. summarizer('...', max_length=50)\n",
            " 90%|█████████ | 45/50 [08:01<00:50, 10.11s/it]Your max_length is set to 54, but you input_length is only 48. You might consider decreasing max_length manually, e.g. summarizer('...', max_length=50)\n",
            "100%|██████████| 50/50 [09:09<00:00, 10.99s/it]\n",
            "  6%|▌         | 3/50 [00:19<04:51,  6.21s/it]Your max_length is set to 54, but you input_length is only 43. You might consider decreasing max_length manually, e.g. summarizer('...', max_length=50)\n",
            " 12%|█▏        | 6/50 [00:48<06:20,  8.64s/it]Your max_length is set to 54, but you input_length is only 50. You might consider decreasing max_length manually, e.g. summarizer('...', max_length=50)\n",
            " 16%|█▌        | 8/50 [01:06<06:20,  9.06s/it]Your max_length is set to 54, but you input_length is only 43. You might consider decreasing max_length manually, e.g. summarizer('...', max_length=50)\n",
            " 58%|█████▊    | 29/50 [04:54<03:38, 10.38s/it]Your min_length is set to 56, but you input_length is only 19. You might consider decreasing min_length manually, e.g. summarizer('...', min_length=10)\n",
            "Your max_length is set to 54, but you input_length is only 19. You might consider decreasing max_length manually, e.g. summarizer('...', max_length=50)\n",
            " 76%|███████▌  | 38/50 [06:34<02:20, 11.68s/it]Your max_length is set to 54, but you input_length is only 32. You might consider decreasing max_length manually, e.g. summarizer('...', max_length=50)\n",
            "100%|██████████| 50/50 [09:08<00:00, 10.96s/it]\n",
            "  0%|          | 0/50 [00:00<?, ?it/s]Your max_length is set to 54, but you input_length is only 41. You might consider decreasing max_length manually, e.g. summarizer('...', max_length=50)\n",
            " 18%|█▊        | 9/50 [01:19<06:58, 10.21s/it]Your max_length is set to 54, but you input_length is only 42. You might consider decreasing max_length manually, e.g. summarizer('...', max_length=50)\n",
            " 26%|██▌       | 13/50 [01:54<05:45,  9.33s/it]Your max_length is set to 54, but you input_length is only 50. You might consider decreasing max_length manually, e.g. summarizer('...', max_length=50)\n",
            " 40%|████      | 20/50 [03:13<05:28, 10.96s/it]Your max_length is set to 54, but you input_length is only 42. You might consider decreasing max_length manually, e.g. summarizer('...', max_length=50)\n",
            " 44%|████▍     | 22/50 [03:31<04:39,  9.97s/it]Your max_length is set to 54, but you input_length is only 46. You might consider decreasing max_length manually, e.g. summarizer('...', max_length=50)\n",
            " 50%|█████     | 25/50 [04:05<04:46, 11.48s/it]Your max_length is set to 54, but you input_length is only 46. You might consider decreasing max_length manually, e.g. summarizer('...', max_length=50)\n",
            " 72%|███████▏  | 36/50 [05:54<02:18,  9.92s/it]Your max_length is set to 54, but you input_length is only 31. You might consider decreasing max_length manually, e.g. summarizer('...', max_length=50)\n",
            " 74%|███████▍  | 37/50 [06:02<02:03,  9.46s/it]Your max_length is set to 54, but you input_length is only 48. You might consider decreasing max_length manually, e.g. summarizer('...', max_length=50)\n",
            " 78%|███████▊  | 39/50 [06:20<01:41,  9.26s/it]Your max_length is set to 54, but you input_length is only 45. You might consider decreasing max_length manually, e.g. summarizer('...', max_length=50)\n",
            " 84%|████████▍ | 42/50 [06:48<01:15,  9.44s/it]Your max_length is set to 54, but you input_length is only 38. You might consider decreasing max_length manually, e.g. summarizer('...', max_length=50)\n",
            " 92%|█████████▏| 46/50 [07:27<00:38,  9.57s/it]Your max_length is set to 54, but you input_length is only 47. You might consider decreasing max_length manually, e.g. summarizer('...', max_length=50)\n",
            "100%|██████████| 50/50 [08:15<00:00, 12.27s/it]Your min_length is set to 56, but you input_length is only 26. You might consider decreasing min_length manually, e.g. summarizer('...', min_length=10)\n",
            "Your max_length is set to 54, but you input_length is only 26. You might consider decreasing max_length manually, e.g. summarizer('...', max_length=50)\n",
            "100%|██████████| 50/50 [08:24<00:00, 10.08s/it]\n",
            " 62%|██████▏   | 31/50 [05:37<03:53, 12.28s/it]Your min_length is set to 56, but you input_length is only 21. You might consider decreasing min_length manually, e.g. summarizer('...', min_length=10)\n",
            "Your max_length is set to 54, but you input_length is only 21. You might consider decreasing max_length manually, e.g. summarizer('...', max_length=50)\n",
            " 72%|███████▏  | 36/50 [06:25<02:24, 10.29s/it]Your min_length is set to 56, but you input_length is only 27. You might consider decreasing min_length manually, e.g. summarizer('...', min_length=10)\n",
            "Your max_length is set to 54, but you input_length is only 27. You might consider decreasing max_length manually, e.g. summarizer('...', max_length=50)\n",
            " 74%|███████▍  | 37/50 [06:34<02:06,  9.72s/it]Your max_length is set to 54, but you input_length is only 41. You might consider decreasing max_length manually, e.g. summarizer('...', max_length=50)\n",
            " 84%|████████▍ | 42/50 [07:26<01:23, 10.40s/it]Your max_length is set to 54, but you input_length is only 29. You might consider decreasing max_length manually, e.g. summarizer('...', max_length=50)\n",
            " 96%|█████████▌| 48/50 [08:25<00:20, 10.31s/it]Your max_length is set to 54, but you input_length is only 46. You might consider decreasing max_length manually, e.g. summarizer('...', max_length=50)\n",
            "100%|██████████| 50/50 [08:57<00:00, 10.75s/it]\n",
            " 24%|██▍       | 12/50 [02:07<06:46, 10.70s/it]Your max_length is set to 54, but you input_length is only 51. You might consider decreasing max_length manually, e.g. summarizer('...', max_length=50)\n",
            " 26%|██▌       | 13/50 [02:16<06:12, 10.08s/it]Your max_length is set to 54, but you input_length is only 37. You might consider decreasing max_length manually, e.g. summarizer('...', max_length=50)\n",
            " 28%|██▊       | 14/50 [02:24<05:45,  9.59s/it]Your max_length is set to 54, but you input_length is only 43. You might consider decreasing max_length manually, e.g. summarizer('...', max_length=50)\n",
            " 34%|███▍      | 17/50 [02:54<05:25,  9.88s/it]Your min_length is set to 56, but you input_length is only 24. You might consider decreasing min_length manually, e.g. summarizer('...', min_length=10)\n",
            "Your max_length is set to 54, but you input_length is only 24. You might consider decreasing max_length manually, e.g. summarizer('...', max_length=50)\n",
            " 44%|████▍     | 22/50 [03:41<04:25,  9.47s/it]Your max_length is set to 54, but you input_length is only 28. You might consider decreasing max_length manually, e.g. summarizer('...', max_length=50)\n",
            " 74%|███████▍  | 37/50 [06:15<02:14, 10.31s/it]Your max_length is set to 54, but you input_length is only 45. You might consider decreasing max_length manually, e.g. summarizer('...', max_length=50)\n",
            " 80%|████████  | 40/50 [06:46<01:46, 10.61s/it]Your max_length is set to 54, but you input_length is only 53. You might consider decreasing max_length manually, e.g. summarizer('...', max_length=50)\n",
            " 98%|█████████▊| 49/50 [08:27<00:11, 11.99s/it]Your max_length is set to 54, but you input_length is only 35. You might consider decreasing max_length manually, e.g. summarizer('...', max_length=50)\n",
            "100%|██████████| 50/50 [08:44<00:00, 10.50s/it]\n",
            " 40%|████      | 20/50 [03:36<05:57, 11.91s/it]Your max_length is set to 54, but you input_length is only 33. You might consider decreasing max_length manually, e.g. summarizer('...', max_length=50)\n",
            " 46%|████▌     | 23/50 [04:04<04:41, 10.42s/it]Your max_length is set to 54, but you input_length is only 47. You might consider decreasing max_length manually, e.g. summarizer('...', max_length=50)\n",
            " 48%|████▊     | 24/50 [04:13<04:17,  9.89s/it]Your max_length is set to 54, but you input_length is only 42. You might consider decreasing max_length manually, e.g. summarizer('...', max_length=50)\n",
            " 52%|█████▏    | 26/50 [04:38<04:36, 11.53s/it]Your max_length is set to 54, but you input_length is only 36. You might consider decreasing max_length manually, e.g. summarizer('...', max_length=50)\n",
            " 68%|██████▊   | 34/50 [05:57<02:51, 10.75s/it]Your max_length is set to 54, but you input_length is only 39. You might consider decreasing max_length manually, e.g. summarizer('...', max_length=50)\n",
            " 74%|███████▍  | 37/50 [06:27<02:14, 10.37s/it]Your max_length is set to 54, but you input_length is only 52. You might consider decreasing max_length manually, e.g. summarizer('...', max_length=50)\n",
            " 88%|████████▊ | 44/50 [07:40<01:03, 10.66s/it]Your max_length is set to 54, but you input_length is only 32. You might consider decreasing max_length manually, e.g. summarizer('...', max_length=50)\n",
            "100%|██████████| 50/50 [08:45<00:00, 10.51s/it]\n",
            " 18%|█▊        | 9/50 [01:32<07:37, 11.15s/it]Your max_length is set to 54, but you input_length is only 48. You might consider decreasing max_length manually, e.g. summarizer('...', max_length=50)\n",
            " 52%|█████▏    | 26/50 [04:32<04:14, 10.60s/it]Your max_length is set to 54, but you input_length is only 48. You might consider decreasing max_length manually, e.g. summarizer('...', max_length=50)\n",
            " 64%|██████▍   | 32/50 [05:35<03:17, 10.98s/it]Your max_length is set to 54, but you input_length is only 30. You might consider decreasing max_length manually, e.g. summarizer('...', max_length=50)\n",
            " 78%|███████▊  | 39/50 [06:47<01:55, 10.52s/it]Your min_length is set to 56, but you input_length is only 16. You might consider decreasing min_length manually, e.g. summarizer('...', min_length=10)\n",
            "Your max_length is set to 54, but you input_length is only 16. You might consider decreasing max_length manually, e.g. summarizer('...', max_length=50)\n",
            " 82%|████████▏ | 41/50 [07:07<01:31, 10.22s/it]Your max_length is set to 54, but you input_length is only 41. You might consider decreasing max_length manually, e.g. summarizer('...', max_length=50)\n",
            " 84%|████████▍ | 42/50 [07:15<01:17,  9.70s/it]Your max_length is set to 54, but you input_length is only 52. You might consider decreasing max_length manually, e.g. summarizer('...', max_length=50)\n",
            "100%|██████████| 50/50 [08:37<00:00, 10.34s/it]\n",
            "  8%|▊         | 4/50 [00:30<06:00,  7.84s/it]Your max_length is set to 54, but you input_length is only 30. You might consider decreasing max_length manually, e.g. summarizer('...', max_length=50)\n",
            " 12%|█▏        | 6/50 [00:51<06:44,  9.20s/it]Your max_length is set to 54, but you input_length is only 41. You might consider decreasing max_length manually, e.g. summarizer('...', max_length=50)\n",
            " 16%|█▌        | 8/50 [01:11<06:52,  9.82s/it]Your max_length is set to 54, but you input_length is only 44. You might consider decreasing max_length manually, e.g. summarizer('...', max_length=50)\n",
            " 18%|█▊        | 9/50 [01:20<06:27,  9.46s/it]Your min_length is set to 56, but you input_length is only 9. You might consider decreasing min_length manually, e.g. summarizer('...', min_length=10)\n",
            "Your max_length is set to 54, but you input_length is only 9. You might consider decreasing max_length manually, e.g. summarizer('...', max_length=50)\n",
            " 28%|██▊       | 14/50 [02:14<06:29, 10.83s/it]Your max_length is set to 54, but you input_length is only 48. You might consider decreasing max_length manually, e.g. summarizer('...', max_length=50)\n",
            " 42%|████▏     | 21/50 [03:25<05:07, 10.61s/it]Your max_length is set to 54, but you input_length is only 40. You might consider decreasing max_length manually, e.g. summarizer('...', max_length=50)\n",
            " 72%|███████▏  | 36/50 [06:13<02:35, 11.13s/it]Your max_length is set to 54, but you input_length is only 32. You might consider decreasing max_length manually, e.g. summarizer('...', max_length=50)\n",
            "100%|██████████| 50/50 [08:49<00:00, 11.56s/it]Your min_length is set to 56, but you input_length is only 17. You might consider decreasing min_length manually, e.g. summarizer('...', min_length=10)\n",
            "Your max_length is set to 54, but you input_length is only 17. You might consider decreasing max_length manually, e.g. summarizer('...', max_length=50)\n",
            "100%|██████████| 50/50 [08:58<00:00, 10.77s/it]\n",
            "  0%|          | 0/50 [00:00<?, ?it/s]Your max_length is set to 54, but you input_length is only 47. You might consider decreasing max_length manually, e.g. summarizer('...', max_length=50)\n",
            "  6%|▌         | 3/50 [00:18<04:46,  6.10s/it]Your min_length is set to 56, but you input_length is only 25. You might consider decreasing min_length manually, e.g. summarizer('...', min_length=10)\n",
            "Your max_length is set to 54, but you input_length is only 25. You might consider decreasing max_length manually, e.g. summarizer('...', max_length=50)\n",
            " 18%|█▊        | 9/50 [01:17<06:26,  9.42s/it]Your max_length is set to 54, but you input_length is only 48. You might consider decreasing max_length manually, e.g. summarizer('...', max_length=50)\n",
            " 20%|██        | 10/50 [01:25<06:07,  9.19s/it]Your max_length is set to 54, but you input_length is only 53. You might consider decreasing max_length manually, e.g. summarizer('...', max_length=50)\n",
            " 38%|███▊      | 19/50 [03:02<05:48, 11.23s/it]Your max_length is set to 54, but you input_length is only 30. You might consider decreasing max_length manually, e.g. summarizer('...', max_length=50)\n",
            " 60%|██████    | 30/50 [05:08<03:57, 11.90s/it]Your max_length is set to 54, but you input_length is only 35. You might consider decreasing max_length manually, e.g. summarizer('...', max_length=50)\n",
            " 68%|██████▊   | 34/50 [05:53<03:10, 11.89s/it]Your max_length is set to 54, but you input_length is only 45. You might consider decreasing max_length manually, e.g. summarizer('...', max_length=50)\n",
            " 78%|███████▊  | 39/50 [06:47<02:11, 11.93s/it]Your max_length is set to 54, but you input_length is only 45. You might consider decreasing max_length manually, e.g. summarizer('...', max_length=50)\n",
            "100%|██████████| 50/50 [08:55<00:00, 10.71s/it]\n",
            "  0%|          | 0/50 [00:00<?, ?it/s]Your max_length is set to 54, but you input_length is only 51. You might consider decreasing max_length manually, e.g. summarizer('...', max_length=50)\n",
            " 16%|█▌        | 8/50 [01:13<07:13, 10.33s/it]Your max_length is set to 54, but you input_length is only 37. You might consider decreasing max_length manually, e.g. summarizer('...', max_length=50)\n",
            " 30%|███       | 15/50 [02:26<06:16, 10.75s/it]Your max_length is set to 54, but you input_length is only 50. You might consider decreasing max_length manually, e.g. summarizer('...', max_length=50)\n",
            " 44%|████▍     | 22/50 [03:37<04:54, 10.51s/it]Your max_length is set to 54, but you input_length is only 47. You might consider decreasing max_length manually, e.g. summarizer('...', max_length=50)\n",
            " 50%|█████     | 25/50 [04:03<03:54,  9.36s/it]Your max_length is set to 54, but you input_length is only 35. You might consider decreasing max_length manually, e.g. summarizer('...', max_length=50)\n",
            " 68%|██████▊   | 34/50 [05:44<02:55, 10.98s/it]Your max_length is set to 54, but you input_length is only 45. You might consider decreasing max_length manually, e.g. summarizer('...', max_length=50)\n",
            " 70%|███████   | 35/50 [05:52<02:33, 10.26s/it]Your min_length is set to 56, but you input_length is only 19. You might consider decreasing min_length manually, e.g. summarizer('...', min_length=10)\n",
            "Your max_length is set to 54, but you input_length is only 19. You might consider decreasing max_length manually, e.g. summarizer('...', max_length=50)\n",
            " 86%|████████▌ | 43/50 [07:28<01:26, 12.35s/it]Your max_length is set to 54, but you input_length is only 45. You might consider decreasing max_length manually, e.g. summarizer('...', max_length=50)\n",
            " 98%|█████████▊| 49/50 [08:29<00:10, 10.06s/it]Your max_length is set to 54, but you input_length is only 41. You might consider decreasing max_length manually, e.g. summarizer('...', max_length=50)\n",
            "100%|██████████| 50/50 [08:50<00:00, 10.61s/it]\n",
            " 16%|█▌        | 8/50 [01:14<06:58,  9.96s/it]Your min_length is set to 56, but you input_length is only 23. You might consider decreasing min_length manually, e.g. summarizer('...', min_length=10)\n",
            "Your max_length is set to 54, but you input_length is only 23. You might consider decreasing max_length manually, e.g. summarizer('...', max_length=50)\n",
            " 30%|███       | 15/50 [02:35<06:57, 11.94s/it]Your max_length is set to 54, but you input_length is only 32. You might consider decreasing max_length manually, e.g. summarizer('...', max_length=50)\n",
            " 32%|███▏      | 16/50 [02:43<06:09, 10.87s/it]Your max_length is set to 54, but you input_length is only 39. You might consider decreasing max_length manually, e.g. summarizer('...', max_length=50)\n",
            " 38%|███▊      | 19/50 [03:13<05:31, 10.71s/it]Your max_length is set to 54, but you input_length is only 52. You might consider decreasing max_length manually, e.g. summarizer('...', max_length=50)\n",
            " 54%|█████▍    | 27/50 [04:38<04:08, 10.79s/it]Your max_length is set to 54, but you input_length is only 44. You might consider decreasing max_length manually, e.g. summarizer('...', max_length=50)\n",
            " 64%|██████▍   | 32/50 [05:29<03:03, 10.22s/it]Your max_length is set to 54, but you input_length is only 42. You might consider decreasing max_length manually, e.g. summarizer('...', max_length=50)\n",
            " 68%|██████▊   | 34/50 [05:47<02:31,  9.47s/it]Your max_length is set to 54, but you input_length is only 50. You might consider decreasing max_length manually, e.g. summarizer('...', max_length=50)\n",
            " 70%|███████   | 35/50 [05:55<02:18,  9.23s/it]Your max_length is set to 54, but you input_length is only 51. You might consider decreasing max_length manually, e.g. summarizer('...', max_length=50)\n",
            " 80%|████████  | 40/50 [06:44<01:36,  9.60s/it]Your min_length is set to 56, but you input_length is only 24. You might consider decreasing min_length manually, e.g. summarizer('...', min_length=10)\n",
            "Your max_length is set to 54, but you input_length is only 24. You might consider decreasing max_length manually, e.g. summarizer('...', max_length=50)\n",
            "100%|██████████| 50/50 [08:25<00:00,  9.87s/it]Your min_length is set to 56, but you input_length is only 27. You might consider decreasing min_length manually, e.g. summarizer('...', min_length=10)\n",
            "Your max_length is set to 54, but you input_length is only 27. You might consider decreasing max_length manually, e.g. summarizer('...', max_length=50)\n",
            "100%|██████████| 50/50 [08:33<00:00, 10.27s/it]\n",
            " 10%|█         | 5/50 [00:45<06:59,  9.33s/it]Your max_length is set to 54, but you input_length is only 53. You might consider decreasing max_length manually, e.g. summarizer('...', max_length=50)\n",
            " 16%|█▌        | 8/50 [01:14<06:53,  9.85s/it]Your max_length is set to 54, but you input_length is only 36. You might consider decreasing max_length manually, e.g. summarizer('...', max_length=50)\n",
            " 24%|██▍       | 12/50 [02:03<07:36, 12.02s/it]Your max_length is set to 54, but you input_length is only 46. You might consider decreasing max_length manually, e.g. summarizer('...', max_length=50)\n",
            " 32%|███▏      | 16/50 [02:50<06:39, 11.76s/it]Your max_length is set to 54, but you input_length is only 37. You might consider decreasing max_length manually, e.g. summarizer('...', max_length=50)\n",
            " 38%|███▊      | 19/50 [03:21<05:42, 11.05s/it]Your max_length is set to 54, but you input_length is only 40. You might consider decreasing max_length manually, e.g. summarizer('...', max_length=50)\n",
            " 40%|████      | 20/50 [03:29<05:08, 10.29s/it]Your max_length is set to 54, but you input_length is only 41. You might consider decreasing max_length manually, e.g. summarizer('...', max_length=50)\n",
            " 42%|████▏     | 21/50 [03:38<04:43,  9.76s/it]Your max_length is set to 54, but you input_length is only 51. You might consider decreasing max_length manually, e.g. summarizer('...', max_length=50)\n",
            " 44%|████▍     | 22/50 [03:47<04:24,  9.44s/it]Your max_length is set to 54, but you input_length is only 37. You might consider decreasing max_length manually, e.g. summarizer('...', max_length=50)\n",
            "100%|██████████| 50/50 [08:49<00:00, 10.59s/it]\n",
            " 10%|█         | 5/50 [00:44<06:47,  9.06s/it]Your max_length is set to 54, but you input_length is only 36. You might consider decreasing max_length manually, e.g. summarizer('...', max_length=50)\n",
            " 20%|██        | 10/50 [01:34<06:51, 10.30s/it]Your max_length is set to 54, but you input_length is only 39. You might consider decreasing max_length manually, e.g. summarizer('...', max_length=50)\n",
            " 22%|██▏       | 11/50 [01:42<06:20,  9.75s/it]Your max_length is set to 54, but you input_length is only 28. You might consider decreasing max_length manually, e.g. summarizer('...', max_length=50)\n",
            " 28%|██▊       | 14/50 [02:15<06:22, 10.62s/it]Your max_length is set to 54, but you input_length is only 48. You might consider decreasing max_length manually, e.g. summarizer('...', max_length=50)\n",
            " 32%|███▏      | 16/50 [02:33<05:39, 10.00s/it]Your max_length is set to 54, but you input_length is only 52. You might consider decreasing max_length manually, e.g. summarizer('...', max_length=50)\n",
            " 38%|███▊      | 19/50 [03:02<05:02,  9.76s/it]Your max_length is set to 54, but you input_length is only 41. You might consider decreasing max_length manually, e.g. summarizer('...', max_length=50)\n",
            " 40%|████      | 20/50 [03:10<04:41,  9.38s/it]Your max_length is set to 54, but you input_length is only 50. You might consider decreasing max_length manually, e.g. summarizer('...', max_length=50)\n",
            " 44%|████▍     | 22/50 [03:33<04:58, 10.65s/it]Your min_length is set to 56, but you input_length is only 24. You might consider decreasing min_length manually, e.g. summarizer('...', min_length=10)\n",
            "Your max_length is set to 54, but you input_length is only 24. You might consider decreasing max_length manually, e.g. summarizer('...', max_length=50)\n",
            " 48%|████▊     | 24/50 [03:52<04:19,  9.99s/it]Your min_length is set to 56, but you input_length is only 22. You might consider decreasing min_length manually, e.g. summarizer('...', min_length=10)\n",
            "Your max_length is set to 54, but you input_length is only 22. You might consider decreasing max_length manually, e.g. summarizer('...', max_length=50)\n",
            " 56%|█████▌    | 28/50 [04:32<03:55, 10.69s/it]Your max_length is set to 54, but you input_length is only 31. You might consider decreasing max_length manually, e.g. summarizer('...', max_length=50)\n",
            " 60%|██████    | 30/50 [04:50<03:15,  9.76s/it]Your max_length is set to 54, but you input_length is only 46. You might consider decreasing max_length manually, e.g. summarizer('...', max_length=50)\n",
            " 62%|██████▏   | 31/50 [04:58<02:58,  9.40s/it]Your max_length is set to 54, but you input_length is only 50. You might consider decreasing max_length manually, e.g. summarizer('...', max_length=50)\n",
            " 74%|███████▍  | 37/50 [06:03<02:13, 10.29s/it]Your max_length is set to 54, but you input_length is only 33. You might consider decreasing max_length manually, e.g. summarizer('...', max_length=50)\n",
            " 82%|████████▏ | 41/50 [06:44<01:34, 10.55s/it]Your max_length is set to 54, but you input_length is only 41. You might consider decreasing max_length manually, e.g. summarizer('...', max_length=50)\n",
            " 86%|████████▌ | 43/50 [07:01<01:06,  9.57s/it]Your min_length is set to 56, but you input_length is only 20. You might consider decreasing min_length manually, e.g. summarizer('...', min_length=10)\n",
            "Your max_length is set to 54, but you input_length is only 20. You might consider decreasing max_length manually, e.g. summarizer('...', max_length=50)\n",
            "100%|██████████| 50/50 [08:20<00:00, 10.00s/it]\n",
            " 14%|█▍        | 7/50 [01:01<06:31,  9.12s/it]Your max_length is set to 54, but you input_length is only 44. You might consider decreasing max_length manually, e.g. summarizer('...', max_length=50)\n",
            " 20%|██        | 10/50 [01:33<06:57, 10.43s/it]Your max_length is set to 54, but you input_length is only 32. You might consider decreasing max_length manually, e.g. summarizer('...', max_length=50)\n",
            " 26%|██▌       | 13/50 [02:05<06:36, 10.70s/it]Your min_length is set to 56, but you input_length is only 25. You might consider decreasing min_length manually, e.g. summarizer('...', min_length=10)\n",
            "Your max_length is set to 54, but you input_length is only 25. You might consider decreasing max_length manually, e.g. summarizer('...', max_length=50)\n",
            " 30%|███       | 15/50 [02:26<06:15, 10.74s/it]Your max_length is set to 54, but you input_length is only 45. You might consider decreasing max_length manually, e.g. summarizer('...', max_length=50)\n",
            " 38%|███▊      | 19/50 [03:06<05:18, 10.28s/it]Your max_length is set to 54, but you input_length is only 31. You might consider decreasing max_length manually, e.g. summarizer('...', max_length=50)\n",
            " 40%|████      | 20/50 [03:15<04:51,  9.73s/it]Your max_length is set to 54, but you input_length is only 42. You might consider decreasing max_length manually, e.g. summarizer('...', max_length=50)\n",
            " 46%|████▌     | 23/50 [03:45<04:31, 10.04s/it]Your min_length is set to 56, but you input_length is only 23. You might consider decreasing min_length manually, e.g. summarizer('...', min_length=10)\n",
            "Your max_length is set to 54, but you input_length is only 23. You might consider decreasing max_length manually, e.g. summarizer('...', max_length=50)\n",
            " 52%|█████▏    | 26/50 [04:15<04:09, 10.38s/it]Your max_length is set to 54, but you input_length is only 50. You might consider decreasing max_length manually, e.g. summarizer('...', max_length=50)\n",
            " 56%|█████▌    | 28/50 [04:41<04:29, 12.23s/it]Your max_length is set to 54, but you input_length is only 35. You might consider decreasing max_length manually, e.g. summarizer('...', max_length=50)\n",
            "100%|██████████| 50/50 [08:45<00:00, 10.52s/it]\n",
            "  8%|▊         | 4/50 [00:34<06:52,  8.96s/it]Your max_length is set to 54, but you input_length is only 52. You might consider decreasing max_length manually, e.g. summarizer('...', max_length=50)\n",
            " 14%|█▍        | 7/50 [01:06<07:20, 10.24s/it]Your max_length is set to 54, but you input_length is only 51. You might consider decreasing max_length manually, e.g. summarizer('...', max_length=50)\n",
            " 24%|██▍       | 12/50 [01:58<06:50, 10.81s/it]Your max_length is set to 54, but you input_length is only 45. You might consider decreasing max_length manually, e.g. summarizer('...', max_length=50)\n",
            " 28%|██▊       | 14/50 [02:16<05:55,  9.87s/it]Your max_length is set to 54, but you input_length is only 53. You might consider decreasing max_length manually, e.g. summarizer('...', max_length=50)\n",
            " 30%|███       | 15/50 [02:25<05:32,  9.50s/it]Your max_length is set to 54, but you input_length is only 29. You might consider decreasing max_length manually, e.g. summarizer('...', max_length=50)\n",
            " 40%|████      | 20/50 [03:20<05:46, 11.55s/it]Your max_length is set to 54, but you input_length is only 49. You might consider decreasing max_length manually, e.g. summarizer('...', max_length=50)\n",
            " 50%|█████     | 25/50 [04:08<04:17, 10.31s/it]Your max_length is set to 54, but you input_length is only 52. You might consider decreasing max_length manually, e.g. summarizer('...', max_length=50)\n",
            " 76%|███████▌  | 38/50 [06:22<02:05, 10.43s/it]Your max_length is set to 54, but you input_length is only 35. You might consider decreasing max_length manually, e.g. summarizer('...', max_length=50)\n",
            " 82%|████████▏ | 41/50 [06:54<01:37, 10.84s/it]Your max_length is set to 54, but you input_length is only 47. You might consider decreasing max_length manually, e.g. summarizer('...', max_length=50)\n",
            " 84%|████████▍ | 42/50 [07:02<01:21, 10.18s/it]Your max_length is set to 54, but you input_length is only 28. You might consider decreasing max_length manually, e.g. summarizer('...', max_length=50)\n",
            " 90%|█████████ | 45/50 [07:30<00:48,  9.62s/it]Your max_length is set to 54, but you input_length is only 53. You might consider decreasing max_length manually, e.g. summarizer('...', max_length=50)\n",
            " 92%|█████████▏| 46/50 [07:39<00:37,  9.33s/it]Your min_length is set to 56, but you input_length is only 20. You might consider decreasing min_length manually, e.g. summarizer('...', min_length=10)\n",
            "Your max_length is set to 54, but you input_length is only 20. You might consider decreasing max_length manually, e.g. summarizer('...', max_length=50)\n",
            "100%|██████████| 50/50 [08:25<00:00, 10.11s/it]\n",
            "  6%|▌         | 3/50 [00:22<05:50,  7.45s/it]Your max_length is set to 54, but you input_length is only 44. You might consider decreasing max_length manually, e.g. summarizer('...', max_length=50)\n",
            " 14%|█▍        | 7/50 [01:01<06:38,  9.26s/it]Your max_length is set to 54, but you input_length is only 49. You might consider decreasing max_length manually, e.g. summarizer('...', max_length=50)\n",
            " 18%|█▊        | 9/50 [01:25<07:28, 10.94s/it]Your max_length is set to 54, but you input_length is only 48. You might consider decreasing max_length manually, e.g. summarizer('...', max_length=50)\n",
            " 44%|████▍     | 22/50 [03:43<04:35,  9.86s/it]Your max_length is set to 54, but you input_length is only 53. You might consider decreasing max_length manually, e.g. summarizer('...', max_length=50)\n",
            " 48%|████▊     | 24/50 [04:01<04:07,  9.53s/it]Your max_length is set to 54, but you input_length is only 51. You might consider decreasing max_length manually, e.g. summarizer('...', max_length=50)\n",
            " 56%|█████▌    | 28/50 [04:43<03:47, 10.33s/it]Your min_length is set to 56, but you input_length is only 27. You might consider decreasing min_length manually, e.g. summarizer('...', min_length=10)\n",
            "Your max_length is set to 54, but you input_length is only 27. You might consider decreasing max_length manually, e.g. summarizer('...', max_length=50)\n",
            " 58%|█████▊    | 29/50 [04:52<03:24,  9.74s/it]Your max_length is set to 54, but you input_length is only 33. You might consider decreasing max_length manually, e.g. summarizer('...', max_length=50)\n",
            " 72%|███████▏  | 36/50 [06:00<02:14,  9.64s/it]Your max_length is set to 54, but you input_length is only 32. You might consider decreasing max_length manually, e.g. summarizer('...', max_length=50)\n",
            " 88%|████████▊ | 44/50 [07:23<01:02, 10.38s/it]Your max_length is set to 54, but you input_length is only 35. You might consider decreasing max_length manually, e.g. summarizer('...', max_length=50)\n",
            " 94%|█████████▍| 47/50 [07:54<00:31, 10.36s/it]Your max_length is set to 54, but you input_length is only 51. You might consider decreasing max_length manually, e.g. summarizer('...', max_length=50)\n",
            "100%|██████████| 50/50 [08:21<00:00,  9.59s/it]Your max_length is set to 54, but you input_length is only 32. You might consider decreasing max_length manually, e.g. summarizer('...', max_length=50)\n",
            "100%|██████████| 50/50 [08:29<00:00, 10.20s/it]\n",
            " 10%|█         | 5/50 [00:49<07:43, 10.30s/it]Your max_length is set to 54, but you input_length is only 45. You might consider decreasing max_length manually, e.g. summarizer('...', max_length=50)\n",
            " 24%|██▍       | 12/50 [02:08<07:10, 11.34s/it]Your max_length is set to 54, but you input_length is only 43. You might consider decreasing max_length manually, e.g. summarizer('...', max_length=50)\n",
            " 38%|███▊      | 19/50 [03:28<06:13, 12.03s/it]Your max_length is set to 54, but you input_length is only 36. You might consider decreasing max_length manually, e.g. summarizer('...', max_length=50)\n",
            " 46%|████▌     | 23/50 [04:18<05:36, 12.47s/it]Your min_length is set to 56, but you input_length is only 11. You might consider decreasing min_length manually, e.g. summarizer('...', min_length=10)\n",
            "Your max_length is set to 54, but you input_length is only 11. You might consider decreasing max_length manually, e.g. summarizer('...', max_length=50)\n",
            " 50%|█████     | 25/50 [04:38<04:46, 11.46s/it]Your max_length is set to 54, but you input_length is only 43. You might consider decreasing max_length manually, e.g. summarizer('...', max_length=50)\n",
            " 76%|███████▌  | 38/50 [07:05<02:03, 10.33s/it]Your max_length is set to 54, but you input_length is only 35. You might consider decreasing max_length manually, e.g. summarizer('...', max_length=50)\n",
            " 98%|█████████▊| 49/50 [09:03<00:10, 10.55s/it]Your max_length is set to 54, but you input_length is only 50. You might consider decreasing max_length manually, e.g. summarizer('...', max_length=50)\n",
            "100%|██████████| 50/50 [09:24<00:00, 11.28s/it]\n",
            " 24%|██▍       | 12/50 [02:03<07:08, 11.28s/it]Your max_length is set to 54, but you input_length is only 38. You might consider decreasing max_length manually, e.g. summarizer('...', max_length=50)\n",
            " 66%|██████▌   | 33/50 [05:48<02:54, 10.28s/it]Your max_length is set to 54, but you input_length is only 30. You might consider decreasing max_length manually, e.g. summarizer('...', max_length=50)\n",
            " 74%|███████▍  | 37/50 [06:30<02:16, 10.54s/it]Your min_length is set to 56, but you input_length is only 24. You might consider decreasing min_length manually, e.g. summarizer('...', min_length=10)\n",
            "Your max_length is set to 54, but you input_length is only 24. You might consider decreasing max_length manually, e.g. summarizer('...', max_length=50)\n",
            " 78%|███████▊  | 39/50 [06:48<01:48,  9.85s/it]Your max_length is set to 54, but you input_length is only 44. You might consider decreasing max_length manually, e.g. summarizer('...', max_length=50)\n",
            " 84%|████████▍ | 42/50 [07:20<01:27, 10.94s/it]Your min_length is set to 56, but you input_length is only 27. You might consider decreasing min_length manually, e.g. summarizer('...', min_length=10)\n",
            "Your max_length is set to 54, but you input_length is only 27. You might consider decreasing max_length manually, e.g. summarizer('...', max_length=50)\n",
            " 86%|████████▌ | 43/50 [07:28<01:11, 10.17s/it]Your max_length is set to 54, but you input_length is only 31. You might consider decreasing max_length manually, e.g. summarizer('...', max_length=50)\n",
            "100%|██████████| 50/50 [08:55<00:00, 10.71s/it]\n",
            "  0%|          | 0/50 [00:00<?, ?it/s]Your min_length is set to 56, but you input_length is only 27. You might consider decreasing min_length manually, e.g. summarizer('...', min_length=10)\n",
            "Your max_length is set to 54, but you input_length is only 27. You might consider decreasing max_length manually, e.g. summarizer('...', max_length=50)\n",
            " 18%|█▊        | 9/50 [01:22<06:42,  9.82s/it]Your max_length is set to 54, but you input_length is only 37. You might consider decreasing max_length manually, e.g. summarizer('...', max_length=50)\n",
            " 26%|██▌       | 13/50 [02:07<07:13, 11.71s/it]Your min_length is set to 56, but you input_length is only 27. You might consider decreasing min_length manually, e.g. summarizer('...', min_length=10)\n",
            "Your max_length is set to 54, but you input_length is only 27. You might consider decreasing max_length manually, e.g. summarizer('...', max_length=50)\n",
            " 50%|█████     | 25/50 [04:23<05:01, 12.07s/it]Your max_length is set to 54, but you input_length is only 51. You might consider decreasing max_length manually, e.g. summarizer('...', max_length=50)\n",
            " 56%|█████▌    | 28/50 [04:52<03:56, 10.76s/it]Your min_length is set to 56, but you input_length is only 26. You might consider decreasing min_length manually, e.g. summarizer('...', min_length=10)\n",
            "Your max_length is set to 54, but you input_length is only 26. You might consider decreasing max_length manually, e.g. summarizer('...', max_length=50)\n",
            " 72%|███████▏  | 36/50 [06:12<02:26, 10.50s/it]Your max_length is set to 54, but you input_length is only 46. You might consider decreasing max_length manually, e.g. summarizer('...', max_length=50)\n",
            " 78%|███████▊  | 39/50 [06:43<01:55, 10.54s/it]Your max_length is set to 54, but you input_length is only 51. You might consider decreasing max_length manually, e.g. summarizer('...', max_length=50)\n",
            "100%|██████████| 50/50 [08:59<00:00, 10.78s/it]\n",
            " 14%|█▍        | 7/50 [00:56<06:06,  8.53s/it]Your max_length is set to 54, but you input_length is only 40. You might consider decreasing max_length manually, e.g. summarizer('...', max_length=50)\n",
            " 20%|██        | 10/50 [01:27<06:33,  9.84s/it]Your max_length is set to 54, but you input_length is only 51. You might consider decreasing max_length manually, e.g. summarizer('...', max_length=50)\n",
            " 38%|███▊      | 19/50 [02:59<05:35, 10.82s/it]Your max_length is set to 54, but you input_length is only 50. You might consider decreasing max_length manually, e.g. summarizer('...', max_length=50)\n",
            " 52%|█████▏    | 26/50 [04:17<04:34, 11.46s/it]Your max_length is set to 54, but you input_length is only 49. You might consider decreasing max_length manually, e.g. summarizer('...', max_length=50)\n",
            " 56%|█████▌    | 28/50 [04:38<04:02, 11.04s/it]Your max_length is set to 54, but you input_length is only 43. You might consider decreasing max_length manually, e.g. summarizer('...', max_length=50)\n",
            " 70%|███████   | 35/50 [05:55<02:52, 11.48s/it]Your max_length is set to 54, but you input_length is only 37. You might consider decreasing max_length manually, e.g. summarizer('...', max_length=50)\n",
            " 76%|███████▌  | 38/50 [06:26<02:09, 10.77s/it]Your max_length is set to 54, but you input_length is only 46. You might consider decreasing max_length manually, e.g. summarizer('...', max_length=50)\n",
            " 78%|███████▊  | 39/50 [06:34<01:51, 10.10s/it]Your max_length is set to 54, but you input_length is only 41. You might consider decreasing max_length manually, e.g. summarizer('...', max_length=50)\n",
            " 80%|████████  | 40/50 [06:43<01:36,  9.63s/it]Your max_length is set to 54, but you input_length is only 53. You might consider decreasing max_length manually, e.g. summarizer('...', max_length=50)\n",
            " 96%|█████████▌| 48/50 [08:16<00:23, 11.53s/it]Your max_length is set to 54, but you input_length is only 49. You might consider decreasing max_length manually, e.g. summarizer('...', max_length=50)\n",
            "100%|██████████| 50/50 [08:50<00:00, 10.61s/it]\n",
            " 30%|███       | 15/50 [02:28<05:38,  9.68s/it]Your min_length is set to 56, but you input_length is only 21. You might consider decreasing min_length manually, e.g. summarizer('...', min_length=10)\n",
            "Your max_length is set to 54, but you input_length is only 21. You might consider decreasing max_length manually, e.g. summarizer('...', max_length=50)\n",
            " 48%|████▊     | 24/50 [04:03<04:50, 11.19s/it]Your max_length is set to 54, but you input_length is only 36. You might consider decreasing max_length manually, e.g. summarizer('...', max_length=50)\n",
            " 56%|█████▌    | 28/50 [04:39<03:32,  9.64s/it]Your max_length is set to 54, but you input_length is only 49. You might consider decreasing max_length manually, e.g. summarizer('...', max_length=50)\n",
            " 68%|██████▊   | 34/50 [05:44<02:52, 10.76s/it]Your max_length is set to 54, but you input_length is only 42. You might consider decreasing max_length manually, e.g. summarizer('...', max_length=50)\n",
            "100%|██████████| 50/50 [08:48<00:00, 10.56s/it]\n",
            "  6%|▌         | 3/50 [00:19<04:55,  6.30s/it]Your min_length is set to 56, but you input_length is only 17. You might consider decreasing min_length manually, e.g. summarizer('...', min_length=10)\n",
            "Your max_length is set to 54, but you input_length is only 17. You might consider decreasing max_length manually, e.g. summarizer('...', max_length=50)\n",
            " 12%|█▏        | 6/50 [00:46<05:54,  8.05s/it]Your max_length is set to 54, but you input_length is only 36. You might consider decreasing max_length manually, e.g. summarizer('...', max_length=50)\n",
            " 20%|██        | 10/50 [01:24<06:10,  9.27s/it]Your max_length is set to 54, but you input_length is only 46. You might consider decreasing max_length manually, e.g. summarizer('...', max_length=50)\n",
            " 46%|████▌     | 23/50 [03:45<05:15, 11.68s/it]Your max_length is set to 54, but you input_length is only 33. You might consider decreasing max_length manually, e.g. summarizer('...', max_length=50)\n",
            " 50%|█████     | 25/50 [04:02<04:14, 10.20s/it]Your min_length is set to 56, but you input_length is only 20. You might consider decreasing min_length manually, e.g. summarizer('...', min_length=10)\n",
            "Your max_length is set to 54, but you input_length is only 20. You might consider decreasing max_length manually, e.g. summarizer('...', max_length=50)\n",
            " 64%|██████▍   | 32/50 [05:15<03:14, 10.78s/it]Your max_length is set to 54, but you input_length is only 43. You might consider decreasing max_length manually, e.g. summarizer('...', max_length=50)\n",
            " 68%|██████▊   | 34/50 [05:33<02:36,  9.79s/it]Your max_length is set to 54, but you input_length is only 52. You might consider decreasing max_length manually, e.g. summarizer('...', max_length=50)\n",
            " 74%|███████▍  | 37/50 [06:04<02:14, 10.37s/it]Your max_length is set to 54, but you input_length is only 30. You might consider decreasing max_length manually, e.g. summarizer('...', max_length=50)\n",
            " 84%|████████▍ | 42/50 [06:56<01:25, 10.74s/it]Your max_length is set to 54, but you input_length is only 29. You might consider decreasing max_length manually, e.g. summarizer('...', max_length=50)\n",
            " 86%|████████▌ | 43/50 [07:05<01:10, 10.04s/it]Your max_length is set to 54, but you input_length is only 36. You might consider decreasing max_length manually, e.g. summarizer('...', max_length=50)\n",
            " 90%|█████████ | 45/50 [07:24<00:50, 10.04s/it]Your min_length is set to 56, but you input_length is only 25. You might consider decreasing min_length manually, e.g. summarizer('...', min_length=10)\n",
            "Your max_length is set to 54, but you input_length is only 25. You might consider decreasing max_length manually, e.g. summarizer('...', max_length=50)\n",
            "100%|██████████| 50/50 [08:14<00:00, 10.19s/it]Your max_length is set to 54, but you input_length is only 48. You might consider decreasing max_length manually, e.g. summarizer('...', max_length=50)\n",
            "100%|██████████| 50/50 [08:23<00:00, 10.07s/it]\n",
            "  4%|▍         | 2/50 [00:09<03:57,  4.94s/it]Your min_length is set to 56, but you input_length is only 27. You might consider decreasing min_length manually, e.g. summarizer('...', min_length=10)\n",
            "Your max_length is set to 54, but you input_length is only 27. You might consider decreasing max_length manually, e.g. summarizer('...', max_length=50)\n",
            " 12%|█▏        | 6/50 [00:55<07:12,  9.83s/it]Your max_length is set to 54, but you input_length is only 30. You might consider decreasing max_length manually, e.g. summarizer('...', max_length=50)\n",
            " 16%|█▌        | 8/50 [01:15<07:11, 10.27s/it]Your max_length is set to 54, but you input_length is only 36. You might consider decreasing max_length manually, e.g. summarizer('...', max_length=50)\n",
            " 38%|███▊      | 19/50 [03:07<05:27, 10.57s/it]Your max_length is set to 54, but you input_length is only 28. You might consider decreasing max_length manually, e.g. summarizer('...', max_length=50)\n",
            " 40%|████      | 20/50 [03:16<04:57,  9.92s/it]Your max_length is set to 54, but you input_length is only 33. You might consider decreasing max_length manually, e.g. summarizer('...', max_length=50)\n",
            " 50%|█████     | 25/50 [04:07<04:17, 10.29s/it]Your max_length is set to 54, but you input_length is only 41. You might consider decreasing max_length manually, e.g. summarizer('...', max_length=50)\n",
            " 52%|█████▏    | 26/50 [04:15<03:53,  9.75s/it]Your max_length is set to 54, but you input_length is only 30. You might consider decreasing max_length manually, e.g. summarizer('...', max_length=50)\n",
            " 62%|██████▏   | 31/50 [05:07<03:20, 10.57s/it]Your max_length is set to 54, but you input_length is only 30. You might consider decreasing max_length manually, e.g. summarizer('...', max_length=50)\n",
            " 66%|██████▌   | 33/50 [05:29<03:07, 11.02s/it]Your min_length is set to 56, but you input_length is only 21. You might consider decreasing min_length manually, e.g. summarizer('...', min_length=10)\n",
            "Your max_length is set to 54, but you input_length is only 21. You might consider decreasing max_length manually, e.g. summarizer('...', max_length=50)\n",
            " 72%|███████▏  | 36/50 [05:58<02:20, 10.07s/it]Your max_length is set to 54, but you input_length is only 53. You might consider decreasing max_length manually, e.g. summarizer('...', max_length=50)\n",
            " 74%|███████▍  | 37/50 [06:06<02:05,  9.63s/it]Your max_length is set to 54, but you input_length is only 51. You might consider decreasing max_length manually, e.g. summarizer('...', max_length=50)\n",
            " 94%|█████████▍| 47/50 [07:54<00:33, 11.14s/it]Your max_length is set to 54, but you input_length is only 33. You might consider decreasing max_length manually, e.g. summarizer('...', max_length=50)\n",
            " 98%|█████████▊| 49/50 [08:13<00:10, 10.36s/it]Your max_length is set to 54, but you input_length is only 28. You might consider decreasing max_length manually, e.g. summarizer('...', max_length=50)\n",
            "100%|██████████| 50/50 [08:22<00:00,  9.76s/it]Your max_length is set to 54, but you input_length is only 30. You might consider decreasing max_length manually, e.g. summarizer('...', max_length=50)\n",
            "100%|██████████| 50/50 [08:30<00:00, 10.21s/it]\n",
            " 36%|███▌      | 18/50 [03:15<05:53, 11.05s/it]Your min_length is set to 56, but you input_length is only 20. You might consider decreasing min_length manually, e.g. summarizer('...', min_length=10)\n",
            "Your max_length is set to 54, but you input_length is only 20. You might consider decreasing max_length manually, e.g. summarizer('...', max_length=50)\n",
            " 38%|███▊      | 19/50 [03:23<05:16, 10.20s/it]Your max_length is set to 54, but you input_length is only 30. You might consider decreasing max_length manually, e.g. summarizer('...', max_length=50)\n",
            " 58%|█████▊    | 29/50 [05:11<04:03, 11.62s/it]Your max_length is set to 54, but you input_length is only 38. You might consider decreasing max_length manually, e.g. summarizer('...', max_length=50)\n",
            " 86%|████████▌ | 43/50 [07:52<01:22, 11.86s/it]Your max_length is set to 54, but you input_length is only 31. You might consider decreasing max_length manually, e.g. summarizer('...', max_length=50)\n",
            " 96%|█████████▌| 48/50 [08:41<00:20, 10.36s/it]Your max_length is set to 54, but you input_length is only 28. You might consider decreasing max_length manually, e.g. summarizer('...', max_length=50)\n",
            "100%|██████████| 50/50 [09:12<00:00, 11.05s/it]\n",
            " 10%|█         | 5/50 [00:37<05:51,  7.82s/it]Your min_length is set to 56, but you input_length is only 26. You might consider decreasing min_length manually, e.g. summarizer('...', min_length=10)\n",
            "Your max_length is set to 54, but you input_length is only 26. You might consider decreasing max_length manually, e.g. summarizer('...', max_length=50)\n",
            " 12%|█▏        | 6/50 [00:46<05:52,  8.01s/it]Your max_length is set to 54, but you input_length is only 30. You might consider decreasing max_length manually, e.g. summarizer('...', max_length=50)\n",
            " 26%|██▌       | 13/50 [01:54<06:05,  9.89s/it]Your min_length is set to 56, but you input_length is only 24. You might consider decreasing min_length manually, e.g. summarizer('...', min_length=10)\n",
            "Your max_length is set to 54, but you input_length is only 24. You might consider decreasing max_length manually, e.g. summarizer('...', max_length=50)\n",
            " 42%|████▏     | 21/50 [03:27<06:02, 12.49s/it]Your max_length is set to 54, but you input_length is only 47. You might consider decreasing max_length manually, e.g. summarizer('...', max_length=50)\n",
            " 48%|████▊     | 24/50 [03:58<04:52, 11.26s/it]Your max_length is set to 54, but you input_length is only 40. You might consider decreasing max_length manually, e.g. summarizer('...', max_length=50)\n",
            " 58%|█████▊    | 29/50 [04:49<03:38, 10.41s/it]Your min_length is set to 56, but you input_length is only 17. You might consider decreasing min_length manually, e.g. summarizer('...', min_length=10)\n",
            "Your max_length is set to 54, but you input_length is only 17. You might consider decreasing max_length manually, e.g. summarizer('...', max_length=50)\n",
            " 72%|███████▏  | 36/50 [06:08<02:42, 11.57s/it]Your max_length is set to 54, but you input_length is only 42. You might consider decreasing max_length manually, e.g. summarizer('...', max_length=50)\n",
            " 82%|████████▏ | 41/50 [07:01<01:35, 10.60s/it]Your max_length is set to 54, but you input_length is only 41. You might consider decreasing max_length manually, e.g. summarizer('...', max_length=50)\n",
            " 90%|█████████ | 45/50 [07:38<00:49,  9.82s/it]Your max_length is set to 54, but you input_length is only 39. You might consider decreasing max_length manually, e.g. summarizer('...', max_length=50)\n",
            " 94%|█████████▍| 47/50 [07:56<00:28,  9.44s/it]Your max_length is set to 54, but you input_length is only 47. You might consider decreasing max_length manually, e.g. summarizer('...', max_length=50)\n",
            " 98%|█████████▊| 49/50 [08:18<00:10, 10.42s/it]Your max_length is set to 54, but you input_length is only 45. You might consider decreasing max_length manually, e.g. summarizer('...', max_length=50)\n",
            "100%|██████████| 50/50 [08:26<00:00,  9.86s/it]Your max_length is set to 54, but you input_length is only 46. You might consider decreasing max_length manually, e.g. summarizer('...', max_length=50)\n",
            "100%|██████████| 50/50 [08:35<00:00, 10.31s/it]\n",
            "  6%|▌         | 3/50 [00:22<05:47,  7.40s/it]Your max_length is set to 54, but you input_length is only 50. You might consider decreasing max_length manually, e.g. summarizer('...', max_length=50)\n",
            "  8%|▊         | 4/50 [00:31<05:57,  7.77s/it]Your min_length is set to 56, but you input_length is only 16. You might consider decreasing min_length manually, e.g. summarizer('...', min_length=10)\n",
            "Your max_length is set to 54, but you input_length is only 16. You might consider decreasing max_length manually, e.g. summarizer('...', max_length=50)\n",
            " 10%|█         | 5/50 [00:39<05:54,  7.88s/it]Your max_length is set to 54, but you input_length is only 45. You might consider decreasing max_length manually, e.g. summarizer('...', max_length=50)\n",
            " 12%|█▏        | 6/50 [00:47<05:56,  8.10s/it]Your max_length is set to 54, but you input_length is only 36. You might consider decreasing max_length manually, e.g. summarizer('...', max_length=50)\n",
            " 38%|███▊      | 19/50 [03:10<05:43, 11.09s/it]Your max_length is set to 54, but you input_length is only 41. You might consider decreasing max_length manually, e.g. summarizer('...', max_length=50)\n",
            " 58%|█████▊    | 29/50 [04:55<03:50, 10.97s/it]Your max_length is set to 54, but you input_length is only 53. You might consider decreasing max_length manually, e.g. summarizer('...', max_length=50)\n",
            " 68%|██████▊   | 34/50 [05:47<02:52, 10.76s/it]Your max_length is set to 54, but you input_length is only 45. You might consider decreasing max_length manually, e.g. summarizer('...', max_length=50)\n",
            " 70%|███████   | 35/50 [05:55<02:31, 10.11s/it]Your max_length is set to 54, but you input_length is only 48. You might consider decreasing max_length manually, e.g. summarizer('...', max_length=50)\n",
            " 90%|█████████ | 45/50 [07:42<00:53, 10.71s/it]Your max_length is set to 54, but you input_length is only 35. You might consider decreasing max_length manually, e.g. summarizer('...', max_length=50)\n",
            "100%|██████████| 50/50 [08:47<00:00, 10.56s/it]\n",
            " 12%|█▏        | 6/50 [00:55<07:00,  9.56s/it]Your max_length is set to 54, but you input_length is only 51. You might consider decreasing max_length manually, e.g. summarizer('...', max_length=50)\n",
            " 16%|█▌        | 8/50 [01:13<06:31,  9.32s/it]Your max_length is set to 54, but you input_length is only 48. You might consider decreasing max_length manually, e.g. summarizer('...', max_length=50)\n",
            " 42%|████▏     | 21/50 [03:37<05:44, 11.89s/it]Your max_length is set to 54, but you input_length is only 46. You might consider decreasing max_length manually, e.g. summarizer('...', max_length=50)\n",
            " 44%|████▍     | 22/50 [03:45<05:06, 10.95s/it]Your max_length is set to 54, but you input_length is only 30. You might consider decreasing max_length manually, e.g. summarizer('...', max_length=50)\n",
            " 60%|██████    | 30/50 [05:06<03:19,  9.97s/it]Your max_length is set to 54, but you input_length is only 43. You might consider decreasing max_length manually, e.g. summarizer('...', max_length=50)\n",
            " 64%|██████▍   | 32/50 [05:25<02:55,  9.72s/it]Your max_length is set to 54, but you input_length is only 42. You might consider decreasing max_length manually, e.g. summarizer('...', max_length=50)\n",
            " 66%|██████▌   | 33/50 [05:34<02:41,  9.50s/it]Your max_length is set to 54, but you input_length is only 41. You might consider decreasing max_length manually, e.g. summarizer('...', max_length=50)\n",
            " 72%|███████▏  | 36/50 [06:07<02:32, 10.93s/it]Your max_length is set to 54, but you input_length is only 51. You might consider decreasing max_length manually, e.g. summarizer('...', max_length=50)\n",
            "100%|██████████| 50/50 [08:51<00:00, 13.36s/it]Your max_length is set to 54, but you input_length is only 47. You might consider decreasing max_length manually, e.g. summarizer('...', max_length=50)\n",
            "100%|██████████| 50/50 [09:00<00:00, 10.81s/it]\n"
          ],
          "name": "stderr"
        }
      ]
    },
    {
      "cell_type": "code",
      "metadata": {
        "id": "gQNnKmFWN6ll"
      },
      "source": [
        "path = '/content/drive/MyDrive/AML_workshop/'\n",
        "filename = 'test_result_120901_7400.csv'\n",
        "\n",
        "pred = pd.read_csv(path + filename)"
      ],
      "execution_count": null,
      "outputs": []
    },
    {
      "cell_type": "code",
      "metadata": {
        "id": "GjqQEDTnP2CZ"
      },
      "source": [
        "pred.fillna('none', inplace = True)"
      ],
      "execution_count": null,
      "outputs": []
    },
    {
      "cell_type": "code",
      "metadata": {
        "id": "UPzEMWzond3V"
      },
      "source": [
        "pred['pred'] = pred['pred'].str.replace('[0-9]\\\\.', '', regex = True)\n",
        "pred['pred'] = pred['pred'].str.replace(r'[^A-Za-z0-9\\s]', '').str.strip()\n",
        "pred['IMPRESSION'] = pred['IMPRESSION'].str.replace('[0-9]\\\\.', '', regex = True)\n",
        "pred['IMPRESSION'] = pred['IMPRESSION'].str.replace(r'[^A-Za-z0-9\\s]', '').str.strip()"
      ],
      "execution_count": null,
      "outputs": []
    },
    {
      "cell_type": "code",
      "metadata": {
        "id": "ERW0k_Upnyw_"
      },
      "source": [
        "pred['IMPRESSION'] = pred['IMPRESSION'].str.replace('[0-9]\\\\.', '', regex = True)\n",
        "pred['IMPRESSION'] = pred['IMPRESSION'].str.replace(r'[^A-Za-z0-9\\s]', '').str.strip()"
      ],
      "execution_count": null,
      "outputs": []
    },
    {
      "cell_type": "code",
      "metadata": {
        "colab": {
          "base_uri": "https://localhost:8080/",
          "height": 281
        },
        "id": "vleUh3iFmNft",
        "outputId": "bedf2d29-fb2d-41e2-d9af-c8662ce24f1e"
      },
      "source": [
        "pred.head()"
      ],
      "execution_count": null,
      "outputs": [
        {
          "output_type": "execute_result",
          "data": {
            "text/html": [
              "<div>\n",
              "<style scoped>\n",
              "    .dataframe tbody tr th:only-of-type {\n",
              "        vertical-align: middle;\n",
              "    }\n",
              "\n",
              "    .dataframe tbody tr th {\n",
              "        vertical-align: top;\n",
              "    }\n",
              "\n",
              "    .dataframe thead th {\n",
              "        text-align: right;\n",
              "    }\n",
              "</style>\n",
              "<table border=\"1\" class=\"dataframe\">\n",
              "  <thead>\n",
              "    <tr style=\"text-align: right;\">\n",
              "      <th></th>\n",
              "      <th>IMPRESSION</th>\n",
              "      <th>__index_level_0__</th>\n",
              "      <th>pred</th>\n",
              "    </tr>\n",
              "  </thead>\n",
              "  <tbody>\n",
              "    <tr>\n",
              "      <th>0</th>\n",
              "      <td>Subacute infarction involving the right poster...</td>\n",
              "      <td>0</td>\n",
              "      <td>1. there is a subacute infarction present in t...</td>\n",
              "    </tr>\n",
              "    <tr>\n",
              "      <th>1</th>\n",
              "      <td>1.Over the interval, previously demonstrated m...</td>\n",
              "      <td>1</td>\n",
              "      <td>1. interval progression of supratentorial vent...</td>\n",
              "    </tr>\n",
              "    <tr>\n",
              "      <th>2</th>\n",
              "      <td>1.No evidence of pulmonary embolism.2.Centrilo...</td>\n",
              "      <td>2</td>\n",
              "      <td>1. no evidence of pulmonary embolism. 2. bilat...</td>\n",
              "    </tr>\n",
              "    <tr>\n",
              "      <th>3</th>\n",
              "      <td>No change in appearance of enteric tube as abo...</td>\n",
              "      <td>3</td>\n",
              "      <td>enteric tube with tip projecting over the dist...</td>\n",
              "    </tr>\n",
              "    <tr>\n",
              "      <th>4</th>\n",
              "      <td>1. No evidence of intracranial hemorrhage or m...</td>\n",
              "      <td>4</td>\n",
              "      <td>1. no evidence of intracranial hemorrhage, ede...</td>\n",
              "    </tr>\n",
              "  </tbody>\n",
              "</table>\n",
              "</div>"
            ],
            "text/plain": [
              "                                          IMPRESSION  ...                                               pred\n",
              "0  Subacute infarction involving the right poster...  ...  1. there is a subacute infarction present in t...\n",
              "1  1.Over the interval, previously demonstrated m...  ...  1. interval progression of supratentorial vent...\n",
              "2  1.No evidence of pulmonary embolism.2.Centrilo...  ...  1. no evidence of pulmonary embolism. 2. bilat...\n",
              "3  No change in appearance of enteric tube as abo...  ...  enteric tube with tip projecting over the dist...\n",
              "4  1. No evidence of intracranial hemorrhage or m...  ...  1. no evidence of intracranial hemorrhage, ede...\n",
              "\n",
              "[5 rows x 3 columns]"
            ]
          },
          "metadata": {
            "tags": []
          },
          "execution_count": 11
        }
      ]
    },
    {
      "cell_type": "code",
      "metadata": {
        "colab": {
          "base_uri": "https://localhost:8080/"
        },
        "id": "JFH-QVDjl1z6",
        "outputId": "1047f637-9dbc-4a11-eff0-b55164b57334"
      },
      "source": [
        "from nltk.translate.bleu_score import sentence_bleu\n",
        "\n",
        "def sentence_bleu_n(ref, hyp, weights):\n",
        "  return sentence_bleu(references = [ref.split()], \n",
        "                       hypothesis = hyp.split(),\n",
        "                       weights = weights)\n",
        "\n",
        "# bleu1\n",
        "pred['bleu1'] = pred[['IMPRESSION', 'pred']].apply(lambda x: sentence_bleu_n(x[1], x[0], weights = [1,0,0,0]), axis=1)\n",
        "\n",
        "# bleu2\n",
        "pred['bleu2'] = pred[['IMPRESSION', 'pred']].apply(lambda x: sentence_bleu_n(x[1], x[0], weights = [0,1,0,0]), axis=1)\n",
        "\n",
        "print('bleu1: {}'.format(pred['bleu1'].mean()))\n",
        "print('bleu2: {}'.format(pred['bleu2'].mean()))"
      ],
      "execution_count": null,
      "outputs": [
        {
          "output_type": "stream",
          "text": [
            "/usr/local/lib/python3.6/dist-packages/nltk/translate/bleu_score.py:516: UserWarning: \n",
            "The hypothesis contains 0 counts of 3-gram overlaps.\n",
            "Therefore the BLEU score evaluates to 0, independently of\n",
            "how many N-gram overlaps of lower order it contains.\n",
            "Consider using lower n-gram order or use SmoothingFunction()\n",
            "  warnings.warn(_msg)\n",
            "/usr/local/lib/python3.6/dist-packages/nltk/translate/bleu_score.py:516: UserWarning: \n",
            "The hypothesis contains 0 counts of 4-gram overlaps.\n",
            "Therefore the BLEU score evaluates to 0, independently of\n",
            "how many N-gram overlaps of lower order it contains.\n",
            "Consider using lower n-gram order or use SmoothingFunction()\n",
            "  warnings.warn(_msg)\n",
            "/usr/local/lib/python3.6/dist-packages/nltk/translate/bleu_score.py:516: UserWarning: \n",
            "The hypothesis contains 0 counts of 2-gram overlaps.\n",
            "Therefore the BLEU score evaluates to 0, independently of\n",
            "how many N-gram overlaps of lower order it contains.\n",
            "Consider using lower n-gram order or use SmoothingFunction()\n",
            "  warnings.warn(_msg)\n"
          ],
          "name": "stderr"
        },
        {
          "output_type": "stream",
          "text": [
            "bleu1: 0.14234562606473822\n",
            "bleu2: 0.06485831774511397\n"
          ],
          "name": "stdout"
        }
      ]
    },
    {
      "cell_type": "code",
      "metadata": {
        "colab": {
          "base_uri": "https://localhost:8080/"
        },
        "id": "_dN4c58SnrkL",
        "outputId": "486d3c05-170b-442c-ee0c-d09f3d44c07d"
      },
      "source": [
        "pred['IMPRESSION_'].head()"
      ],
      "execution_count": null,
      "outputs": [
        {
          "output_type": "execute_result",
          "data": {
            "text/plain": [
              "0    Subacute infarction involving the right poster...\n",
              "1    Over the interval previously demonstrated mode...\n",
              "2    No evidence of pulmonary embolismCentrilobular...\n",
              "3    No change in appearance of enteric tube as abo...\n",
              "4    No evidence of intracranial hemorrhage or mass...\n",
              "Name: IMPRESSION_, dtype: object"
            ]
          },
          "metadata": {
            "tags": []
          },
          "execution_count": 67
        }
      ]
    },
    {
      "cell_type": "code",
      "metadata": {
        "colab": {
          "base_uri": "https://localhost:8080/",
          "height": 71
        },
        "id": "rwt9HMnqnYh-",
        "outputId": "0a60bd22-fd1d-4c50-85b7-07488edce669"
      },
      "source": [
        "pred['pred_'][]"
      ],
      "execution_count": null,
      "outputs": [
        {
          "output_type": "execute_result",
          "data": {
            "application/vnd.google.colaboratory.intrinsic+json": {
              "type": "string"
            },
            "text/plain": [
              "'DVT: Nondiagnostic scan for DVT due to poor opacification of the deep venous system of the lower extremities. Mild centrilobular emphysema with several apical bullae. No evidence of pleural'"
            ]
          },
          "metadata": {
            "tags": []
          },
          "execution_count": 28
        }
      ]
    },
    {
      "cell_type": "code",
      "metadata": {
        "colab": {
          "base_uri": "https://localhost:8080/"
        },
        "id": "gVwsfn4cOLdu",
        "outputId": "10f22137-c45f-444c-eb85-0367e1368022"
      },
      "source": [
        "#!pip install rouge\n",
        "from rouge import Rouge \n",
        "\n",
        "# rouge1\n",
        "pred['rouge1'] = pred[['pred_', 'IMPRESSION_']].apply(lambda x: Rouge().get_scores(x[0], x[1])[0]['rouge-1']['f'], axis=1)\n",
        "\n",
        "# rouge2\n",
        "pred['rouge2'] = pred[['pred_', 'IMPRESSION_']].apply(lambda x: Rouge().get_scores(x[0], x[1])[0]['rouge-2']['f'], axis=1)\n",
        "\n",
        "print('rouge1: {}'.format(pred['rouge1'].mean()))\n",
        "print('rouge2: {}'.format(pred['rouge2'].mean()))"
      ],
      "execution_count": null,
      "outputs": [
        {
          "output_type": "stream",
          "text": [
            "rouge1: 0.23836857115387838\n",
            "rouge2: 0.10977389531711668\n"
          ],
          "name": "stdout"
        }
      ]
    },
    {
      "cell_type": "code",
      "metadata": {
        "id": "Z1CYJfyPbSOd"
      },
      "source": [
        "eval_summary.to_csv(path + 'BART_eval_1128.csv')"
      ],
      "execution_count": null,
      "outputs": []
    },
    {
      "cell_type": "markdown",
      "metadata": {
        "id": "8-eWkavN_sHR"
      },
      "source": [
        "1. Can do we beam search with the EncoderDecoder model?\n",
        "2. Add padding to avoid warnings?\n",
        "3. Data preprocessing: sometimes comma can be messed up. Do the preprocessing in the beginning. The BLEU score requires splits"
      ]
    },
    {
      "cell_type": "code",
      "metadata": {
        "colab": {
          "base_uri": "https://localhost:8080/",
          "height": 197
        },
        "id": "jv88kDfFfHVo",
        "outputId": "d4b20f6e-1440-4a42-ccf1-35d0474e9745"
      },
      "source": [
        "df_test"
      ],
      "execution_count": null,
      "outputs": [
        {
          "output_type": "execute_result",
          "data": {
            "text/html": [
              "<div>\n",
              "<style scoped>\n",
              "    .dataframe tbody tr th:only-of-type {\n",
              "        vertical-align: middle;\n",
              "    }\n",
              "\n",
              "    .dataframe tbody tr th {\n",
              "        vertical-align: top;\n",
              "    }\n",
              "\n",
              "    .dataframe thead th {\n",
              "        text-align: right;\n",
              "    }\n",
              "</style>\n",
              "<table border=\"1\" class=\"dataframe\">\n",
              "  <thead>\n",
              "    <tr style=\"text-align: right;\">\n",
              "      <th></th>\n",
              "      <th>id</th>\n",
              "      <th>FINDINGS</th>\n",
              "      <th>IMPRESSION</th>\n",
              "      <th>pred</th>\n",
              "    </tr>\n",
              "  </thead>\n",
              "  <tbody>\n",
              "    <tr>\n",
              "      <th>0</th>\n",
              "      <td>737755</td>\n",
              "      <td>LUNGS AND PLEURA: Mild bilateral paramediastin...</td>\n",
              "      <td>1. Cluster of poorly defined small opacities i...</td>\n",
              "      <td>volume loss of the right upper lobe with ceph...</td>\n",
              "    </tr>\n",
              "    <tr>\n",
              "      <th>1</th>\n",
              "      <td>407303</td>\n",
              "      <td>Tracheostomy tube, left central venous cathete...</td>\n",
              "      <td>Subcutaneous emphysema with well-defined pocke...</td>\n",
              "      <td>Extensive subcutaneous emphysema noted in the ...</td>\n",
              "    </tr>\n",
              "    <tr>\n",
              "      <th>2</th>\n",
              "      <td>264349</td>\n",
              "      <td>LUNGS AND PLEURA: There is moderate size left ...</td>\n",
              "      <td>Moderate left pleural effusion likely empyema ...</td>\n",
              "      <td>There is moderate size left pleural effusion w...</td>\n",
              "    </tr>\n",
              "    <tr>\n",
              "      <th>3</th>\n",
              "      <td>136984</td>\n",
              "      <td>Cardiomegaly with bilateral opacities compatib...</td>\n",
              "      <td>Findings compatible with CHF with no acute cha...</td>\n",
              "      <td>Tracheostomy tube and pacemaker lead also unch...</td>\n",
              "    </tr>\n",
              "    <tr>\n",
              "      <th>4</th>\n",
              "      <td>244714</td>\n",
              "      <td>Bilateral intraventricular shunts are identifi...</td>\n",
              "      <td>No hydrocephalus or traumatic injury with chro...</td>\n",
              "      <td>No acute abnormalities are identified in eithe...</td>\n",
              "    </tr>\n",
              "  </tbody>\n",
              "</table>\n",
              "</div>"
            ],
            "text/plain": [
              "       id  ...                                               pred\n",
              "0  737755  ...   volume loss of the right upper lobe with ceph...\n",
              "1  407303  ...  Extensive subcutaneous emphysema noted in the ...\n",
              "2  264349  ...  There is moderate size left pleural effusion w...\n",
              "3  136984  ...  Tracheostomy tube and pacemaker lead also unch...\n",
              "4  244714  ...  No acute abnormalities are identified in eithe...\n",
              "\n",
              "[5 rows x 4 columns]"
            ]
          },
          "metadata": {
            "tags": []
          },
          "execution_count": 36
        }
      ]
    }
  ]
}