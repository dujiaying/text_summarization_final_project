{
  "nbformat": 4,
  "nbformat_minor": 0,
  "metadata": {
    "colab": {
      "name": "Text summarization.ipynb",
      "provenance": [],
      "toc_visible": true,
      "machine_shape": "hm"
    },
    "kernelspec": {
      "name": "python3",
      "display_name": "Python 3"
    },
    "accelerator": "GPU"
  },
  "cells": [
    {
      "cell_type": "code",
      "metadata": {
        "id": "D3gZAaAL42_O"
      },
      "source": [
        "import numpy as np  \n",
        "import pandas as pd \n",
        "import re           \n",
        "from bs4 import BeautifulSoup \n",
        "from keras.preprocessing.text import Tokenizer \n",
        "from keras.preprocessing.sequence import pad_sequences\n",
        "from nltk.corpus import stopwords   \n",
        "from tensorflow.keras.layers import Input, LSTM, Embedding, Dense, Concatenate, TimeDistributed, Bidirectional\n",
        "from tensorflow.keras.models import Model\n",
        "from tensorflow.keras.callbacks import EarlyStopping\n",
        "import warnings\n",
        "from tensorflow.keras.utils import plot_model"
      ],
      "execution_count": null,
      "outputs": []
    },
    {
      "cell_type": "code",
      "metadata": {
        "id": "v_mXVrrEXRzr"
      },
      "source": [
        "import tensorflow as tf\n",
        "import os\n",
        "from tensorflow.python.keras.layers import Layer\n",
        "from tensorflow.python.keras import backend as K\n",
        "\n",
        "\n",
        "class AttentionLayer(Layer):\n",
        "    \"\"\"\n",
        "    This class implements Bahdanau attention (https://arxiv.org/pdf/1409.0473.pdf).\n",
        "    There are three sets of weights introduced W_a, U_a, and V_a\n",
        "     \"\"\"\n",
        "\n",
        "    def __init__(self, **kwargs):\n",
        "        super(AttentionLayer, self).__init__(**kwargs)\n",
        "\n",
        "    def build(self, input_shape):\n",
        "        assert isinstance(input_shape, list)\n",
        "        # Create a trainable weight variable for this layer.\n",
        "\n",
        "        self.W_a = self.add_weight(name='W_a',\n",
        "                                   shape=tf.TensorShape((input_shape[0][2], input_shape[0][2])),\n",
        "                                   initializer='uniform',\n",
        "                                   trainable=True)\n",
        "        self.U_a = self.add_weight(name='U_a',\n",
        "                                   shape=tf.TensorShape((input_shape[1][2], input_shape[0][2])),\n",
        "                                   initializer='uniform',\n",
        "                                   trainable=True)\n",
        "        self.V_a = self.add_weight(name='V_a',\n",
        "                                   shape=tf.TensorShape((input_shape[0][2], 1)),\n",
        "                                   initializer='uniform',\n",
        "                                   trainable=True)\n",
        "\n",
        "        super(AttentionLayer, self).build(input_shape)  # Be sure to call this at the end\n",
        "\n",
        "    def call(self, inputs, verbose=False):\n",
        "        \"\"\"\n",
        "        inputs: [encoder_output_sequence, decoder_output_sequence]\n",
        "        \"\"\"\n",
        "        assert type(inputs) == list\n",
        "        encoder_out_seq, decoder_out_seq = inputs\n",
        "        if verbose:\n",
        "            print('encoder_out_seq>', encoder_out_seq.shape)\n",
        "            print('decoder_out_seq>', decoder_out_seq.shape)\n",
        "\n",
        "        def energy_step(inputs, states):\n",
        "            \"\"\" Step function for computing energy for a single decoder state\n",
        "            inputs: (batchsize * 1 * de_in_dim)\n",
        "            states: (batchsize * 1 * de_latent_dim)\n",
        "            \"\"\"\n",
        "\n",
        "            assert_msg = \"States must be an iterable. Got {} of type {}\".format(states, type(states))\n",
        "            assert isinstance(states, list) or isinstance(states, tuple), assert_msg\n",
        "\n",
        "            \"\"\" Some parameters required for shaping tensors\"\"\"\n",
        "            en_seq_len, en_hidden = encoder_out_seq.shape[1], encoder_out_seq.shape[2]\n",
        "            de_hidden = inputs.shape[-1]\n",
        "\n",
        "            \"\"\" Computing S.Wa where S=[s0, s1, ..., si]\"\"\"\n",
        "            # <= batch size * en_seq_len * latent_dim\n",
        "            W_a_dot_s = K.dot(encoder_out_seq, self.W_a)\n",
        "\n",
        "            \"\"\" Computing hj.Ua \"\"\"\n",
        "            U_a_dot_h = K.expand_dims(K.dot(inputs, self.U_a), 1)  # <= batch_size, 1, latent_dim\n",
        "            if verbose:\n",
        "                print('Ua.h>', U_a_dot_h.shape)\n",
        "\n",
        "            \"\"\" tanh(S.Wa + hj.Ua) \"\"\"\n",
        "            # <= batch_size*en_seq_len, latent_dim\n",
        "            Ws_plus_Uh = K.tanh(W_a_dot_s + U_a_dot_h)\n",
        "            if verbose:\n",
        "                print('Ws+Uh>', Ws_plus_Uh.shape)\n",
        "\n",
        "            \"\"\" softmax(va.tanh(S.Wa + hj.Ua)) \"\"\"\n",
        "            # <= batch_size, en_seq_len\n",
        "            e_i = K.squeeze(K.dot(Ws_plus_Uh, self.V_a), axis=-1)\n",
        "            # <= batch_size, en_seq_len\n",
        "            e_i = K.softmax(e_i)\n",
        "\n",
        "            if verbose:\n",
        "                print('ei>', e_i.shape)\n",
        "\n",
        "            return e_i, [e_i]\n",
        "\n",
        "        def context_step(inputs, states):\n",
        "            \"\"\" Step function for computing ci using ei \"\"\"\n",
        "\n",
        "            assert_msg = \"States must be an iterable. Got {} of type {}\".format(states, type(states))\n",
        "            assert isinstance(states, list) or isinstance(states, tuple), assert_msg\n",
        "\n",
        "            # <= batch_size, hidden_size\n",
        "            c_i = K.sum(encoder_out_seq * K.expand_dims(inputs, -1), axis=1)\n",
        "            if verbose:\n",
        "                print('ci>', c_i.shape)\n",
        "            return c_i, [c_i]\n",
        "\n",
        "        fake_state_c = K.sum(encoder_out_seq, axis=1)\n",
        "        fake_state_e = K.sum(encoder_out_seq, axis=2)  # <= (batch_size, enc_seq_len, latent_dim\n",
        "\n",
        "        \"\"\" Computing energy outputs \"\"\"\n",
        "        # e_outputs => (batch_size, de_seq_len, en_seq_len)\n",
        "        last_out, e_outputs, _ = K.rnn(\n",
        "            energy_step, decoder_out_seq, [fake_state_e],\n",
        "        )\n",
        "\n",
        "        \"\"\" Computing context vectors \"\"\"\n",
        "        last_out, c_outputs, _ = K.rnn(\n",
        "            context_step, e_outputs, [fake_state_c],\n",
        "        )\n",
        "\n",
        "        return c_outputs, e_outputs\n",
        "\n",
        "    def compute_output_shape(self, input_shape):\n",
        "        \"\"\" Outputs produced by the layer \"\"\"\n",
        "        return [\n",
        "            tf.TensorShape((input_shape[1][0], input_shape[1][1], input_shape[1][2])),\n",
        "            tf.TensorShape((input_shape[1][0], input_shape[1][1], input_shape[0][1]))\n",
        "        ]"
      ],
      "execution_count": null,
      "outputs": []
    },
    {
      "cell_type": "code",
      "metadata": {
        "id": "pQyO1NM-XBgl"
      },
      "source": [
        ""
      ],
      "execution_count": null,
      "outputs": []
    },
    {
      "cell_type": "code",
      "metadata": {
        "colab": {
          "base_uri": "https://localhost:8080/"
        },
        "id": "dtKHXWXr5sJV",
        "outputId": "c3b90659-ad35-445e-f3c2-a61092b46fdd"
      },
      "source": [
        "from google.colab import drive\n",
        "drive.mount('/content/drive')\n"
      ],
      "execution_count": null,
      "outputs": [
        {
          "output_type": "stream",
          "text": [
            "Mounted at /content/drive\n"
          ],
          "name": "stdout"
        }
      ]
    },
    {
      "cell_type": "code",
      "metadata": {
        "colab": {
          "base_uri": "https://localhost:8080/"
        },
        "id": "vVB2nNH949RW",
        "outputId": "be4f70c4-c6c8-40b5-f3d8-9f53e83f2faa"
      },
      "source": [
        "cd /content/drive"
      ],
      "execution_count": null,
      "outputs": [
        {
          "output_type": "stream",
          "text": [
            "/content/drive\n"
          ],
          "name": "stdout"
        }
      ]
    },
    {
      "cell_type": "code",
      "metadata": {
        "colab": {
          "base_uri": "https://localhost:8080/"
        },
        "id": "ra0wKEi_5GhH",
        "outputId": "320c10c8-e9cf-4087-a64b-f5ea3a0d2c08"
      },
      "source": [
        "cd MyDrive\n"
      ],
      "execution_count": null,
      "outputs": [
        {
          "output_type": "stream",
          "text": [
            "/content/drive/MyDrive\n"
          ],
          "name": "stdout"
        }
      ]
    },
    {
      "cell_type": "code",
      "metadata": {
        "colab": {
          "base_uri": "https://localhost:8080/"
        },
        "id": "KE8xdEDn7ZWO",
        "outputId": "24a8372b-4f6c-40ad-e3cd-acc8b9a73831"
      },
      "source": [
        "cd 'data for colab'"
      ],
      "execution_count": null,
      "outputs": [
        {
          "output_type": "stream",
          "text": [
            "/content/drive/MyDrive/data for colab\n"
          ],
          "name": "stdout"
        }
      ]
    },
    {
      "cell_type": "code",
      "metadata": {
        "id": "ufM2MCuR7bbO"
      },
      "source": [
        "data=pd.read_csv(\"hot_topics_data_100K.csv\")"
      ],
      "execution_count": null,
      "outputs": []
    },
    {
      "cell_type": "code",
      "metadata": {
        "colab": {
          "base_uri": "https://localhost:8080/"
        },
        "id": "E0YmLFuPJ-UE",
        "outputId": "ccf61ca0-ee3f-4155-ec6b-8628e1f27220"
      },
      "source": [
        "data.shape"
      ],
      "execution_count": null,
      "outputs": [
        {
          "output_type": "execute_result",
          "data": {
            "text/plain": [
              "(100000, 3)"
            ]
          },
          "metadata": {
            "tags": []
          },
          "execution_count": 59
        }
      ]
    },
    {
      "cell_type": "code",
      "metadata": {
        "id": "fskrtTN7JvUs"
      },
      "source": [
        "test=pd.read_csv(\"test_set_2000.csv\")"
      ],
      "execution_count": null,
      "outputs": []
    },
    {
      "cell_type": "code",
      "metadata": {
        "id": "C2hmDgYo7eQx"
      },
      "source": [
        "#Remove test from data\n",
        "data=data[~(data[\"FINDINGS\"].isin(test[\"FINDINGS\"])&data[\"IMPRESSION\"].isin(test[\"IMPRESSION\"]))]"
      ],
      "execution_count": null,
      "outputs": []
    },
    {
      "cell_type": "code",
      "metadata": {
        "colab": {
          "base_uri": "https://localhost:8080/"
        },
        "id": "jA9O2p4sKAz2",
        "outputId": "26ada7bf-aafe-4bc4-ce6d-550d9d538668"
      },
      "source": [
        "data.shape"
      ],
      "execution_count": null,
      "outputs": [
        {
          "output_type": "execute_result",
          "data": {
            "text/plain": [
              "(96503, 3)"
            ]
          },
          "metadata": {
            "tags": []
          },
          "execution_count": 62
        }
      ]
    },
    {
      "cell_type": "code",
      "metadata": {
        "id": "tYIiJh3a7fyT"
      },
      "source": [
        "#Drop duplicates\n",
        "data.drop_duplicates(subset=['FINDINGS'],inplace=True)  #dropping duplicates\n",
        "data.dropna(axis=0,inplace=True)"
      ],
      "execution_count": null,
      "outputs": []
    },
    {
      "cell_type": "code",
      "metadata": {
        "id": "CcAvQB_a7hiZ"
      },
      "source": [
        "#drop all the unwanted symbols, characters, etc. from the text that do not affect the objective of our problem.\n",
        "contraction_mapping = {\"ain't\": \"is not\", \"aren't\": \"are not\",\"can't\": \"cannot\", \"'cause\": \"because\", \"could've\": \"could have\", \"couldn't\": \"could not\",\n",
        "\n",
        "                           \"didn't\": \"did not\", \"doesn't\": \"does not\", \"don't\": \"do not\", \"hadn't\": \"had not\", \"hasn't\": \"has not\", \"haven't\": \"have not\",\n",
        "\n",
        "                           \"he'd\": \"he would\",\"he'll\": \"he will\", \"he's\": \"he is\", \"how'd\": \"how did\", \"how'd'y\": \"how do you\", \"how'll\": \"how will\", \"how's\": \"how is\",\n",
        "\n",
        "                           \"I'd\": \"I would\", \"I'd've\": \"I would have\", \"I'll\": \"I will\", \"I'll've\": \"I will have\",\"I'm\": \"I am\", \"I've\": \"I have\", \"i'd\": \"i would\",\n",
        "\n",
        "                           \"i'd've\": \"i would have\", \"i'll\": \"i will\",  \"i'll've\": \"i will have\",\"i'm\": \"i am\", \"i've\": \"i have\", \"isn't\": \"is not\", \"it'd\": \"it would\",\n",
        "\n",
        "                           \"it'd've\": \"it would have\", \"it'll\": \"it will\", \"it'll've\": \"it will have\",\"it's\": \"it is\", \"let's\": \"let us\", \"ma'am\": \"madam\",\n",
        "\n",
        "                           \"mayn't\": \"may not\", \"might've\": \"might have\",\"mightn't\": \"might not\",\"mightn't've\": \"might not have\", \"must've\": \"must have\",\n",
        "\n",
        "                           \"mustn't\": \"must not\", \"mustn't've\": \"must not have\", \"needn't\": \"need not\", \"needn't've\": \"need not have\",\"o'clock\": \"of the clock\",\n",
        "\n",
        "                           \"oughtn't\": \"ought not\", \"oughtn't've\": \"ought not have\", \"shan't\": \"shall not\", \"sha'n't\": \"shall not\", \"shan't've\": \"shall not have\",\n",
        "\n",
        "                           \"she'd\": \"she would\", \"she'd've\": \"she would have\", \"she'll\": \"she will\", \"she'll've\": \"she will have\", \"she's\": \"she is\",\n",
        "\n",
        "                           \"should've\": \"should have\", \"shouldn't\": \"should not\", \"shouldn't've\": \"should not have\", \"so've\": \"so have\",\"so's\": \"so as\",\n",
        "\n",
        "                           \"this's\": \"this is\",\"that'd\": \"that would\", \"that'd've\": \"that would have\", \"that's\": \"that is\", \"there'd\": \"there would\",\n",
        "\n",
        "                           \"there'd've\": \"there would have\", \"there's\": \"there is\", \"here's\": \"here is\",\"they'd\": \"they would\", \"they'd've\": \"they would have\",\n",
        "\n",
        "                           \"they'll\": \"they will\", \"they'll've\": \"they will have\", \"they're\": \"they are\", \"they've\": \"they have\", \"to've\": \"to have\",\n",
        "\n",
        "                           \"wasn't\": \"was not\", \"we'd\": \"we would\", \"we'd've\": \"we would have\", \"we'll\": \"we will\", \"we'll've\": \"we will have\", \"we're\": \"we are\",\n",
        "\n",
        "                           \"we've\": \"we have\", \"weren't\": \"were not\", \"what'll\": \"what will\", \"what'll've\": \"what will have\", \"what're\": \"what are\",\n",
        "\n",
        "                           \"what's\": \"what is\", \"what've\": \"what have\", \"when's\": \"when is\", \"when've\": \"when have\", \"where'd\": \"where did\", \"where's\": \"where is\",\n",
        "\n",
        "                           \"where've\": \"where have\", \"who'll\": \"who will\", \"who'll've\": \"who will have\", \"who's\": \"who is\", \"who've\": \"who have\",\n",
        "\n",
        "                           \"why's\": \"why is\", \"why've\": \"why have\", \"will've\": \"will have\", \"won't\": \"will not\", \"won't've\": \"will not have\",\n",
        "\n",
        "                           \"would've\": \"would have\", \"wouldn't\": \"would not\", \"wouldn't've\": \"would not have\", \"y'all\": \"you all\",\n",
        "\n",
        "                           \"y'all'd\": \"you all would\",\"y'all'd've\": \"you all would have\",\"y'all're\": \"you all are\",\"y'all've\": \"you all have\",\n",
        "\n",
        "                           \"you'd\": \"you would\", \"you'd've\": \"you would have\", \"you'll\": \"you will\", \"you'll've\": \"you will have\",\n",
        "\n",
        "                           \"you're\": \"you are\", \"you've\": \"you have\"}"
      ],
      "execution_count": null,
      "outputs": []
    },
    {
      "cell_type": "code",
      "metadata": {
        "colab": {
          "base_uri": "https://localhost:8080/"
        },
        "id": "9Bg1OudoiyRA",
        "outputId": "3bf1924f-636c-42fa-f674-56742a5a36a8"
      },
      "source": [
        "import nltk\n",
        "nltk.download('stopwords')"
      ],
      "execution_count": null,
      "outputs": [
        {
          "output_type": "stream",
          "text": [
            "[nltk_data] Downloading package stopwords to /root/nltk_data...\n",
            "[nltk_data]   Unzipping corpora/stopwords.zip.\n"
          ],
          "name": "stdout"
        },
        {
          "output_type": "execute_result",
          "data": {
            "text/plain": [
              "True"
            ]
          },
          "metadata": {
            "tags": []
          },
          "execution_count": 65
        }
      ]
    },
    {
      "cell_type": "code",
      "metadata": {
        "id": "LE9X3Tvs7j4V"
      },
      "source": [
        "stop_words = set(stopwords.words('english')) \n",
        "def text_cleaner(text):\n",
        "    newString = text.lower()\n",
        "    newString = BeautifulSoup(newString, \"lxml\").text\n",
        "    newString = re.sub(r'\\([^)]*\\)', '', newString)\n",
        "    newString = re.sub('\"','', newString)\n",
        "    newString = ' '.join([contraction_mapping[t] if t in contraction_mapping else t for t in newString.split(\" \")])    \n",
        "    newString = re.sub(r\"'s\\b\",\"\",newString)\n",
        "    newString = re.sub(\"[^a-zA-Z]\", \" \", newString) \n",
        "    tokens = [w for w in newString.split() if not w in stop_words]\n",
        "    long_words=[]\n",
        "    for i in tokens:\n",
        "        if len(i)>=3:                  #removing short word\n",
        "            long_words.append(i)   \n",
        "    return (\" \".join(long_words)).strip()\n",
        "\n",
        "cleaned_text = []\n",
        "for t in data['FINDINGS']:\n",
        "    cleaned_text.append(text_cleaner(t))"
      ],
      "execution_count": null,
      "outputs": []
    },
    {
      "cell_type": "code",
      "metadata": {
        "id": "wQT7JagsLzFc"
      },
      "source": [
        "cleaned_text_test = []\n",
        "for t in test['FINDINGS']:\n",
        "    cleaned_text_test.append(text_cleaner(t))"
      ],
      "execution_count": null,
      "outputs": []
    },
    {
      "cell_type": "code",
      "metadata": {
        "id": "Q9T8nsOh7mGF"
      },
      "source": [
        "def summary_cleaner(text):\n",
        "    newString = re.sub('\"','', text)\n",
        "    newString = ' '.join([contraction_mapping[t] if t in contraction_mapping else t for t in newString.split(\" \")])    \n",
        "    newString = re.sub(r\"'s\\b\",\"\",newString)\n",
        "    newString = re.sub(\"[^a-zA-Z]\", \" \", newString)\n",
        "    newString = newString.lower()\n",
        "    tokens=newString.split()\n",
        "    newString=''\n",
        "    for i in tokens:\n",
        "        if len(i)>1:                                 \n",
        "            newString=newString+i+' '  \n",
        "    return newString\n",
        "\n",
        "#Call the above function\n",
        "cleaned_summary = []\n",
        "for t in data['IMPRESSION']:\n",
        "    cleaned_summary.append(summary_cleaner(t))\n",
        "#Call the above function\n",
        "cleaned_summary_test = []\n",
        "for t in test['IMPRESSION']:\n",
        "    cleaned_summary_test.append(summary_cleaner(t))\n",
        "\n",
        "data['cleaned_text']=cleaned_text\n",
        "data['cleaned_summary']=cleaned_summary\n",
        "data['cleaned_summary'].replace('', np.nan, inplace=True)\n",
        "data.dropna(axis=0,inplace=True)\n",
        "\n",
        "test['cleaned_text']=cleaned_text_test\n",
        "test['cleaned_summary']=cleaned_summary_test\n",
        "test['cleaned_summary'].replace('', np.nan, inplace=True)\n",
        "test.dropna(axis=0,inplace=True)"
      ],
      "execution_count": null,
      "outputs": []
    },
    {
      "cell_type": "code",
      "metadata": {
        "id": "WyaXjGi-7ub7"
      },
      "source": [
        "#Add the START and END special tokens at the beginning and end of the summary\n",
        "data['cleaned_summary'] = data['cleaned_summary'].apply(lambda x : 'sostok '+ x + ' eostok')\n",
        "#Add the START and END special tokens at the beginning and end of the summary\n",
        "test['cleaned_summary'] = test['cleaned_summary'].apply(lambda x : 'sostok '+ x + ' eostok')"
      ],
      "execution_count": null,
      "outputs": []
    },
    {
      "cell_type": "code",
      "metadata": {
        "colab": {
          "base_uri": "https://localhost:8080/",
          "height": 281
        },
        "id": "AUtw3RKZ7wfI",
        "outputId": "3c571185-65ba-453c-aac2-7297f3053bcc"
      },
      "source": [
        "#analyze the length of the reviews and the summary to get an overall idea about the distribution of length of the text\n",
        "import matplotlib.pyplot as plt\n",
        "text_word_count = []\n",
        "summary_word_count = []\n",
        "\n",
        "# populate the lists with sentence lengths\n",
        "for i in data['cleaned_text']:\n",
        "      text_word_count.append(len(i.split()))\n",
        "\n",
        "for i in data['cleaned_summary']:\n",
        "      summary_word_count.append(len(i.split()))\n",
        "\n",
        "length_df = pd.DataFrame({'text':text_word_count, 'summary':summary_word_count})\n",
        "length_df.hist(bins = 30)\n",
        "plt.show()"
      ],
      "execution_count": null,
      "outputs": [
        {
          "output_type": "display_data",
          "data": {
            "image/png": "[encoded data removed]",
            "text/plain": [
              "<Figure size 432x288 with 2 Axes>"
            ]
          },
          "metadata": {
            "tags": [],
            "needs_background": "light"
          }
        }
      ]
    },
    {
      "cell_type": "code",
      "metadata": {
        "id": "k8tf4oCH7ySp"
      },
      "source": [
        "#From above histogram we define\n",
        "max_len_text=200 \n",
        "max_len_summary=54"
      ],
      "execution_count": null,
      "outputs": []
    },
    {
      "cell_type": "code",
      "metadata": {
        "id": "nyFQjG8w7z_b"
      },
      "source": [
        "from sklearn.model_selection import train_test_split\n",
        "x_tr,x_val,y_tr,y_val=train_test_split(data['cleaned_text'],data['cleaned_summary'],test_size=0.1,random_state=0,shuffle=True) \n"
      ],
      "execution_count": null,
      "outputs": []
    },
    {
      "cell_type": "code",
      "metadata": {
        "id": "XJhc0FXhNDrz"
      },
      "source": [
        "x_test=test[\"cleaned_text\"]\n",
        "y_test=test[\"cleaned_summary\"]"
      ],
      "execution_count": null,
      "outputs": []
    },
    {
      "cell_type": "code",
      "metadata": {
        "id": "we07bbWQ71e6"
      },
      "source": [
        "#prepare a tokenizer for reviews on training data\n",
        "x_tokenizer = Tokenizer()\n",
        "x_tokenizer.fit_on_texts(list(x_tr))\n",
        "\n",
        "#convert text sequences into integer sequences\n",
        "x_tr    =   x_tokenizer.texts_to_sequences(x_tr) \n",
        "x_val   =   x_tokenizer.texts_to_sequences(x_val)\n",
        "\n",
        "#padding zero upto maximum length\n",
        "x_tr    =   pad_sequences(x_tr,  maxlen=max_len_text, padding='post') \n",
        "x_val   =   pad_sequences(x_val, maxlen=max_len_text, padding='post')\n",
        "\n",
        "x_voc_size   =  len(x_tokenizer.word_index) +1"
      ],
      "execution_count": null,
      "outputs": []
    },
    {
      "cell_type": "code",
      "metadata": {
        "id": "eRJH4KC9Ms3r"
      },
      "source": [
        "x_test=x_tokenizer.texts_to_sequences(x_test)\n",
        "x_test   =   pad_sequences(x_test, maxlen=max_len_text, padding='post')"
      ],
      "execution_count": null,
      "outputs": []
    },
    {
      "cell_type": "code",
      "metadata": {
        "id": "tgA3D99u73Hs"
      },
      "source": [
        "#preparing a tokenizer for summary on training data \n",
        "y_tokenizer = Tokenizer()\n",
        "y_tokenizer.fit_on_texts(list(y_tr))\n",
        "\n",
        "#convert summary sequences into integer sequences\n",
        "y_tr    =   y_tokenizer.texts_to_sequences(y_tr) \n",
        "y_val   =   y_tokenizer.texts_to_sequences(y_val) \n",
        "\n",
        "#padding zero upto maximum length\n",
        "y_tr    =   pad_sequences(y_tr, maxlen=max_len_summary, padding='post')\n",
        "y_val   =   pad_sequences(y_val, maxlen=max_len_summary, padding='post')\n",
        "\n",
        "y_voc_size  =   len(y_tokenizer.word_index) +1"
      ],
      "execution_count": null,
      "outputs": []
    },
    {
      "cell_type": "code",
      "metadata": {
        "id": "Se71oQOLM7-T"
      },
      "source": [
        "y_test= y_tokenizer.texts_to_sequences(y_test)\n",
        "y_test   =   pad_sequences(y_test, maxlen=max_len_summary, padding='post')"
      ],
      "execution_count": null,
      "outputs": []
    },
    {
      "cell_type": "code",
      "metadata": {
        "colab": {
          "base_uri": "https://localhost:8080/"
        },
        "id": "gpuWf6U8742a",
        "outputId": "b929b970-e8a2-45df-b05b-ef6458062bf0"
      },
      "source": [
        "from keras import backend as K \n",
        "K.clear_session() \n",
        "latent_dim = 500 \n",
        "\n",
        "# Encoder \n",
        "encoder_inputs = Input(shape=(max_len_text,)) \n",
        "enc_emb = Embedding(x_voc_size, latent_dim,trainable=True)(encoder_inputs) \n",
        "\n",
        "#LSTM 1 \n",
        "encoder_lstm1 = LSTM(latent_dim,return_sequences=True,return_state=True) \n",
        "encoder_output1, state_h1, state_c1 = encoder_lstm1(enc_emb) \n",
        "\n",
        "#LSTM 2 \n",
        "encoder_lstm2 = LSTM(latent_dim,return_sequences=True,return_state=True) \n",
        "encoder_output2, state_h2, state_c2 = encoder_lstm2(encoder_output1) \n",
        "\n",
        "#LSTM 3 \n",
        "encoder_lstm3=LSTM(latent_dim, return_state=True, return_sequences=True) \n",
        "encoder_outputs, state_h, state_c= encoder_lstm3(encoder_output2) \n",
        "\n",
        "# Set up the decoder. \n",
        "decoder_inputs = Input(shape=(None,)) \n",
        "dec_emb_layer = Embedding(y_voc_size, latent_dim,trainable=True) \n",
        "dec_emb = dec_emb_layer(decoder_inputs) \n",
        "\n",
        "#LSTM using encoder_states as initial state\n",
        "decoder_lstm = LSTM(latent_dim, return_sequences=True, return_state=True) \n",
        "decoder_outputs,decoder_fwd_state, decoder_back_state = decoder_lstm(dec_emb,initial_state=[state_h, state_c]) \n",
        "\n",
        "#Attention Layer\n",
        "attn_layer = AttentionLayer(name='attention_layer') \n",
        "attn_out, attn_states = attn_layer([encoder_outputs, decoder_outputs]) \n",
        "\n",
        "# Concat attention output and decoder LSTM output \n",
        "decoder_concat_input = Concatenate(axis=-1, name='concat_layer')([decoder_outputs, attn_out])\n",
        "\n",
        "#Dense layer\n",
        "decoder_dense = TimeDistributed(Dense(y_voc_size, activation='softmax')) \n",
        "decoder_outputs = decoder_dense(decoder_concat_input) \n",
        "\n",
        "# Define the model\n",
        "model = Model([encoder_inputs, decoder_inputs], decoder_outputs) \n",
        "model.summary()"
      ],
      "execution_count": null,
      "outputs": [
        {
          "output_type": "stream",
          "text": [
            "Model: \"functional_1\"\n",
            "__________________________________________________________________________________________________\n",
            "Layer (type)                    Output Shape         Param #     Connected to                     \n",
            "==================================================================================================\n",
            "input_1 (InputLayer)            [(None, 200)]        0                                            \n",
            "__________________________________________________________________________________________________\n",
            "embedding (Embedding)           (None, 200, 500)     9730000     input_1[0][0]                    \n",
            "__________________________________________________________________________________________________\n",
            "lstm (LSTM)                     [(None, 200, 500), ( 2002000     embedding[0][0]                  \n",
            "__________________________________________________________________________________________________\n",
            "input_2 (InputLayer)            [(None, None)]       0                                            \n",
            "__________________________________________________________________________________________________\n",
            "lstm_1 (LSTM)                   [(None, 200, 500), ( 2002000     lstm[0][0]                       \n",
            "__________________________________________________________________________________________________\n",
            "embedding_1 (Embedding)         (None, None, 500)    6963000     input_2[0][0]                    \n",
            "__________________________________________________________________________________________________\n",
            "lstm_2 (LSTM)                   [(None, 200, 500), ( 2002000     lstm_1[0][0]                     \n",
            "__________________________________________________________________________________________________\n",
            "lstm_3 (LSTM)                   [(None, None, 500),  2002000     embedding_1[0][0]                \n",
            "                                                                 lstm_2[0][1]                     \n",
            "                                                                 lstm_2[0][2]                     \n",
            "__________________________________________________________________________________________________\n",
            "attention_layer (AttentionLayer ((None, None, 500),  500500      lstm_2[0][0]                     \n",
            "                                                                 lstm_3[0][0]                     \n",
            "__________________________________________________________________________________________________\n",
            "concat_layer (Concatenate)      (None, None, 1000)   0           lstm_3[0][0]                     \n",
            "                                                                 attention_layer[0][0]            \n",
            "__________________________________________________________________________________________________\n",
            "time_distributed (TimeDistribut (None, None, 13926)  13939926    concat_layer[0][0]               \n",
            "==================================================================================================\n",
            "Total params: 39,141,426\n",
            "Trainable params: 39,141,426\n",
            "Non-trainable params: 0\n",
            "__________________________________________________________________________________________________\n"
          ],
          "name": "stdout"
        }
      ]
    },
    {
      "cell_type": "code",
      "metadata": {
        "colab": {
          "base_uri": "https://localhost:8080/",
          "height": 976
        },
        "id": "21kJVQ4Oqhgv",
        "outputId": "0163f5f8-6bb8-4ba6-d79a-dce58652c922"
      },
      "source": [
        "plot_model(model,show_shapes=True)"
      ],
      "execution_count": null,
      "outputs": [
        {
          "output_type": "execute_result",
          "data": {
            "image/png": "[encoded data removed]",
            "text/plain": [
              "<IPython.core.display.Image object>"
            ]
          },
          "metadata": {
            "tags": []
          },
          "execution_count": 62
        }
      ]
    },
    {
      "cell_type": "code",
      "metadata": {
        "id": "BTqqZZkY77EU"
      },
      "source": [
        "model.compile(optimizer='rmsprop', loss='sparse_categorical_crossentropy')"
      ],
      "execution_count": null,
      "outputs": []
    },
    {
      "cell_type": "code",
      "metadata": {
        "id": "TT7Tq0lb7-Ua"
      },
      "source": [
        "es = EarlyStopping(monitor='val_loss', mode='min', verbose=1,patience=2)"
      ],
      "execution_count": null,
      "outputs": []
    },
    {
      "cell_type": "code",
      "metadata": {
        "colab": {
          "base_uri": "https://localhost:8080/"
        },
        "id": "EN46ifNi7-9v",
        "outputId": "8c34e53f-3c8d-4ebd-f02f-891460bff6ad"
      },
      "source": [
        "history=model.fit([x_tr,y_tr[:,:-1]], y_tr.reshape(y_tr.shape[0],y_tr.shape[1], 1)[:,1:], callbacks=[es],epochs=25,batch_size=64, validation_data=([x_val,y_val[:,:-1]], y_val.reshape(y_val.shape[0],y_val.shape[1], 1)[:,1:]))"
      ],
      "execution_count": null,
      "outputs": [
        {
          "output_type": "stream",
          "text": [
            "Epoch 1/25\n",
            "1288/1288 [==============================] - 427s 332ms/step - loss: 1.8126 - val_loss: 1.4169\n",
            "Epoch 2/25\n",
            "1288/1288 [==============================] - 425s 330ms/step - loss: 1.3503 - val_loss: 1.2784\n",
            "Epoch 3/25\n",
            "1288/1288 [==============================] - 427s 332ms/step - loss: 1.2329 - val_loss: 1.2170\n",
            "Epoch 4/25\n",
            "1288/1288 [==============================] - 426s 331ms/step - loss: 1.1585 - val_loss: 1.1820\n",
            "Epoch 5/25\n",
            "1288/1288 [==============================] - 424s 329ms/step - loss: 1.1004 - val_loss: 1.1606\n",
            "Epoch 6/25\n",
            "1288/1288 [==============================] - 423s 328ms/step - loss: 1.0507 - val_loss: 1.1500\n",
            "Epoch 7/25\n",
            "1288/1288 [==============================] - 422s 328ms/step - loss: 1.0055 - val_loss: 1.1451\n",
            "Epoch 8/25\n",
            "1288/1288 [==============================] - 422s 328ms/step - loss: 0.9629 - val_loss: 1.1444\n",
            "Epoch 9/25\n",
            "1288/1288 [==============================] - 422s 327ms/step - loss: 0.9229 - val_loss: 1.1555\n",
            "Epoch 10/25\n",
            "1288/1288 [==============================] - 422s 328ms/step - loss: 0.8861 - val_loss: 1.1650\n",
            "Epoch 00010: early stopping\n"
          ],
          "name": "stdout"
        }
      ]
    },
    {
      "cell_type": "code",
      "metadata": {
        "colab": {
          "base_uri": "https://localhost:8080/",
          "height": 281
        },
        "id": "rTAz5_kYGKre",
        "outputId": "f62d23ec-0105-465b-fc9f-7202ed46a663"
      },
      "source": [
        "from matplotlib import pyplot\n",
        "pyplot.plot(history.history['loss'], label='train')\n",
        "pyplot.plot(history.history['val_loss'], label='validation')\n",
        "pyplot.title(\"Train loss and Test loss per each Epoch\")\n",
        "pyplot.legend()\n",
        "pyplot.show()"
      ],
      "execution_count": null,
      "outputs": [
        {
          "output_type": "display_data",
          "data": {
            "image/png": "[encoded data removed]",
            "text/plain": [
              "<Figure size 432x288 with 1 Axes>"
            ]
          },
          "metadata": {
            "tags": [],
            "needs_background": "light"
          }
        }
      ]
    },
    {
      "cell_type": "code",
      "metadata": {
        "id": "yQjnpjzV8Ao1"
      },
      "source": [
        "reverse_target_word_index=y_tokenizer.index_word \n",
        "reverse_source_word_index=x_tokenizer.index_word \n",
        "target_word_index=y_tokenizer.word_index"
      ],
      "execution_count": null,
      "outputs": []
    },
    {
      "cell_type": "code",
      "metadata": {
        "id": "saUqYQBZ8DuJ"
      },
      "source": [
        "# encoder inference\n",
        "encoder_model = Model(inputs=encoder_inputs,outputs=[encoder_outputs, state_h, state_c])\n",
        "\n",
        "# decoder inference\n",
        "# Below tensors will hold the states of the previous time step\n",
        "decoder_state_input_h = Input(shape=(latent_dim,))\n",
        "decoder_state_input_c = Input(shape=(latent_dim,))\n",
        "decoder_hidden_state_input = Input(shape=(max_len_text,latent_dim))\n",
        "\n",
        "# Get the embeddings of the decoder sequence\n",
        "dec_emb2= dec_emb_layer(decoder_inputs)\n",
        "\n",
        "# To predict the next word in the sequence, set the initial states to the states from the previous time step\n",
        "decoder_outputs2, state_h2, state_c2 = decoder_lstm(dec_emb2, initial_state=[decoder_state_input_h, decoder_state_input_c])\n",
        "\n",
        "#attention inference\n",
        "attn_out_inf, attn_states_inf = attn_layer([decoder_hidden_state_input, decoder_outputs2])\n",
        "decoder_inf_concat = Concatenate(axis=-1, name='concat')([decoder_outputs2, attn_out_inf])\n",
        "\n",
        "# A dense softmax layer to generate prob dist. over the target vocabulary\n",
        "decoder_outputs2 = decoder_dense(decoder_inf_concat)\n",
        "\n",
        "# Final decoder model\n",
        "decoder_model = Model(\n",
        "[decoder_inputs] + [decoder_hidden_state_input,decoder_state_input_h, decoder_state_input_c],\n",
        "[decoder_outputs2] + [state_h2, state_c2])"
      ],
      "execution_count": null,
      "outputs": []
    },
    {
      "cell_type": "code",
      "metadata": {
        "id": "onz44YXh8GF2"
      },
      "source": [
        "def decode_sequence(input_seq):\n",
        "    # Encode the input as state vectors.\n",
        "    e_out, e_h, e_c = encoder_model.predict(input_seq)\n",
        "    \n",
        "    # Generate empty target sequence of length 1.\n",
        "    target_seq = np.zeros((1,1))\n",
        "    \n",
        "    # Populate the first word of target sequence with the start word.\n",
        "    target_seq[0, 0] = target_word_index['sostok']\n",
        "\n",
        "    stop_condition = False\n",
        "    decoded_sentence = ''\n",
        "    while not stop_condition:\n",
        "      \n",
        "        output_tokens, h, c = decoder_model.predict([target_seq] + [e_out, e_h, e_c])\n",
        "\n",
        "        # Sample a token\n",
        "        sampled_token_index = np.argmax(output_tokens[0, -1, :])\n",
        "        sampled_token = reverse_target_word_index[sampled_token_index]\n",
        "        \n",
        "        if(sampled_token!='eostok'):\n",
        "            decoded_sentence += ' '+sampled_token\n",
        "\n",
        "        # Exit condition: either hit max length or find stop word.\n",
        "        if (sampled_token == 'eostok'  or len(decoded_sentence.split()) >= 53):\n",
        "            stop_condition = True\n",
        "\n",
        "        # Update the target sequence (of length 1).\n",
        "        target_seq = np.zeros((1,1))\n",
        "        target_seq[0, 0] = sampled_token_index\n",
        "\n",
        "        # Update internal states\n",
        "        e_h, e_c = h, c\n",
        "\n",
        "    return decoded_sentence"
      ],
      "execution_count": null,
      "outputs": []
    },
    {
      "cell_type": "code",
      "metadata": {
        "id": "dF_ny_z48MYg"
      },
      "source": [
        "def seq2summary(input_seq):\n",
        "    newString=''\n",
        "    for i in input_seq:\n",
        "        if((i!=0 and i!=target_word_index['sostok']) and i!=target_word_index['eostok']):\n",
        "            newString=newString+reverse_target_word_index[i]+' '\n",
        "    return newString\n",
        "\n",
        "def seq2text(input_seq):\n",
        "    newString=''\n",
        "    for i in input_seq:\n",
        "        if(i!=0):\n",
        "            newString=newString+reverse_source_word_index[i]+' '\n",
        "    return newString"
      ],
      "execution_count": null,
      "outputs": []
    },
    {
      "cell_type": "code",
      "metadata": {
        "id": "-bXD0pAUGpzS"
      },
      "source": [
        "y_true=[]\n",
        "y_pred=[]\n",
        "for i in range(0,1999):\n",
        "  y_true.append(seq2summary(y_test[i]))\n",
        "  y_pred.append(decode_sequence(x_test[i].reshape(1,max_len_text)))\n"
      ],
      "execution_count": null,
      "outputs": []
    },
    {
      "cell_type": "code",
      "metadata": {
        "id": "VGE7KKNqHOo2"
      },
      "source": [
        "pred_output=pd.DataFrame()\n",
        "pred_output[\"y_pred\"]=y_pred\n",
        "pred_output[\"y_true\"]=y_true"
      ],
      "execution_count": null,
      "outputs": []
    },
    {
      "cell_type": "code",
      "metadata": {
        "id": "EHEzLH1xGguK"
      },
      "source": [
        "\n",
        "from nltk.translate.bleu_score import sentence_bleu\n",
        "from nltk.translate.bleu_score import SmoothingFunction\n",
        "chencherry = SmoothingFunction()\n",
        "\n",
        "def sentence_bleu_n(ref, hyp, weights):\n",
        "  return sentence_bleu(references = [ref.split()], \n",
        "                       hypothesis = hyp.split(),\n",
        "                       weights = weights,\n",
        "                       smoothing_function = chencherry.method1)\n"
      ],
      "execution_count": null,
      "outputs": []
    },
    {
      "cell_type": "code",
      "metadata": {
        "colab": {
          "base_uri": "https://localhost:8080/"
        },
        "id": "Z3Xcq559i7XF",
        "outputId": "848184aa-cbac-4f17-d662-058a41d82202"
      },
      "source": [
        "pip install rouge"
      ],
      "execution_count": null,
      "outputs": [
        {
          "output_type": "stream",
          "text": [
            "Requirement already satisfied: rouge in /usr/local/lib/python3.6/dist-packages (1.0.0)\n",
            "Requirement already satisfied: six in /usr/local/lib/python3.6/dist-packages (from rouge) (1.15.0)\n"
          ],
          "name": "stdout"
        }
      ]
    },
    {
      "cell_type": "code",
      "metadata": {
        "id": "yFh_lQfZTz9T"
      },
      "source": [
        "from rouge import Rouge "
      ],
      "execution_count": null,
      "outputs": []
    },
    {
      "cell_type": "code",
      "metadata": {
        "id": "o0fV3iJjT7Hn"
      },
      "source": [
        "def sentence_rouge(ref, hyp,weight):\n",
        "  rouge = Rouge()\n",
        "  scores=rouge.get_scores(ref, hyp)\n",
        "  if weight==1:\n",
        "    return scores[0][\"rouge-1\"][\"f\"]\n",
        "  else:\n",
        "    return scores[0][\"rouge-2\"][\"f\"]"
      ],
      "execution_count": null,
      "outputs": []
    },
    {
      "cell_type": "code",
      "metadata": {
        "id": "Wtlq82vhVMo9"
      },
      "source": [
        "# bleu1\n",
        "pred_output['bleu1'] = pred_output[['y_pred', 'y_true']].apply(lambda x: sentence_bleu_n(x[1], x[0], weights = [1,0,0,0]), axis=1)\n",
        "\n",
        "# bleu2\n",
        "pred_output['bleu2'] = pred_output[['y_pred', 'y_true']].apply(lambda x: sentence_bleu_n(x[1], x[0], weights = [0,1,0,0]), axis=1)\n",
        "\n",
        "#Rouge1\n",
        "pred_output[\"rouge1\"]=pred_output[['y_pred', 'y_true']].apply(lambda x: sentence_rouge(x[1], x[0], weight = 1), axis=1)\n",
        "\n",
        "#Rouge2\n",
        "pred_output[\"rouge2\"]=pred_output[['y_pred', 'y_true']].apply(lambda x: sentence_rouge(x[1], x[0], weight = 2), axis=1)"
      ],
      "execution_count": null,
      "outputs": []
    },
    {
      "cell_type": "code",
      "metadata": {
        "colab": {
          "base_uri": "https://localhost:8080/",
          "height": 289
        },
        "id": "7bbtFbO4WIoV",
        "outputId": "c6fd471c-53dd-4ab9-bf20-d20aa48585dc"
      },
      "source": [
        "pred_output.head()"
      ],
      "execution_count": null,
      "outputs": [
        {
          "output_type": "execute_result",
          "data": {
            "text/html": [
              "<div>\n",
              "<style scoped>\n",
              "    .dataframe tbody tr th:only-of-type {\n",
              "        vertical-align: middle;\n",
              "    }\n",
              "\n",
              "    .dataframe tbody tr th {\n",
              "        vertical-align: top;\n",
              "    }\n",
              "\n",
              "    .dataframe thead th {\n",
              "        text-align: right;\n",
              "    }\n",
              "</style>\n",
              "<table border=\"1\" class=\"dataframe\">\n",
              "  <thead>\n",
              "    <tr style=\"text-align: right;\">\n",
              "      <th></th>\n",
              "      <th>y_pred</th>\n",
              "      <th>y_true</th>\n",
              "      <th>bleu1</th>\n",
              "      <th>bleu2</th>\n",
              "      <th>rouge1</th>\n",
              "      <th>rouge2</th>\n",
              "    </tr>\n",
              "  </thead>\n",
              "  <tbody>\n",
              "    <tr>\n",
              "      <th>0</th>\n",
              "      <td>there is no evidence for acute intracranial h...</td>\n",
              "      <td>subacute infarction involving the right poster...</td>\n",
              "      <td>0.309524</td>\n",
              "      <td>1.000000</td>\n",
              "      <td>0.309524</td>\n",
              "      <td>0.000000</td>\n",
              "    </tr>\n",
              "    <tr>\n",
              "      <th>1</th>\n",
              "      <td>interval development of moderate to marked de...</td>\n",
              "      <td>over the interval previously demonstrated mode...</td>\n",
              "      <td>0.134219</td>\n",
              "      <td>0.885846</td>\n",
              "      <td>0.142857</td>\n",
              "      <td>0.000000</td>\n",
              "    </tr>\n",
              "    <tr>\n",
              "      <th>2</th>\n",
              "      <td>no evidence of pulmonary embolism or other ac...</td>\n",
              "      <td>no evidence of pulmonary embolism centrilobula...</td>\n",
              "      <td>0.061228</td>\n",
              "      <td>0.054425</td>\n",
              "      <td>0.243902</td>\n",
              "      <td>0.205128</td>\n",
              "    </tr>\n",
              "    <tr>\n",
              "      <th>3</th>\n",
              "      <td>enteric tube tip in the region of the distal ...</td>\n",
              "      <td>no change in appearance of enteric tube as abo...</td>\n",
              "      <td>0.219525</td>\n",
              "      <td>0.060979</td>\n",
              "      <td>0.307692</td>\n",
              "      <td>0.083333</td>\n",
              "    </tr>\n",
              "    <tr>\n",
              "      <th>4</th>\n",
              "      <td>no evidence of intracranial hemorrhage edema ...</td>\n",
              "      <td>no evidence of intracranial hemorrhage or mass...</td>\n",
              "      <td>0.452419</td>\n",
              "      <td>0.255211</td>\n",
              "      <td>0.476190</td>\n",
              "      <td>0.268293</td>\n",
              "    </tr>\n",
              "  </tbody>\n",
              "</table>\n",
              "</div>"
            ],
            "text/plain": [
              "                                              y_pred  ...    rouge2\n",
              "0   there is no evidence for acute intracranial h...  ...  0.000000\n",
              "1   interval development of moderate to marked de...  ...  0.000000\n",
              "2   no evidence of pulmonary embolism or other ac...  ...  0.205128\n",
              "3   enteric tube tip in the region of the distal ...  ...  0.083333\n",
              "4   no evidence of intracranial hemorrhage edema ...  ...  0.268293\n",
              "\n",
              "[5 rows x 6 columns]"
            ]
          },
          "metadata": {
            "tags": []
          },
          "execution_count": 41
        }
      ]
    },
    {
      "cell_type": "code",
      "metadata": {
        "colab": {
          "base_uri": "https://localhost:8080/"
        },
        "id": "5EW7ERE7VkUY",
        "outputId": "8b107f0c-6092-43f3-871e-36549ba7765b"
      },
      "source": [
        "pred_output[\"bleu1\"].mean()"
      ],
      "execution_count": null,
      "outputs": [
        {
          "output_type": "execute_result",
          "data": {
            "text/plain": [
              "0.2668685861918443"
            ]
          },
          "metadata": {
            "tags": []
          },
          "execution_count": 93
        }
      ]
    },
    {
      "cell_type": "code",
      "metadata": {
        "colab": {
          "base_uri": "https://localhost:8080/"
        },
        "id": "Ngob84TjWGDg",
        "outputId": "58767c79-714d-4b79-c8e3-af78ce4dc046"
      },
      "source": [
        "pred_output[\"bleu2\"].mean()"
      ],
      "execution_count": null,
      "outputs": [
        {
          "output_type": "execute_result",
          "data": {
            "text/plain": [
              "0.17016897097888237"
            ]
          },
          "metadata": {
            "tags": []
          },
          "execution_count": 97
        }
      ]
    },
    {
      "cell_type": "code",
      "metadata": {
        "colab": {
          "base_uri": "https://localhost:8080/"
        },
        "id": "9acw9KTXDnSH",
        "outputId": "71ef6bcd-a210-4043-9a22-843097c24c0a"
      },
      "source": [
        "pred_output[\"rouge1\"].mean()"
      ],
      "execution_count": null,
      "outputs": [
        {
          "output_type": "execute_result",
          "data": {
            "text/plain": [
              "0.3585002509258341"
            ]
          },
          "metadata": {
            "tags": []
          },
          "execution_count": 95
        }
      ]
    },
    {
      "cell_type": "code",
      "metadata": {
        "colab": {
          "base_uri": "https://localhost:8080/"
        },
        "id": "Sl0g82JMDpo3",
        "outputId": "a6671c3f-a898-465d-fb8d-1f44a955a933"
      },
      "source": [
        "pred_output[\"rouge2\"].mean()"
      ],
      "execution_count": null,
      "outputs": [
        {
          "output_type": "execute_result",
          "data": {
            "text/plain": [
              "0.21121094353660305"
            ]
          },
          "metadata": {
            "tags": []
          },
          "execution_count": 96
        }
      ]
    },
    {
      "cell_type": "code",
      "metadata": {
        "id": "xZ_1fbVv9ruQ"
      },
      "source": [
        "pred_output.to_csv(\"pred_output.csv\", index=False)"
      ],
      "execution_count": null,
      "outputs": []
    },
    {
      "cell_type": "code",
      "metadata": {
        "colab": {
          "base_uri": "https://localhost:8080/"
        },
        "id": "A_5gbmtae2Sm",
        "outputId": "a0a5b982-14b6-4623-a3e7-e9d4f4041507"
      },
      "source": [
        "for i in range(0,99):\n",
        "    print(\"Review:\",seq2text(x_test[i]))\n",
        "    print(\"Original summary:\",seq2summary(y_test[i]))\n",
        "    print(\"Predicted summary:\",decode_sequence(x_test[i].reshape(1,max_len_text)))\n",
        "    print(\"\\n\")"
      ],
      "execution_count": null,
      "outputs": [
        {
          "output_type": "stream",
          "text": [
            "Review: diffusion restriction present involving right parietal lobe including superior inferior parietal lobules well adjacent right temporal lobe posterior aspect right superior temporal gyrus posterior aspect right insular cortex additional diffusion restriction present along right paracentral lobule posterior aspects right cingulate gyrus areas hyperintense flair mri adjacent cerebral swelling leptomeningeal enhancement mild degree periventricular subcortical punctate hyperintense white matter lesions present identified flair images susceptibility imaging low signal focus present along right orbital gyrus associated surrounding flair signal hyperintensity well associated signal hyperintensity significant contrast enhancement vascular flow voids present distal carotid vertebral arteries basilar artery proximal anterior middle posterior cerebral arteries well internal cerebral veins superior sagittal sinus visualized portions paranasal sinuses clear visualized portions mastoid air cells clear visualized portions orbits intact \n",
            "Original summary: subacute infarction involving the right posterior parietal and angular artery territories as well as part of the callosomarginal artery territory is hemorrhagic focus present along the right orbital gyrus which appears to represent recent hemorrhage in typical location for trauma related contusion \n",
            "Predicted summary:  right parietal lobe and right parietal lobe infarcts are present there is no evidence for acute intracranial hemorrhage mass effect or edema ct is insensitive for the early detection of acute nonhemorrhagic cerebral infarction\n",
            "\n",
            "\n",
            "Review: interval previously demonstrated moderate effacement basal cisterns progressed large suprasellar meningioma demonstrating heterogeneous attenuation areas hyperdensity presumed acute hemorrhage along right lateral margin unchanged extent interval new hemorrhage multiple cystic components within lesion well stable appearance extensive vasogenic edema mass effect effacement right lateral ventricle adjacent sulci redemonstrated fourth ventricle open right parietal extra axial csf collection stable redemonstrated postoperative changes status post bifrontal craniotomy right frontal intraventricular catheter tip unchanged position within occipital horn left lateral ventricle subtotal opacification paranasal sinuses left mastoid air cells unchanged appearance consistent intubation nasogastric tube remains present via left nares \n",
            "Original summary: over the interval previously demonstrated moderate effacement of the basal cisterns has progressed stable hyperdense foci within large suprasellar from presumed acute intratumoral hemorrhage without interval new hemorrhage findings were discussed with the neurosurgical service on approximately \n",
            "Predicted summary:  interval evolution of the previously seen hemorrhage in the right lateral ventricle and right lateral ventricle stable size of right lateral temporal lobe hemorrhage stable right lateral temporal lobe hemorrhage\n",
            "\n",
            "\n",
            "Review: pulmonary arteries diagnostic quality examination evidence pulmonary embolism dvt nondiagnostic scan dvt due poor opacification deep venous system lower extremities lungs pleura mild centrilobular emphysema several apical bullae bilaterally several lower lobe segmental bronchi filled mucoid secretions compatible aspiration evidence pleural effusions mediastinum hila heart size normal evidence right heart strain pericardial effusion enlarged mediastinal hilar lymph nodes identified chest wall significant abnormality noted upper abdomen small right bochdalek hernia accounting previously seen lung base radiographic opacity significant abnormality noted \n",
            "Original summary: no evidence of pulmonary embolism centrilobular emphysema with bilateral lower lobe segmental bronchi mucoid impaction compatible with aspiration nondiagnostic scan for dvt due to poor opacification of the deep venous system \n",
            "Predicted summary:  no evidence of pulmonary embolism or other acute abnormality\n",
            "\n",
            "\n",
            "Review: enteric tube seen curled tip extending retrograde fashion distal esophagus repositioning recommended remainder exam without significant change including nonobstructive bowel gas pattern nodular focus left lower lobe \n",
            "Original summary: no change in appearance of enteric tube as above repositioning again recommended remainder of exam unchanged \n",
            "Predicted summary:  enteric tube tip in the distribution of the distal esophagus and the distal esophagus\n",
            "\n",
            "\n",
            "Review: intracranial hemorrhage identified intracranial mass evidence mass effect midline shift herniation gray white differentiation maintained moderate degree global parenchymal volume loss appears prominent age extra axial collections extensive areas hypoattenuation periventricular subcortical white matter nonspecific favored represent advanced chronic small vessel ischemic disease multiple lacunar infarcts involving bilateral basal ganglia also noted prominent vascular calcifications involving bilateral internal carotid right distal vertebral arteries visualized portions paranasal sinuses clear mastoid air cells clear calvarium intact partially imaged cervical spine demonstrates severe facet arthropathy left level adjacent neural foraminal stenosis appears kyphotic deformity cervical spine apex level scout images \n",
            "Original summary: no evidence of intracranial hemorrhage or mass effect advanced chronic small vessel ischemic disease with chronic appearing bilateral basal ganglia infarcts please note ct is insensitive for the detection of acute non hemorrhagic infarcts and mri should be considered if there is clinical suspicion \n",
            "Predicted summary:  no evidence of intracranial hemorrhage or mass effect please note ct is insensitive for the detection of acute non hemorrhagic infarcts and mri should be considered if there is continued clinical suspicion\n",
            "\n",
            "\n",
            "Review: chest lungs pleura previously described masslike lesion abutting pleura left lung base associated linear atelectasis unchanged previous pleural based lingular nodular density also unchanged mediastinum hila significant abnormality notedchest wall significant abnormality notedabdomen liver biliary tract significant abnormality notedspleen significant abnormality notedpancreas significant abnormality notedadrenal glands significant abnormality notedkidneys ureters significant abnormality notedretroperitoneum lymph nodes significant abnormality noted bowel mesentery previously described mesenteric mass identified superior lateral mass slightly smaller measures image number second inferior mass also slightly smaller measures image number bones soft tissues significant abnormality notedother significant abnormality notedpelvis prostate seminal vesicles significant abnormality notedbladder significant abnormality notedlymph nodes significant abnormality notedbowel mesentery significant abnormality notedbones soft tissues significant abnormality notedother significant abnormality noted \n",
            "Original summary: no change in the previously described left lower lobe soft tissue density which represent atelectasis further follow up is recommended to ensure stability slight interval decrease in the size of the previously described mesenteric masses \n",
            "Predicted summary:  interval decrease in size of mesenteric mass\n",
            "\n",
            "\n",
            "Review: abdomen lack intravenous contrast limits evaluation lymphadenopathy solid organ bowel pathology lung bases minimal dependent atelectasis suspicious mass nodule pericardial pleural effusions moderate atherosclerotic calcification coronary arteries thoracic aorta liver biliary tract diffusely hypodense liver consistent fatty infiltration normal hepatic morphology cholelithiasis without evidence cholecystitis spleen significant abnormality notedpancreas small accessory spleen noted near splenic hilum adrenal glands significant abnormality notedkidneys ureters simple appearing inferior right renal cyst prominent left extrarenal pelvis hydronephrosis nephrolithiasis retroperitoneum lymph nodes moderate atherosclerotic disease tortuosity abdominal aorta bowel mesentery diffuse colonic wall thickening moderate diverticulosis findings consistent chronic diverticulitis acute diverticulitis evident concentric focal severe thickening distal sigmoid concerning neoplasm optical colonoscopy recommended evaluation bones soft tissues degenerative disease lumbar spine significant abnormality notedpelvis uterus adnexa significant abnormality notedbladder significant abnormality notedlymph nodes significant abnormality notedbowel mesentery significant abnormality notedbones soft tissues significant abnormality notedother significant abnormality noted \n",
            "Original summary: diffuse colonic wall thickening with moderate diverticulosis these findings are consistent with chronic diverticulitis no acute diverticulitis is evident concentric more focal and severe thickening in the distal sigmoid series is concerning for neoplasm an colonoscopy is recommended for further evaluation \n",
            "Predicted summary:  findings consistent with acute diverticulitis involving the proximal sigmoid colon as described above no evidence of metastatic disease cholelithiasis without evidence of cholecystitis\n",
            "\n",
            "\n",
            "Review: note lack oral contrast limits evaluation bowel patient motion mildly limits examination given limitations following observations made abdomen lung bases small left pleural effusion overlying atelectasis increased compared prior right basilar atelectasis resolution pleural effusion central venous catheter tip cavoatrial junction liver biliary tract cholelithiasis without evidence cholecystitis spleen significant abnormality noted pancreas enhancement throughout pancreatic parenchyma without focal areas necrosis extensive peripancreatic fluid peripancreatic fluid tracks along left paracolic gutter pelvis increased compared prior fluid collection extends splenic hilum continues along posterior stomach terminates anterior midabdomen collection measures maximal diameter anteriorly displaces stomach collection appears larger compared prior examination dated adrenal glands significant abnormality noted kidneys ureters significant abnormality noted retroperitoneum lymph nodes significant abnormality noted calcifications abdominal aorta branches significant calcifications bowel mesentery gastrojejunostomy tube extends past ligament treitz tip left hemiabdomen bones soft tissues multilevel degenerative changes posterior fusion vertebral bodies significant abnormality notedpelvis uterus adnexa significant abnormality noted bladder bladder catheter place lymph nodes significant abnormality noted bowel mesentery significant abnormality noted bones soft tissues multilevel degenerative changes posterior fusion vertebral bodies nonocclusive thrombus extending right external iliac vein right common iliac vein new free fluid pelvis \n",
            "Original summary: interval increase in peripancreatic fluid and collection along the posterior stomach from prior pancreatitis as described above right external and common iliac vein nonocclusive thrombus may be due to recent central venous catheter placement findings discussed with stephanie via telephone by dr mccann at pm on \n",
            "Predicted summary:  interval increase in size of fluid collection adjacent to the pancreatic tail which may represent an abscess or pseudocyst new small left pleural effusion and right basilar atelectasis\n",
            "\n",
            "\n",
            "Review: heart size normal basilar opacities likely atelectasis specific evidence infection edema pneumothorax pleural effusion \n",
            "Original summary: no specific evidence of infection or edema \n",
            "Predicted summary:  no specific evidence of infection or edema\n",
            "\n",
            "\n",
            "Review: icd noted tips overlying right atrial appendage right ventricular apex coronary sinus surgical clips project right upper quadrant abdomen consistent prior cholecystectomy cardiomediastinal silhouette normal focal pulmonary opacity suggestive pneumonia pneumothorax pleural effusion left lower lobe discoid atelectasis \n",
            "Original summary: no acute cardiopulmonary disease left lower lobe discoid atelectasis \n",
            "Predicted summary:  no acute cardiopulmonary abnormality\n",
            "\n",
            "\n",
            "Review: chest lungs pleura right hemithorax volume loss interval progression multiple nodular thickening visceral pleural surface right sided visceral pleural measurements follows level aortic arch left brachiocephalic vein drains svc approximately clock position level carina clock position clock position new progressive lesions elsewhere level right level right posterior costophrenic angle clock position small volume loculated pleural fluid right anteriorly new mediastinum hila significant progression left sided mediastinal lymphadenopathy causes compression anterior wall descending thoracic aorta image superior vena cava mildly compressed progressive tumor remains grossly patent pericaval lymphadenopathy multiple nodules within epicardial fat invasion pericardium seen image chest wall tumor focus soft tissues right back level scapula increased size given benefit retrospect bilateral internal mammary lymph nodes slightly larger new intercostal tumor foci right rib interspaces anteriorly invasion chest wall seen right cardiophrenic angle image involving levels extending perivertebral fat abdomen liver biliary tract right diaphragmatic pleural patch mild biliary ductal dilatation unchanged cholecystectomy clips small cyst inferior liver tip unchanged spleen calcified granuloma spleen adrenal glands nonspecific thickening left adrenal gland noted kidneys bilateral renal probable cysts unchanged pancreas significant abnormality notedretroperitoneum lymph nodes significant abnormality noted \n",
            "Original summary: significant interval progression of disease with contralateral mediastinal lymphadenopathy chest wall invasion and probable pericardial involvement \n",
            "Predicted summary:  progression of disease with increased size of left pleural thickening and right pleural nodularity consistent with progression of disease\n",
            "\n",
            "\n",
            "Review: shunt catheter remains unchanged prior exam right lateral ventricle decreased size however left lateral ventricle slightly increased size left parietal hemorrhage unchanged new hemorrhage identified small amount air likely within decompressed right lateral ventricle \n",
            "Original summary: decrease in size of the right lateral ventricle with slight increase in size of the left lateral ventricle \n",
            "Predicted summary:  interval decrease in size of left lateral ventricle and left lateral ventricle size of left lateral ventricle cyst no new hemorrhage\n",
            "\n",
            "\n",
            "Review: head evidence intracranial mass hemorrhage infarction enhancing abnormality seen neck post treatment changes present left neck left tonsillar region previously reported left tonsillar mass difficult delineate accurately due poor definition margin adjacent soft tissues however comparing older study best estimate measurement approximate image number series compared prior measurement study comparing recent prior study also interval decrease soft tissue thickening left tonsil region suggesting progressive improvement remains asymmetric soft tissue thickening left piriform sinus unchanged compared prior study mild hypoattenuation may represent posttreatment changes evidence adenopathy based criteria degenerative disease cervical spine noted \n",
            "Original summary: interval decrease of size of the left tonsillar mass no evidence of adenopathy no evidence of intracranial metastasis \n",
            "Predicted summary:  no evidence of intracranial metastasis interval decrease in the size of the left tonsillar mass and left tonsillar mass no evidence of intracranial metastasis\n",
            "\n",
            "\n",
            "Review: soft tissues neck postradiation changes right neck oropharynx hypopharynx larynx stable abnormal enhancement focal mass normal appearance nasopharynx oral cavity upper cervical airway significant cervical lymphadenopathy according radiological size criteria carotid arteries jugular veins patent bilaterally right ijv appears compressed mid segment still remains patent thyroid gland appears essentially unremarkable nonenhancing nodule seen left thyroid lobe limited views lung apices shows emphysematous change pulmonary mass nodules right axillary node seen please review chest full evaluation cervical multi level degenerative disease posterior osteophytes levels brain acute intracranial abnormality abnormal enhancement brain leptomeninges ventricular basal cisterns appear unremarkable minimal calcification cavernous segment intracranial carotid arteries calvarium skull base orbits retro orbital contents infratemporal fossa appears normal paranasal sinuses mastoid air cells pneumatized clear except minimal maxillary sinus mucosal thickening \n",
            "Original summary: stable post therapy changes no evidence of recurrence residual tumor no significant cervical lymphadenopathy no intracranial dural or leptomeningeal metastasis \n",
            "Predicted summary:  no evidence of recurrent residual tumor or significant cervical lymphadenopathy no evidence of any intracranial dural or leptomeningeal metastasis\n",
            "\n",
            "\n",
            "Review: abdomen lungs bases lung bases clear liver biliary tract liver diffusely hypoattenuating compatible fatty infiltration hepatic portal veins patent hypervascular segment lesion likely represent transient perfusion artifact status post cholecystectomy biliary ductal dilatation spleen significant abnormality noted pancreas significant abnormality noted adrenal glands significant abnormality noted kidneys ureters kidneys enhance homogeneously without hydronephrosis nephrolithiasis retroperitoneum lymph nodes mild calcific arteriosclerotic disease aorta small retroperitoneal nodes bowel mesentery small bowel normal caliber course appendix normal scattered colonic diverticula however pericolonic inflammatory changes suggest acute diverticulitis bones soft tissues body wall hernia ascites pelvis uterus adnexa significant abnormality noted bladder significant abnormality noted lymph nodes small bilateral inguinal nodes bowel mesentery significant abnormality noted bones soft tissues small benign appearing sclerotic focus left femur significant abnormality noted \n",
            "Original summary: diverticulosis without findings of acute diverticulitis no ascites fatty liver \n",
            "Predicted summary:  no nephrolithiasis or hydronephrosis no specific findings to account for the patient pain\n",
            "\n",
            "\n",
            "Review: small lung volumes nonspecific basilar opacities possibly artifact underinflation heart size normal specific evidence infection edema \n",
            "Original summary: small lung volumes but no acute abnormality \n",
            "Predicted summary:  no specific evidence of infection or edema\n",
            "\n",
            "\n",
            "Review: chest lungs pleura apical emphysema mediastinum hila fluid transverse pericardial recess significant lymphadenopathy small circumferential pericardial fluid collection chest wall small sclerotic focus lateral aspect right seventh rib unchanged likely benign metastatic given lack uptake pet scan abdomen absence enteric contrast material markedly limits sensitivity abdominal pathology liver biliary tract hepatic lesions significantly changed incompletely characterized likely benign given lack reported activity pet scan spleen significant abnormality noted adrenal glands unchanged right adrenal gland nodule kidneys ureters bilateral renal cysts pancreas significant abnormality noted retroperitoneum lymph nodes significant abnormality noted bowel mesentery absence enteric contrast material markedly limits sensitivity pathology gross abnormalities noted bones soft tissues significant abnormality noted significant abnormality noted \n",
            "Original summary: slight increase in volume of pericardial fluid which remains small of unclear clinical significance no new lesions to suggest metastatic disease \n",
            "Predicted summary:  no evidence of metastatic disease\n",
            "\n",
            "\n",
            "Review: chest lungs pleura pleural pulmonary metastases change mediastinum hila significant abnormality noted chest wall small bone island right sixth rib mild scoliosis djd thoracic spine abdomen liver biliary tract hepatic cystlike hypodensities unchanged stable focal fat infiltration along falciform ligament hepatic segment spleen significant abnormality notedkidneys ureters significant abnormality notedadrenal glands significant abnormality notedpancreas small punctate hypodensity near head unchanged retroperitoneum lymph nodes significant abnormality noted bowel mesentery significant abnormality noted bones soft tissues significant abnormality notedother significant abnormality noted \n",
            "Original summary: no change and no evidence of recurrence \n",
            "Predicted summary:  no change and no sign of metastases\n",
            "\n",
            "\n",
            "Review: chest lungs pleura significant abnormality noted mediastinum hila significant abnormality noted incidentally noted right ovarian subclavian artery chest wall significant abnormality noted abdomen liver biliary tract status post cholecystectomy spleen significant abnormality noted pancreas significant abnormality noted adrenal glands significant abnormality noted kidneys ureters significant abnormality noted retroperitoneum lymph nodes significant abnormality noted bowel mesentery significant abnormality noted bones soft tissues significant abnormality noted significant abnormality noted pelvis uterus adnexa right ovarian cyst measuring obvious solid component bladder significant abnormality noted lymph nodes significant abnormality noted bowel mesentery significant abnormality noted bones soft tissues significant abnormality noted significant abnormality noted \n",
            "Original summary: right ovarian cyst follow up with ultrasound in months maybe helpful \n",
            "Predicted summary:  no evidence of metastatic disease right ovarian cyst\n",
            "\n",
            "\n",
            "Review: abdomen liver biliary tract liver normal morphology least mildly hyperintense lesions largest segment liver measuring previously lesion measured lesions also grown size spleen significant abnormality noted pancreas large hyperintense mass involving pancreatic body mass measures previously tail atrophic pancreatic duct head pancreas normal common bile duct normal caliber subtle hyperintense foci within pancreatic head may represent small branch type ipmn adrenal glands significant abnormality noted kidneys ureters hydronephrosis retroperitoneum lymph nodes retroperitoneal lymphadenopathy bowel mesentery significant abnormality noted bones soft tissues significant abnormality noted left pleural effusion ascites index lesion measurements pancreatic body mass prior segment lesion prior \n",
            "Original summary: increased in size from prior increase in the size of the liver lesions given the lack of intravenous contrast the liver lesions or pancreatic lesion cannot be fully characterized however given the pancreatic mass shows size increase and increase in the size of the liver lesions these are most compatible with metastatic disease \n",
            "Predicted summary:  pancreatic head mass with associated pancreatic ductal dilatation and invasion of the pancreatic duct no evidence of retroperitoneal lymphadenopathy\n",
            "\n",
            "\n",
            "Review: right ventricle visually right ventricular end diastolic volume within normal limits right ventricular lead present left atrium left atrium severely dilated four distinct pulmonary veins drain normally left atrium evidence left atrial appendage thrombus right atrium vena cavae coronary sinus right atrium normal size superior inferior vena cavae grossly normal coronary sinus normal size lead coronary sinus right atrial appendage pulmonary artery pulmonary artery mildly dilated pericardium pericardium normal thickness pericardial effusion coronary arteries heart rate management attempted nitroglycerine administered exam performed optimally visualize coronary arteries however within limitations study following observations made left main coronary artery arises normally left sinus valsalva bifurcates left anterior descending left circumflex coronary arteries severe calcification left main coronary artery left main occluded lad left anterior descending coronary artery courses normally anterior interventricular groove supplying diagonal septal branches severe calcification lad lcx left circumflex coronary artery courses normally left groove gives rise obtuse marginal branches small circumflex branch severe calcification lcx rca right coronary artery arises normally right sinus valsalva dominant coronary artery supplying posterior descending artery posterolateral branch moderate calcification rca much rca obscured artifact device leads coronary bypass grafts lima left anterior descending tortuous patent svg left circumflex patent graft located valve \n",
            "Original summary: of the report pertains to the heart and great vessels only the remaining soft tissues of the thorax and upper abdomen will be interpreted by the attending chest radiologist and included as an addendum to this report personally reviewed the images and or procedure with the resident fellow and agree with this report \n",
            "Predicted summary:  no evidence of pulmonary embolism left atrial dilation with non obstructive left atrial appendage thrombus this portion of the report pertains to the heart and great vessels only the remaining soft tissues of the thorax and upper abdomen will be interpreted by the attending chest radiologist and included as an addendum to this report\n",
            "\n",
            "\n",
            "Review: nonenhanced head evidence right sided temporal craniotomy expected postoperative air fluid craniotomy flap epidural space noted small amount residual air subarachnoid space also present csf density traversing left anterior temporal lobe similar noted prior exam small amount residual air site previously noted mass medial aspect right middle cranial fossa present evidence parenchymal hemorrhage edema mass effect midline shift ventricular system remains small unchanged since preoperative studies \n",
            "Original summary: expected postoperative changes of right temporal craniotomy \n",
            "Predicted summary:  expected postoperative changes of right temporal craniotomy for removal of tumor as detailed\n",
            "\n",
            "\n",
            "Review: examination demonstrates mild mucosal thickening dependent portion bilateral maxillary sinuses remaining paranasal sinuses mastoid air cells normally pneumatized fluid collection bony change identified bilateral ostiomeatal units patent limited view orbits intracranial structures unremarkable \n",
            "Original summary: mild maxillary sinus disease \n",
            "Predicted summary:  minimal mucosal thickening in the bilateral maxillary sinuses and ethmoid air cells\n",
            "\n",
            "\n",
            "Review: postoperative findings related left temporoparietal craniotomy interval increase size multiple heterogeneous areas nodular enhancement along margins surgical cavity largest measures approximately along posteromedial margin resection cavity previously associated confluent hyperintensity surrounding brain parenchyma also nonspecific mild scattered regional sulcal enhancement evidence acute infarct partial effacement left lateral ventricle trigone mild dilatation left temporal horn however midline shift herniation major cerebral flow voids intact orbits grossly unremarkable \n",
            "Original summary: interval increase in size of the extensive foci of tumor recurrence along the margins of the surgical cavity with suggestion of left temporal horn entrapment \n",
            "Predicted summary:  interval increase in size of nodular component of the lateral aspect of the resection cavity otherwise no evidence of acute intracranial hemorrhage mass or cerebral edema\n",
            "\n",
            "\n",
            "Review: postoperative changes posterior craniotomy expected post operative changes large area low attenuation within left cerebellum may represent surgical cavity encephalomalacia comparison prior examination less mass effect finding fourth ventricle better visualization fourth ventricle images supratentorial space demonstrates small bilateral subdural csf collections definitive appreciable interval change since prior exam small area encephalomalacia right frontal lobe remains stable since prior study shunted lateral ventricles demonstrates definitive interval increase size change position ventricular catheter \n",
            "Original summary: less mass effect within the posterior fossa since prior study examination is otherwise stable \n",
            "Predicted summary:  stable postoperative changes of the craniotomy and left frontal lobe as detailed above stable postoperative changes of the left frontal craniotomy and left cerebellar hemisphere\n",
            "\n",
            "\n",
            "Review: nonenhanced head detectable acute intracranial process however insensitive picture nonhemorrhagic ischemic strokes slight prominence cortical sulci supratentorial ventricular system likely within normal range patient stated age prominence cerebellar folia noticeably vermian folia may slightly exaggerated patient stated age suspected mild underlying volume loss gray white matter differentiation present calvarium paranasal sinuses mastoid air cells orbits remain unremarkable \n",
            "Original summary: no acute intracranial findings \n",
            "Predicted summary:  no acute intracranial process mild prominence of cortical sulci ventricular system and cerebellar folia for age\n",
            "\n",
            "\n",
            "Review: abdomen lung bases trace bilateral pleural effusions scattered subpleural groundglass opacities predominantly right middle lobe bases may represent infection possibly septic emboli liver biliary tract multiple liver hypodensities small characterize likely represent benign cysts intrahepatic extrahepatic biliary ductal dilation appears prominent since prior mri definite evidence choledocholithiasis cholelithiasis spleen significant abnormality notedpancreas mild pancreatic duct dilation adrenal glands bilateral adrenal gland thickening without discrete nodules kidneys ureters bilateral renal hypodensities small characterize likely represent benign cysts multiple wedge shaped peripheral areas decreased enhancement kidneys bilaterally suspicious infarctions retroperitoneum lymph nodes atherosclerotic calcifications aorta branches mild ectasia superior mesenteric artery measures maximal diameter multiple retroperitoneal lymph nodes pathologically enlarged size criteria bowel mesentery evidence obstruction free air bowel wall thickening evidence inflammatory change mesentery bones soft tissues significant abnormality notedother significant abnormality notedpelvis prostate seminal vesicles significant abnormality notedbladder foley catheter noted lymph nodes significant abnormality notedbowel mesentery significant abnormality notedbones soft tissues significant abnormality notedother significant abnormality noted \n",
            "Original summary: to emboli prominent bile ducts are increased since prior mri while there is no definite evidence of choledocholithiasis or cholelithiasis ultrasound may be obtained for further evaluation multiple liver hypodensities are nonspecific but most likely represent benign cysts prominent adrenal glands bilaterally without discrete nodules finding communicated to dr ghassemieh at pm on \n",
            "Predicted summary:  no evidence of intra abdominal or pelvic abscess as clinically questioned nonspecific ground glass opacities in the right middle lobe and right middle lobe are nonspecific but may represent infection or aspiration\n",
            "\n",
            "\n",
            "Review: nonenhanced head examination demonstrates significant interval increase size right posterior temporal arachnoid cyst cyst measures approximately transaxial dimensions intracranial tracts cephalad axis revisualization large temporal horns lateral ventricles appreciable interval change moderate enlargement lateral ventricles shows also interval change size right sided catheter enters right posterior temporal bone traverses along anterior edge arachnoid cyst tip pineal cistern region position catheter changed minimally enlarged third ventricles remains stable since prior exam second catheter noted entering left posterior parietal traversing posterior parietal lobe tip midline abutting falx images posterior fossa demonstrate crowding cerebellar tonsils foramina magnum pointed deformity inferior poles cerebellar tonsils \n",
            "Original summary: brain parenchyma and the ventricles there is no detectable change in the size of lateral ventricles which are mildly dilated crowding of cerebellar tonsils into the foramen magnum with resultant effacement of subarachnoid space and pointed deformity of the inferior poles of the tonsils this finding is best appreciated on sagittal reformatted images \n",
            "Predicted summary:  interval increase in the size of lateral and third ventricles since prior study stable size of ventricular system since prior study stable size of ventricular system since prior study\n",
            "\n",
            "\n",
            "Review: multiple areas low attenuation consistent small vessel disease old frontal lobe cortical stroke identified multiple lacunar infarcts also noted minimal findings generally appear prior study age small vessel strokes cannot determined evidence hemorrhage mass effect midline shift hydrocephalus \n",
            "Original summary: swallow so disease and noticed acute hemorrhage \n",
            "Predicted summary:  small vessel disease of indeterminate age\n",
            "\n",
            "\n",
            "Review: soft tissues neck images skull base including cavernous sinuses remain within normal limits uniformly high density right globe consistent hemorrhage finding present unchanged since prior study images soft tissues neck demonstrate extensive post therapy changes however definitive evidence masses pathologic adenopathy detected limited images apices lungs demonstrate minimal apical scarring please review dedicated chest definitive evidence mediastinal adenopathy detected bony density area exam negative metastatic disease advanced degenerative changes cervical spine noted tracheostomy noted brain infusion examination negative metastatic lesions brain meninges calvarium study essentially within normal limits patient stated age \n",
            "Original summary: no evidence of recurrence of disease in the neck unremarkable ct of brain with infusion \n",
            "Predicted summary:  no evidence of recurrence of disease in neck stable exam since prior study\n",
            "\n",
            "\n",
            "Review: projects hypopharynx cervical esophagus removed subsequent film visible pneumomediastinum pneumothorax \n",
            "Original summary: foreign body consistent with projects over the hypopharynx cervical esophagus \n",
            "Predicted summary:  no evidence of pneumothorax status post esophageal stent placement\n",
            "\n",
            "\n",
            "Review: chest lungs pleura biapical scarring bilateral micronodules mediastinum hila subcarinal lymph node enlarged criteria chest wall significant abnormality noted abdomen liver biliary tract significant abnormality noted spleen significant abnormality noted pancreas significant abnormality noted adrenal glands significant abnormality noted kidneys ureters duplicated collecting system left side upper collecting system showing mild hydroureter midportion retroperitoneum lymph nodes significant abnormality noted bowel mesentery significant abnormality noted bones soft tissues significant abnormality noted fat containing umbilical hernia pelvis uterus adnexa surgically removed bladder significant abnormality noted lymph nodes stable cystic lymph node left pelvis measures image series bowel mesentery status post proctectomy surgical staples near anus small gas fluid filled left presacral extension neorectum stable probably post change lesion left rectum seen prior mri pet exams definitely found bones soft tissues scoliosisother multiple radiodensities superficial buttock soft tissues bilaterally may calcifications injection granulomata \n",
            "Original summary: small left peri rectal lesion seen on prior mri and pet exam is not seen otherwise stable exam \n",
            "Predicted summary:  no significant change in the size of the reference nodes\n",
            "\n",
            "\n",
            "Review: images orbits cavernous sinus unremarkable examination demonstrates evidence mass pathologic adenopathy soft tissue neck airway vasculature patent osseous structures intact bilateral thyroid glands appear enlarged loculated multiple hypodense nonenhancing lesions limited view chest shows opacity right upper lung \n",
            "Original summary: no evidence of mass or pathologic adenopathy in the soft tissue of the neck finding on the thyroids likely represents goiter please refer to dedicated exams please refer to dedicated chest ct for pulmonary finding \n",
            "Predicted summary:  no evidence of mass or pathologic lymphadenopathy in the neck mediastinal and upper lung opacity please refer to dedicated chest ct report for details\n",
            "\n",
            "\n",
            "Review: subtle foci hyperdensity found within white matter without associated mass effect incidental note made senescent calcifications globus pallidus bilaterally ventricles sulci normal size masses mass effect midline shift evidence intracranial hemorrhage acute cerebral cerebellar cortical infarction extraaxial fluid collections subdural hematomas opacification noted within left frontal sinus adjacent anterior ethmoid air cells sinus wall thickening sclerosis suggesting chronic inflammatory state remaining visualized portions paranasal sinuses mastoid air cells clear \n",
            "Original summary: ages please note ct is insensitive for the detection of acute nonhemorrhagic ischemia and mri can be considered for further evaluation if deemed clinically beneficial no acute intracranial hemorrhage opacification is noted within the left frontal sinus and adjacent anterior ethmoid air cells with sinus wall thickening and sclerosis suggesting chronic inflammatory state \n",
            "Predicted summary:  no evidence of acute intracranial hemorrhage or mass effect small vessel ischemic disease of indeterminate ages if there is continued clinical concern for acute ischemia mri would be recommended\n",
            "\n",
            "\n",
            "Review: lungs pleura multiple small calcified nodules compatible previous granulomatous infection additional noncalcified micronodules unchanged mild upper zone paraseptal centrilobular emphysema chronically thickened interlobular septa lung bases evidence acute pulmonary edema effusions moderate bronchial thickening compatible bronchitis mild nonspecific interstitial opacity lung bases compatible scarring mediastinum hila multiple calcified lymph nodes compatible previous infection extensive severe coronary artery calcification icd leads area right atrial appendage right ventricular apex left ventricular vein marked cardiomegaly chest wall degenerative disease spine upper abdomen absence enteric contrast material markedly limits sensitivity abdominal pathology significant abnormality noted \n",
            "Original summary: severe cardiomegaly but no sign of acute pulmonary edema or effusions mild nonspecific basilar interstitial opacity compatible with scarring and bronchitis mild upper zone paraseptal and centrilobular emphysema \n",
            "Predicted summary:  no evidence of acute pulmonary edema or pneumonia\n",
            "\n",
            "\n",
            "Review: evidence intracranial hemorrhage mass edema ventricles basal cisterns normal size configuration calvaria skull base radiographically normal visualized paranasal sinuses mastoid air cells normally pneumatized small area left occipital encephalomalacia \n",
            "Original summary: left occipital encephalomalacia no acute abnormality \n",
            "Predicted summary:  normal brain ct\n",
            "\n",
            "\n",
            "Review: endotracheal tube tip approximately carina nasogastric tube tip looped within stomach diffuse bilateral interstitial airspace opacities mild interval improvement compared recent radiograph probable left mid lung granuloma unchanged large pleural effusion pneumothorax \n",
            "Original summary: mild interval improvement in diffuse bilateral interstitial and airspace opacities \n",
            "Predicted summary:  endotracheal tube tip terminates cm above the carina slight improvement in diffuse pulmonary opacities\n",
            "\n",
            "\n",
            "Review: changes right calvarial craniotomy present resection right frontal extra axial mass lesion includes pneumocephalus fluid admixed blood products subcutaneous soft tissue swelling air extracalvarial subcutaneous drain calvarial fixation devices overlying skin staples postoperative hematomas subcortical periventricular hypodensities left right nonspecific likely represents age indeterminate small vessel ischemic disease definite focal parenchymal edema loss gray white differentiation findings acute territorial ischemia seen generalized mass effect demonstrated ventricular system patent within normal limits size paranasal sinuses visualized clear \n",
            "Original summary: expected postoperative findings status post right craniotomy for resection of right frontal extra axial mass lesion without complicating intracranial hematoma formation \n",
            "Predicted summary:  expected postoperative changes of right frontal craniotomy for removal of tumor\n",
            "\n",
            "\n",
            "Review: tube terminates stomach disorganized slightly distended nonspecific abdominal gas pattern evidence obstruction free air pneumatosis intestinalis portal venous gas \n",
            "Original summary: disorganized slightly distended and nonspecific abdominal gas pattern \n",
            "Predicted summary:  disorganized nonspecific abdominal gas pattern\n",
            "\n",
            "\n",
            "Review: abdomen lung bases significant abnormality noted liver biliary tract liver cirrhotic morphology ablated cavity noted right hepatic lobe gallbladder contains multiple calculi spleen spleen enlarged pancreas significant abnormality noted adrenal glands significant abnormality noted kidneys ureters retention contrast within kidneys compatible renal parenchymal dysfunction hydronephrosis retroperitoneum lymph nodes significant abnormality noted calcifications abdominal aorta branches severebowel mesentery significant abnormality noted bones soft tissues significant abnormality noted upper abdominal ascites hypodense thrombus right hemiabdomen image series compatible hemorrhage also layering hemorrhage within pelvis focus hyperdense thrombus noted right anterolateral body wall pelvis prostate seminal vesicles significant abnormality noted bladder significant abnormality noted lymph nodes significant abnormality noted bowel mesentery significant abnormality noted bones soft tissues right inguinal hernia containing ascites ascites layering hemorrhage \n",
            "Original summary: findings of intraabdominal hemorrhage with the source likely from the right anterolateral body wall possibly from recent procedure findings discussed with dr jacobs via telephone renal failure likely due to atn \n",
            "Predicted summary:  large right perihepatic hemorrhage with associated hemorrhage and possible hemorrhage\n",
            "\n",
            "\n",
            "Review: two standard digital views breasts tomosynthesis performed reviewed aid cad breast parenchyma heterogeneously dense may obscure small masses unchanged pattern distribution suspicious masses microcalcifications areas architectural distortion present bilateral areas asymmetry including left lower inner breast focal asymmetry stable compared prior studies \n",
            "Original summary: no mammographic evidence of malignancy as long as the patient physical examination remains normal routine screening mammogram is recommended annually birads negative recommendation nsc screening mammogram \n",
            "Predicted summary:  no mammographic evidence of malignancy as long as the patient physical examination remains normal routine screening mammogram is recommended annually birads benign finding recommendation nsc screening mammogram\n",
            "\n",
            "\n",
            "Review: bladder wall thickness normal contents distended normal distal ureter sfu grade right left ureteral jets right observed left observedkidneys cortical echogenicity normal medullary echogenicity normal pelvicaliceal system sfu grade right grade upper system grade lower system left length right left mean age range age cmadditional observations duplicated collecting system right kidney seen \n",
            "Original summary: dilatation grade ureter less than mm grade ureter is mm grade ureter is over mm fernbach sk maizels conway jj ultrasound grading of hydronephrosis introduction to the system used by the society for fetal urology pediatric radiology rosenbaum dm korngold teele rl sonographic assessment of renal length in normal children ajr am roentgenol \n",
            "Predicted summary:  grade ureter less than mm grade ureter is mm grade ureter is mm grade ureter is over mm fernbach sk maizels conway jj ultrasound grading of hydronephrosis introduction to the system used by the society for fetal urology pediatric radiology rosenbaum dm korngold teele rl sonographic assessment of renal length in normal children ajr am roentgenol\n",
            "\n",
            "\n",
            "Review: abnormal osseous foci identified indicate metastatic disease increased foci uptake right shoulder left wrist cervical lumbar spine represent degenerative changes \n",
            "Original summary: no evidence of bone metastases \n",
            "Predicted summary:  no evidence of bone metastases\n",
            "\n",
            "\n",
            "Review: tube tip approximately carina swan ganz catheter tip right main pulmonary artery small lung volumes basilar atelectasis small pleural effusions pneumothorax acute change \n",
            "Original summary: et tube in acceptable position \n",
            "Predicted summary:  et tube in acceptable position\n",
            "\n",
            "\n",
            "Review: chest lungs pleura right lower lobe pulmonary nodule along fissure unchanged measures image series new nodules evident pleural spaces clear mediastinum hila heart size normal pericardial effusion mediastinal lymphadenopathy chest wall significant abnormality notedother abdomen liver biliary tract significant abnormality notedspleen significant abnormality notedpancreas significant abnormality notedadrenal glands significant abnormality notedkidneys ureters significant abnormality notedretroperitoneum lymph nodes mild calcific arteriosclerotic disease aorta retroperitoneal lymphadenopathy developed bowel mesentery significant abnormality noted bones soft tissues significant abnormality notedother significant abnormality notedpelvis prostate seminal vesicles status post prostatectomy bladder significant abnormality notedlymph nodes pelvic lymphadenopathy bowel mesentery significant abnormality notedbones soft tissues degenerative changes right hip post operative changes left hip arthroplasty lower lumbar spine scoliosis significant abnormality noted \n",
            "Original summary: stable micronodule along the right major fissure \n",
            "Predicted summary:  stable examination\n",
            "\n",
            "\n",
            "Review: technically limited study due motion artifact pulmonary arteries technically limited study evaluation pulmonary emboli contrast opacification level segmental arteries large pulmonary emboli noted segmental level smaller emboli cannot excluded lungs pleura significant abnormality noted small pleural based right middle lobe calcified micronodule dependent bibasilar atelectasis mediastinum hila significant abnormality noted chest wall significant abnormality noted degenerative changes thoracic spine upper abdomen absence enteric contrast material markedly limits sensitivity abdominal pathology significant abnormality noted \n",
            "Original summary: technically limited study no pulmonary emboli noted to the level of the segmental arteries \n",
            "Predicted summary:  no evidence of pulmonary emboli or other acute abnormality to account for the patient symptoms\n",
            "\n",
            "\n",
            "Review: pulmonary arteries right upper lobe segmental arteries diffusely narrowed likely due prior radiation subsegmental filling defect right lower lobe consistent subsegmental pulmonary embolus lungs pleura mixed groundglass air space opacities lung apices appear focal increased size dense paramediastinal radiation fibrosis traction bronchiectasis unchanged nodular opacity left lower lobe resolved however new multifocal lower lobe opacities interlobular septal thickening groundglass haziness lung bases suggestive mild edema bilateral pleural effusions left greater right increased left lobulated contour superiorly mediastinum hila tracheal stent tracheostomy place debris trachea status post median sternotomy sternal closure wires right port cath removed bulky tumor anterior lateral trachea level thoracic inlet difficult measure define given phase contrast however measures approximately significantly changed mass invades anteriorly laterally chest wall eroding sternum extends inferiorly great vessels invasion right atrial appendage also extends superiorly thoracic inlet surrounds narrows trachea cardiomegaly significant pericardial effusion coronary artery calcifications chest wall extensive left sided chest wall venous collaterals due distal obstruction left brachiocephalic vein anterior mediastinal mass sclerotic foci left ninth rib upper cervical vertebral body similar prior decreased heterogeneity upper thoracic vertebral bodies please see mediastinal section upper abdomen subcentimeter hypodensities liver compatible cysts stable small gallstone unchanged gastric tube seen upper \n",
            "Original summary: aspiration pneumonia or radiation pneumonitis correlate with direction of radiation port mild pulmonary edema reference tumor measurements not significantly changed increased left pleural effusion with lobulated contour more likely to represent loculated effusion than pleural based metastasis these findings were communicated to the emergency room by the radiology resident on call at hours \n",
            "Predicted summary:  right lower lobe pulmonary embolus with associated ground glass opacities and septal thickening compatible with aspiration and or infection new patchy areas of groundglass opacity in the right lung base may represent aspiration or infection\n",
            "\n",
            "\n",
            "Review: tube tube umbilical venous catheter noted right chest tube place large pneumothorax right increased size cardiothymic silhouette cannot evaluated left lung opacification unchanged \n",
            "Original summary: large right pneumothorax increased in size \n",
            "Predicted summary:  large right pneumothorax\n",
            "\n",
            "\n",
            "Review: low lung volumes focal airspace opacities pleural effusion pneumothorax cardiomediastinal silhouette unremarkable \n",
            "Original summary: no acute cardiopulmonary abnormality no evidence of pneumonia \n",
            "Predicted summary:  no acute cardiopulmonary abnormality\n",
            "\n",
            "\n",
            "Review: skull base cavernous sinuses limited view brain parenchyma negative metastatic lesion status post thyroidectomy discrete mass thyroid tissue thyroid bed multiple small nodes throughout neck pathologic lymphadenopathy appreciated based size criteria lymphadenopathy oral cavity oro nasopharynx hypopharynx larynx subglottic airways patent epiglottis vallecula piriform sinuses vocal cords normal abnormal enhancing tissue identified bilateral thyroid beds parotid submandibular glands unremarkable carotid arteries jugular veins patent cervical vertebral bodies general intact evidence canal stenosis noted numerous nodules bilateral visualized upper lungs mediastinum please refer dedicated chest details \n",
            "Original summary: no evidence of local recurrence or lymphadenopathy in neck soft tissue please refer to dedicated chest ct for pulmonary finding \n",
            "Predicted summary:  no evidence of mass or pathologic lymphadenopathy in the neck multiple pulmonary nodules please refer to dedicated chest ct for pulmonary findings\n",
            "\n",
            "\n",
            "Review: broad based disc bulge predominantly towards left well mild moderate bilateral facet hypertrophy associated effacement left lateral recess mild deformity spinal canal level mild neural foraminal narrowing bilaterally level mild grade anterolisthesis disc bulge also present significant spinal canal neural foraminal narrowing spinal cord displays normal signal morphology vertebral body heights preserved vertebral bone marrow signal unremarkable paravertebral soft tissues unremarkable \n",
            "Original summary: mild multilevel degenerative changes of the lumbar spine predominantly affecting the level where there is also mild anterolisthesis personally reviewed the images and or procedure with the resident fellow and agree with this report \n",
            "Predicted summary:  multilevel degenerative changes with mild to moderate spinal stenosis at and\n",
            "\n",
            "\n",
            "Review: chronic deformity third fourth metatarsophalangeal joints including metatarsal heads proximal phalanges appears similar prior study perhaps reflects prior infection see acute fracture \n",
            "Original summary: chronic deformity likely related to chronic osteomyelitis but no acute fracture \n",
            "Predicted summary:  no acute fracture or dislocation chronic changes in the first mtp joint may reflect acute fracture or chronic malalignment\n",
            "\n",
            "\n",
            "Review: orbits limited view brain parenchyma unremarkable seen round retention cyst polyp right maxillary sinus left maxillary sinus frontal sinuses frontal ethmoid recesses anterior posterior ethmoids sphenoid sinuses well developed clear bilateral osteomeatal complexes patent intersphenoid septum normal nasal septum minimally deviated left nasal septum nasal turbinates nasal cavity demonstrate normal appearance cribriform plate lateral lamellae fovea ethmoidalis lamina papyracea appear normal visualized mastoid air cells clear \n",
            "Original summary: stable right maxillary retention cyst polyp otherwise unremarkable paranasal sinuses ct examination \n",
            "Predicted summary:  no evidence of sinusitis minimal mucosal thickening in the maxillary sinuses\n",
            "\n",
            "\n",
            "Review: clear lungs pleural effusion pneumothorax acute bony abnormality normal heart size tortuous thoracic aorta noted \n",
            "Original summary: no acute cardiopulmonary process on radiography \n",
            "Predicted summary:  no acute cardiopulmonary process on radiography\n",
            "\n",
            "\n",
            "Review: lungs pleura solid nodule superior segment right lower lobe additionally groundglass micronodule along left major fissure mild bibasilar atelectasis noted tracheobronchial tree normal mediastinum hila right lower paratracheal lymph nodes measure heart pericardium normal moderate severe atherosclerotic calcification aortic arch branches coronary artery calcification severe chest wall mild degenerative changes thoracic spine schmorl node bifid right lateral rib noted upper abdomen absence enteric contrast material limits sensitivity abdominal pathology cirrhotic morphology liver partially visualized cholelithiasis without cholecystitis mesenteric collaterals splenomegaly noted enlarged gastrohepatic ligament lymph nodes noted \n",
            "Original summary: nodule which is nonspecific but could represent metastasis nonspecific left upper lobe groundglass micronodule possibly inflammatory but can be followed on subsequent imaging mildly enlarged mediastinal nodes intra abdominal findings that are described on prior abdominal mr including cirrhotic liver lymphadenopathy and portosystemic collaterals the known hcc is poorly seen without iv contrast \n",
            "Predicted summary:  right lower lobe nodule is suspicious for primary lung carcinoma or less likely an additional follow up scan in months is recommended cholelithiasis without cholecystitis cirrhosis with splenomegaly\n",
            "\n",
            "\n",
            "Review: bones appear demineralized mild ankle soft tissue swelling noted ankle joint effusion definite fracture identified \n",
            "Original summary: ankle soft tissue swelling without evidence of fracture \n",
            "Predicted summary:  soft tissue swelling without fracture evident\n",
            "\n",
            "\n",
            "Review: chest lungs pleura patchy ground glass opacities identified left upper left lower lobes may represent aspiration suspicious pulmonary pleural nodules identified pleural effusion noted mediastinum hila prominent paratracheal lymph nodes identified reference low right paratracheal node measuring cardiac size normal without evidence pericardial effusion left port cath tip svc bilateral thyroid hypodensities chest wall left chest port enlarged right axillary lymph node central necrosis measures abdomen liver biliary tract hypodensity inferomedially right lobe may represent hemangioma evaluation limited single phase contrast exam cholelithiasis spleen significant abnormality notedadrenal glands significant abnormality notedkidneys ureters well defined hypodensities compatible cystspancreas significant abnormality notedretroperitoneum lymph nodes significant abnormality noted bowel mesentery significant abnormality noted bones soft tissues significant abnormality notedother significant abnormality noted \n",
            "Original summary: patchy ground glass air space opacities in the left upper and lower lobes may represent aspiration right axillary and right paratracheal lymphadenopathy are compatible with metastatic foci correlation with today pet scan is recommended \n",
            "Predicted summary:  no evidence of metastatic disease in the chest or abdomen left lower lobe patchy ground glass opacities may represent aspiration or infection\n",
            "\n",
            "\n",
            "Review: attenuation morphology brain parenchyma within normal limits patient stated age evidence hemorrhage edema mass effect midline shift detected cortical sulci ventricular system csf cisterns within normal limits calvarium unremarkable evidence metastatic disease fracture limited view paranasal sinuses demonstrate thickened mucosa opacification involving bilateral sphenoid ethmoid frontal sinuses hyperdensity round lesion noted left superior aspect nasal cavity associated bony destruction noted lesion measuring approximately dimension image series compared image series study \n",
            "Original summary: acute intracranial abnormality sinus disease hyper dense round lesion in the superior aspect of the nasal cavity which has enlarged in size when compared to previous study this can represent fungal sinusitis given the evidence of paranasal sinuses inflammatory disease or inspissated mucus mass is less likely please correlate with direct clinical evaluation \n",
            "Predicted summary:  no evidence of acute intracranial abnormality there is lesion in the left superior frontal lobe measuring mm this finding is nonspecific finding and could represent post inflammatory infectious etiology given the patient history of malignancy further follow up is recommended\n",
            "\n",
            "\n",
            "Review: endotracheal tube tip thoracic inlet umbilical lines unchanged three right sided chest tubes place position unchanged slightly improved right pneumothorax small residual pneumothorax present air outlining cardiac silhouette longer seen may artifactual patchy left basilar atelectasis unchanged \n",
            "Original summary: slightly improved small right pneumothorax no evidence of pneumopericardium \n",
            "Predicted summary:  improved right pneumothorax\n",
            "\n",
            "\n",
            "Review: anterolisthesis dorsal thecal sac narrowing cord deformation also moderate uncovertebral hypertrophy mild moderate neural foraminal narrowing bilaterally posterior disk osteophyte complex moderate uncovertebral hypertrophy severe right mild left facet arthropathy result severe right moderate left neural foraminal narrowing also partial dorsal ventral thecal sac effacement large posterior disk osteophyte complex eccentric right also severe uncovertebral hypertrophy severe right facet arthropathy result severe right moderate left neural foraminal narrowing also ventral thecal sac effacement partial dorsal thecal sac effacement posterior disk osteophyte complex severe uncovertebral hypertrophy moderate bilateral facet arthropathy resulting complete effacement dorsal ventral thecal sac well mild moderate bilateral neural foraminal narrowing posterior disk osteophyte complex results ventral dorsal thecal sac effacement well mild cord deformation also severe uncovertebral hypertrophy facet arthropathy result moderate neural foraminal narrowing minimal grade anterolisthesis posterior disk osteophyte complex pseudo disk moderate uncovertebral hypertrophy left greater right moderate facet arthropathy erosive changes dens vertebral endplates noted without change mineralization disk space well prevertebral soft tissue findings consistent stated diagnosis cppd arthropathy electronic medical record moderate vascular calcification present carotid bifurcations origin great vessels appears redundancy right brachiocephalic artery hypodense nodule left thyroid cervical mass aerodigestive tract exophytic mass lung apices clear findings appear stable \n",
            "Original summary: associated anterior translation rotation at the cervicocranial junction though without discretely seen effacement of the thecal sac or cord flattening suggest flexion and extension radiographs for further evaluation extensive changes related to cppd arthropathy and severe degenerative changes similar to prior examination left thyroid nodule stable suggest sonographic evaluation if not previously obtained \n",
            "Predicted summary:  multilevel degenerative changes with associated multilevel neuroforaminal narrowing as detailed above there is also multilevel neural foraminal stenosis as detailed above worst at where there is severe spinal canal stenosis and moderate right neural foraminal stenosis\n",
            "\n",
            "\n",
            "Review: surgical findings left pleurectomy decortication associated volume loss diffuse nodular pleural thickening small amount loculated fluid apex left hemithorax consistent known mesothelioma reference measurements follows level window clock position unchanged level pulmonary artery clock position previously level base right ventricle clock position unchanged adjacent nodular pleural thickening level decreased pleural nodule anterior left upper lobe seen prior exam nearly completely resolved subpleural nodule left lower lobe gradually increased size suspicious metastasis primary lung malignancy contralateral disease scattered unchanged micronodules likely post inflammatory mediastinum hila extensive intrapericardial tumor significantly changed except decreased loculated pockets fluid svc narrowing tumor unchanged severe coronary artery calcification normal heart size left hilar lymph node previously chest wall small extrathoracic nodule tumor adjacent left rib unchanged additional chest wall involvement left intercostal space unchanged mild degenerative changes thoracolumbar spine abdomen absence enteric contrast material limits sensitivity abdominal pathology liver biliary tract multiple hepatic cysts unchanged new suspicious hepatic lesions spleen significant abnormality noted adrenal glands significant abnormality noted kidneys ureters significant abnormality noted pancreas significant abnormality noted retroperitoneum lymph nodes significant abnormality noted bowel mesentery absence enteric contrast material limits sensitivity pathology gross abnormalities noted bones soft tissues mild degenerative changes thoracolumbar spine significant abnormality noted \n",
            "Original summary: stable reference lesions enlarging mm subpleural left lower lobe nodule suspicious for suspicious for metastasis or primary lung malignancy nonreference anterior left pleural nodule and nodular pleural thickening at the base is decreased \n",
            "Predicted summary:  no significant change in reference measurements as above\n",
            "\n",
            "\n",
            "Review: normal variant common trunk left common carotid brachiocephalic arteries noted chest wall anatomic alignment thoracic spine right chest port catheter tip right atrium abdomen liver biliary tract normal liver morphology size enhancement focal liver lesion identified gallbladder present evidence acute cholecystitis intrahepatic extrahepatic biliary ductal dilatation spleen normal spleen size morphology focal splenic lesion identified pancreas normal morphology pancreas homogeneous parenchymal enhancement focal lesion evidence pancreatitis adrenal glands adrenal lesion identified kidneys ureters normal morphology size kidneys symmetric enhancement focal lesion identified hydronephrosis hydroureter retroperitoneum lymph nodes retroperitoneal lymphadenopathy bowel mesentery enteric tube courses first part duodenum courses back stomach tip stomach duodenojejunal junction normally positioned bowel dilatation bones soft tissues anatomic alignment thoracolumbar spine focal lesion fracture identified ventriculoperitoneal shunt catheter courses along soft tissues left anterior chest wall left anterior abdomen entering peritoneum left abdomen coiling terminating mid lower abdomen course similar previous examination evidence discontinuity kinking visualized shunt tubing trace peritoneal fluid free air loculated fluid collection pelvis uterus adnexa significant abnormality notedbladder bladder distended lymph nodes pelvic lymphadenopathy bowel mesentery bowel dilatation bones soft tissues anatomic alignment thoracolumbar spine focal lesion fracture identified free air small amount free fluid pelvis loculated fluid collection ventriculoperitoneal shunt described \n",
            "Original summary: no specific evidence of infection in the chest abdomen or pelvis ventriculoperitoneal shunt with no evidence of discontinuity or kinking trace peritoneal and pelvic fluid enteric tube enters the duodenum and courses back with tip in the stomach \n",
            "Predicted summary:  no evidence of abscess or other specific findings to account for the patient pain\n",
            "\n",
            "\n",
            "Review: extensive metallic beam artifact dental filling posterior fossa examination demonstrate post craniotomy change left temporal parietal region diffuse soft tissue swelling fluid collection comparison previous study evidence decreased density left frontoparietal region subdural hematoma evidence new bleed size ventricles remains stable evidence acute cortical ischemia opacification left mastoid air cells noted visualized paranasal sinuses clear \n",
            "Original summary: interval stable left temporoparietal region post craniotomy change with partial resolution of left cerebral hemisphere surface subdural hematoma there is no evidence of new bleed the size of the ventricles remain stable left mastoid inflammatory disease \n",
            "Predicted summary:  stable left temporal scalp hematoma no evidence of new hemorrhage or acute new findings\n",
            "\n",
            "\n",
            "Review: within limitations noncontrast study following observations made abdomen lung bases significant abnormality notedliver biliary tract gallbladder somewhat contracted appearance thus limited evaluation spleen splenule noted inferior aspect splenic hilum pancreas significant abnormality notedadrenal glands significant abnormality notedkidneys ureters renal stones hydronephrosis bilaterally retroperitoneum lymph nodes scattered tiny mesenteric lymph nodes incidentally noted bowel mesentery significant abnormality noted bones soft tissues significant abnormality notedother significant abnormality notedpelvis prostate seminal vesicles significant abnormality notedbladder bladder contracted appearance thus limited evaluation lymph nodes significant abnormality notedbowel mesentery significant abnormality notedbones soft tissues degenerative changes bilateral hips spine noted significant abnormality noted \n",
            "Original summary: no evidence of hydronephrosis or renal calculus bilaterally \n",
            "Predicted summary:  no evidence of renal stones or hydronephrosis\n",
            "\n",
            "\n",
            "Review: focal opacity right lung base resolved lungs clear left lung hyperinflated consistent copd unchanged heart size large pleural effusion pneumothorax \n",
            "Original summary: resolution of focal opacity at the right lung base \n",
            "Predicted summary:  no acute cardiopulmonary process on radiography\n",
            "\n",
            "\n",
            "Review: rounded enhancing lesion consistent metastatic focus within posterior right temporal lobe appear similar prior exam measuring image series evidence surrounding vasogenic edema significant mass effect also evidence additional metastatic lesion brain leptomeninges linear vascular enhancement right posterior temporal occipital junction believed represent developmental venous anomaly definite evidence metastatic disease calvarium detected minimal mucosal thickening within right maxillary sinus mastoid air cells remainder visualized mastoid air cells middle ear cavities orbits paranasal sinuses unremarkable \n",
            "Original summary: no acute interval change stable area of enhancement in the right posterior temporal lobe consistent with metastatic focus with no surrounding edema or any significant mass effect \n",
            "Predicted summary:  no evidence of metastatic disease to the brain or the calvarium small right posterior temporal metastatic lesion with associated cortical enhancement is seen in the right posterior temporal occipital region please correlate with mri brain exam for further evaluation\n",
            "\n",
            "\n",
            "Review: brain moderate scalp hematoma right frontal scalp extending right orbital rim small focus gas present findings consistent reported laceration location soft tissue trauma seen underlying skull fracture acute intracranial hemorrhage extra axial collection gray white matter differentiation appears grossly intact diffuse cerebral hypoattenuation posterior aspect brain greater left side finding may well technical associated mass effect midline shift basal cistern effacement either however underlying parenchymal injury cannot excluded maxillofacial bones maxillofacial bone fracture visualized paranasal sinuses clear although scalp laceration extends region right orbital rim intraorbital hematoma mass effect globes intact lens dislocation \n",
            "Original summary: injury cannot be excluded advise follow up brain imaging preferably without the board if ct is utilized right frontal scalp laceration extending to right orbital rim no skull fracture acute intracranial hemorrhage or intraorbital mass effect no facial bone fracture findings were discussed with and acknowledged by dr of the on at am \n",
            "Predicted summary:  right frontal scalp hematoma without calvarial fracture or acute intracranial hemorrhage diffuse cerebral volume loss most prominent in the cerebellum and cerebral hemispheres the differential includes sequela of acute ischemia and chronic inflammation\n",
            "\n",
            "\n",
            "Review: seen orthopedic rod screw fixation posterior thoracolumbar spine evidence loosening hardware complication residual thoracolumbar levorotoscoliosis significantly changed prior study segmentation anomalies noted bones demineralized \n",
            "Original summary: no evidence of hardware complication residual scoliosis unchanged \n",
            "Predicted summary:  orthopedic fixation of the lumbosacral spine without evidence of complication\n",
            "\n",
            "\n",
            "Review: right lobe measurements cmleft lobe measurements cmisthmus measurements thickness right lobe three predominantly solid nodules seen dominant nodule midpole laterally measures previously measured contains echogenic foci posterior acoustic shadowing similar prior study nodule upper pole measures previously nodule inferior pole measures previously measured left lobe two nodules seen predominant solid nodule lower pole measures previously additional predominantly solid nodule lower pole measures previously isthmus predominantly solid nodule along right side isthmus measures previously parathyroid glands significant abnormality noted lymph nodes right neck level benign appearing lymph node measures additional right neck level benign appearing lymph node measures left neck level benign appearing lymph node measures pathologic lymphadenopathy significant abnormality noted \n",
            "Original summary: bilateral thyroid nodules unchanged \n",
            "Predicted summary:  stable subcentimeter nodules in the left lower pole as above\n",
            "\n",
            "\n",
            "Review: redemonstration right sided extra axial collection hyperdense relative csf hypodense relative gray matter white matter measures thickness prior exam measured associated mild mass effect midline shift approximately bilateral occipital lobe hypodensities present one right side involves cuneus associated mild mass effect measures approximately prior measured one left along lingual gyrus represents small focus encephalomalacia associated exact effect along left lateral ventriclesmall thin hyperdense lesions compatible subdural hematomas redemonstrated along tentorium cerebelli bilaterally stablethe csf spaces appropriate patient stated age midline shift abnormal mass lesions appreciated intracranially intracranial hemorrhage identified edema identified within brain parenchyma visualized portions paranasal sinuses clear visualized portions mastoid air cells clear visualized portions orbits intact \n",
            "Original summary: and very thin hyperdense lesions compatible with subdural hematomas are redemonstrated along the tentorium and cerebelli bilaterally redemonstration and no change in extent in the right occipital lobe subacute to infarction no evidence for hemorrhagic conversion it involves cuneus there is redemonstration of encephalomalacia in the left occipital lobe along the lingual gyrus \n",
            "Predicted summary:  no evidence for acute intracranial hemorrhage mass effect or edema ct is insensitive for the early detection of acute nonhemorrhagic cerebral infarction small focus of encephalomalacia is present along the left lateral aspect of the left insular cortex and bilateral occipital lobe as well as the left parietal lobe\n",
            "\n",
            "\n",
            "Review: right upper extremity picc tip superior atriocaval junction heart size normal unremarkable cardiomediastinal silhouette focal pulmonary opacities pleural effusion pneumothorax mild gaseous distention stomach \n",
            "Original summary: no acute cardiopulmonary abnormality \n",
            "Predicted summary:  no evidence of pneumonia\n",
            "\n",
            "\n",
            "Review: soft tissues status right post parotidectomy evidence metastatic lesions pathologic adenopathy soft tissues neck brain evidence metastatic disease brain calvaria extensive hypoattenuation periventricular subcortical white matter compatible small vessel disease previously aerated focus left petrous apex fluid filled asymmetry right paramedian vocal cord significantly changed prior decreased opacification right mastoid air cells \n",
            "Original summary: no evidence of metastasis or recurrence \n",
            "Predicted summary:  no evidence of recurrent disease in the neck no evidence of intracranial metastatic disease\n",
            "\n",
            "\n",
            "Review: chest lungs pleura subpleural reticulation honeycombing traction bronchiectasis postero basilar predominant pattern compatible uip findings mildly progressed previous exam particularly upper lobes stable nodules along left fissure likely represent intrapulmonary lymph nodes mediastinum hila severe coronary calcifications appearance normal trace pericardial effusion stable small mediastinal lymph nodeschest wall expansile destructive left pedicular lesion measures previously erosion spinal canal stable effacement left thecal sac findings stable noted mri optimal evaluation cord compression suspected clinically significant abnormality identified abdomen liver biliary tract liver enhances homogeneously without focal lesion status post cholecystectomy spleen significant abnormality notedpancreas significant abnormality notedadrenal glands adrenal nodularity thickening kidneys ureters unchanged bilateral simple cysts exophytic high density left renal lesion stable since least retroperitoneum lymph nodes moderate severe calcifications affect abdominal aorta branches prominent left para aortic lymph node measures short axis small nonenlarged retroperitoneal lymph nodes significantly changed bowel mesentery significant abnormality noted bones soft tissues severe degenerative changes visualized spine new suspicious focal osseous lesion significant abnormality notedpelvis prostate seminal vesicles prostatic enlargement bladder significant abnormality notedlymph nodes significant abnormality notedbowel mesentery significant abnormality notedbones soft tissues severe degenerative changes visualized spine new suspicious focal osseous lesion significant abnormality noted \n",
            "Original summary: no specific evidence of disease recurrence stable metastasis mild progression of pulmonary fibrosis in uip pattern \n",
            "Predicted summary:  no significant change in the size of the reference lesions no new sites of disease\n",
            "\n",
            "\n",
            "Review: abdomen lung bases small bilateral pleural effusions resolved liver biliary tract noted plastic biliary stents extending right left hepatic duct duodenum small amount pneumobilia subcentimeter nonspecific hypodensity right lower liver image number series number spleen significant abnormality notedpancreas significant abnormality notedadrenal glands significant abnormality notedkidneys ureters bilateral atrophic kidneys subcentimeter stone lower pole right kidney retroperitoneum lymph nodes significant abnormality noted bowel mesentery significant abnormality noted bones soft tissues significant abnormality notedother significant abnormality notedpelvis uterus adnexa significant abnormality notedbladder significant abnormality notedlymph nodes significant abnormality notedbowel mesentery significant abnormality notedbones soft tissues significant abnormality notedother left iliac fossa renal transplant evidence hydronephrosis peritransplant fluid collection \n",
            "Original summary: no evidence of intra abdominal collection \n",
            "Predicted summary:  no evidence of hydronephrosis or renal stone interval decrease in pneumobilia small bilateral pleural effusions and ascites\n",
            "\n",
            "\n",
            "Review: identified expansile heterogeneous skull mass centered left posterior occipital bone posterior occipital soft tissues bone mottled appearance extends inferolateral left aspect occipital bone adjacent mastoid bone lesion overall stable size however appearance dramatically changed resultant decrease multifocal regions bone lysis replaced dense sclerosis overall size lesion significantly change however difficult measure lesion accurately secondary difference angulation evidence intracranial hemorrhage mass edema however supra infratentorial posterior brain parenchyma demonstrates progressed hypoattenuation could secondary artifact possibly post treatment change evidence intracranial metastatic disease visualized vessels venous structures appear patent ventricles basal cisterns normal size configuration \n",
            "Original summary: in size with progression of sclerosis compared with the previous examination as detailed above intracranial vasculature appears patent and intact progression of hypoattenuation throughout the supra and infratentorial posterior brain parenchyma may be secondary to image artifact or possibly posttreatment change please correlate clinically if indicated findings can be further correlated with mri \n",
            "Predicted summary:  no evidence of intracranial metastatic disease redemonstration of left occipital and left occipital bone fracture with associated pathologic fracture of the left occipital bone\n",
            "\n",
            "\n",
            "Review: two views right ankle demonstrate previously seen ankle dislocation reduced near anatomic alignment overlying cast material limits fine bone detail approximately dorsal displacement distal fibular fracture fragment \n",
            "Original summary: reduction of ankle fracture dislocation as above \n",
            "Predicted summary:  reduction of the fifth metatarsal fracture\n",
            "\n",
            "\n",
            "Review: chest lungs pleura severe centrilobular emphysema scattered pulmonary micronodules unchanged left lower lobe paramediastinal consolidation atelectasis left apical scarring unchanged mediastinum hila mediastinal hilar lymphadenopathy small amount debris present trachea postsurgical changes esophagectomy gastric pull well circumscribed oval structure located intraluminally within gastric pull seen exam chest wall significant abnormality noted abdomen absence enteric contrast material markedly limits sensitivity abdominal pathology liver biliary tract significant abnormality noted spleen significant abnormality noted adrenal glands significant abnormality noted kidneys ureters upper pole left renal hypodensity visualized recent mri pancreas significant abnormality noted retroperitoneum lymph nodes significant abnormality noted bowel mesentery absence enteric contrast material markedly limits sensitivity pathology gross abnormalities noted bones soft tissues significant abnormality noted significant abnormality noted \n",
            "Original summary: scattered pulmonary nodules are unchanged and most likely benign no chest or abdomen lymphadenopathy circumscribed oval intraluminal gastric pull up structure is not seen on this exam \n",
            "Predicted summary:  no evidence of metastatic disease\n",
            "\n",
            "\n",
            "Review: lungs pleura scattered calcified noncalcified pulmonary nodules small pleural effusions bibasilar dependent subsegmental atelectasis patent central airways mild centrilobular emphysema mediastinum hila moderate enlargement papillary muscle calcification within suggestive previous myocardial infarct calcified mediastinal hilar lymph nodes coronary artery calcification mild chest wall significant abnormality noted upper abdomen absence enteric contrast material limits sensitivity abdominal pathology please recent abdomen pelvis dictation \n",
            "Original summary: no convincing evidence of active metastatic disease within the thorax scattered calcified and noncalcified micronodules which can be reevaluated on ct follow up as clinically indicated mild smoking related lung disease probable coronary artery disease stigmata of previous granulomatous disease \n",
            "Predicted summary:  no evidence of metastatic disease\n",
            "\n",
            "\n",
            "Review: seen postoperative changes frontal region bifrontal epidural interhemispheric fluid collections grossly unchanged compared prior exam underlying cerebral cerebellar hemispheres brainstem normal attenuation morphology acute intracranial hemorrhage mass edema seen ventricles normal volume lie midline sinus disease redemonstrated involving maxillary sinuses ethmoid air cells sphenoid sinuses mastoid air cells normally pneumatized \n",
            "Original summary: stable epidural fluid collections pansinusitis \n",
            "Predicted summary:  postoperative changes of frontal craniotomy and pneumocephalus no evidence of acute intracranial hemorrhage or mass\n",
            "\n",
            "\n",
            "Review: abdomen lung bases significant abnormality notedliver biliary tract nonspecific mild dynamically apical cephalocaudad measured coronal image focal lesions biliary dilatation spleen significant abnormality notedpancreas significant abnormality notedadrenal glands significant abnormality notedkidneys ureters significant abnormality notedretroperitoneum lymph nodes significant abnormality noted bowel mesentery laparoscopic cardiac place angle phi estimated coronal image degrees bones soft tissues significant abnormality notedother significant abnormality notedpelvis uterus adnexae postsurgical changes consistent history section linear surgical scar gas within evident bladder significant abnormality notedlymph nodes significant abnormality notedbowel mesentery evidence bowel wall thickening dilatation free loculated intraperitoneal fluid vague soft tissue density distribution omentum abutting inseparable left rectus muscle medial drain postsurgical changes including hematoma infection cannot excluded mature abscess evident would amenable drainage bones soft tissues midline gaping wound fat stranding subcutaneous fat low abdomen pelvis drain seen entering via gaping wound discrete fluid collections suggest mature abscess subcutaneous fat lower pelvis anterior abdominal wall small bubble gas infection cannot excluded discrete abscess evident significant abnormality noted \n",
            "Original summary: fat stranding and soft tissue density in the region of the midline scar abdominal wall and omentum deep to the left rectus muscle but without mature loculated fluid surgical changes uterus nonspecific hepatomegaly laparoscopic gastric band in place \n",
            "Predicted summary:  no evidence of bowel obstruction or other acute abnormality to account for the patient pain\n",
            "\n",
            "\n",
            "Review: acute fracture involving tip distal phalanx right fourth digit associated soft tissue swelling remainder examination normal \n",
            "Original summary: acute fracture tip of the distal phalanx of the right fourth digit \n",
            "Predicted summary:  acute fracture of the distal phalanx of the right thumb\n",
            "\n",
            "\n",
            "Review: brain low attenuation foci periventricular deep white matter likely represents chronic small vessel disease evidence intracranial hemorrhage mass edema areas abnormal enhancement ventricles basal cisterns normal size configuration calvaria skull base radiographically normal visualized paranasal sinuses mastoid air cells normally pneumatized neck images skull base cavernous sinuses unremarkable significant reduction size previously seen large laryngeal mass mass irregular shape difficult measure largest dimensions mass measures dimension transverse dimension prior examination mass measured transverse dimension dimension mass involves right lateral aspect epiglottis right aryepiglottic fold right piriform sinus extends anteriorly crosses midline posterior hyoid level right internal carotid artery immediately posterior evidence arterial encasement evidence erosion hyoid bone thyroid hypodensity right lobe unchanged multiple bilateral cervical lymph nodes noted appear grossly smaller examination reference left cervical lymph node measures previously tracheostomy tube place evidence airway compromise vasculature unremarkable note made mandibular graft view lung apices reveal gross abnormality chest obtained \n",
            "Original summary: no evidence of metastatic disease to the brain significant decrease in size and laryngeal mass decrease in size in bilateral cervical lymph nodes which show no evidence of pathologic enhancement or necrosis \n",
            "Predicted summary:  interval decrease in size of large mass at the level of the right common carotid artery and right internal carotid artery no evidence of dissection or other significant abnormality\n",
            "\n",
            "\n",
            "Review: stable support devices stable cardiomegaly right pleural effusion right basilar atelectasis consolidation similar prior study new pulmonary opacities pneumothorax \n",
            "Original summary: right pleural effusion and right basilar atelectasis consolidation is essentially unchanged no new pulmonary opacities \n",
            "Predicted summary:  stable cardiopulmonary appearance with cardiomegaly and pleural effusions\n",
            "\n",
            "\n",
            "Review: evidence radiodense body within esophagus airway evidence extraluminal gas within soft tissues neck aerodigestive tract normal appearance without evidence exophytic mass focal effacement salivary glands thyroid gland unremarkable appearance scattered prominent cervical lymph nodes enlarged criteria partial empty sella visualized brain unremarkable orbits paranasal sinuses unremarkable mastoid air cells clear reversal lordotic curvature mid cervical spine small calcific density posterior encroaches ventral epidural space finding likely represents focal calcification posterior longitudinal ligament lung apices unremarkable \n",
            "Original summary: no evidence of radiodense foreign body within the airway or esophagus no evidence of extraluminal gas small calcific density posterior to which encroaches the ventral epidural space finding likely represents focal calcification of the posterior longitudinal ligament \n",
            "Predicted summary:  no evidence of esophageal injury no evidence of esophageal dilatation or evidence of mass lesion or mass effect please note that ct is insensitive for the detection of early detection of osteomyelitis\n",
            "\n",
            "\n",
            "Review: heterogeneous amount fibroglandular tissue breasts minimal parenchymal enhancement noted bilaterally stable postlumpectomy changes identified left upper outer breast abnormal enhancement seen either breast abnormal axillary lymph nodes identified either axillary region \n",
            "Original summary: no mri evidence for malignancy birads negative recommendation nd routine diagnostic mammogram \n",
            "Predicted summary:  no mri evidence for malignancy birads negative recommendation ns routine screening mammogram\n",
            "\n",
            "\n",
            "Review: examination demonstrate minimal findings small vessel disease undetermined age evidence posttraumatic findings brain parenchyma calvarium detected bony density calvarium pneumatization mastoid vessels limited view paranasal sinuses unremarkable \n",
            "Original summary: notice of posttraumatic exam since prior study \n",
            "Predicted summary:  small vessel disease of indeterminate age\n",
            "\n",
            "\n",
            "Review: pulmonary arteries exam adequate lobar arteries pulmonary emboli noted lungs pleura status post intubation tube tip distal right mainstem bronchus subsequently retracted bibasilar atelectasis likely dependent mediastinum hila small hiatal hernia chest wall significant abnormality noted upper abdomen absence enteric contrast material markedly limits sensitivity abdominal pathology significant abnormality noted \n",
            "Original summary: no pulmonary emboli mild dependent atelectasis without other acute pulmonary abnormalities et tube tip at the right mainstem bronchus it has been subsequently retracted \n",
            "Predicted summary:  no evidence of pulmonary embolism right mainstem bronchus intubation with et tube tip approximately cm above the carina\n",
            "\n",
            "\n",
            "Review: cardiomediastinal silhouette unremarkable mildly decreased lung volumes focal airspace opacities pleural effusions \n",
            "Original summary: no acute cardiopulmonary abnormalities are identified no specific evidence of infection \n",
            "Predicted summary:  no acute cardiopulmonary abnormalities identified without interval change no specific evidence of infection\n",
            "\n",
            "\n",
            "Review: chest lungs pleura scattered bilateral pulmonary micronodules unchanged mediastinum hila mild atherosclerotic calcification thoracic aorta small non pathologically enlarged mediastinal lymph nodes redemonstrated chest wall significant abnormality notedother left lobe thyroid nodule unchanged size appearance abdomen liver biliary tract significant abnormality notedspleen significant abnormality notedpancreas significant abnormality notedadrenal glands significant abnormality notedkidneys ureters bilateral atrophic kidneys right lower pole fat containing lesion unchanged size measuring compatible angiomyolipoma exophytic left renal cystic lesion demonstrates increased attenuation unchanged size likely represents complex cyst though attention future surveillance scans warranted retroperitoneum lymph nodes bulky retroperitoneal lymphadenopathy minimally decreased size measuring previously moderate atherosclerotic calcification abdominal aorta branches bowel mesentery significant abnormality noted bones soft tissues small bilateral fat containing inguinal hernias significant abnormality notedpelvis prostate seminal vesicles heterogeneous enlarged prostate measuring maximal diameter bladder significant abnormality notedlymph nodes reference right pelvic lymph node measures previously slightly decreased size bowel mesentery significant abnormality notedbones soft tissues significant abnormality notedother significant abnormality noted \n",
            "Original summary: denied pain paresthesias or cold hand exam reveals non tender fluctuant cm swelling in the right antecubital fossa bilateral radial pulses sensation and strength intact and symmetric bilaterally in the distal upper extremities patient ice pack discharge structures including reason for return to ed were given patient was discharged home in stable condition \n",
            "Predicted summary:  stable examination\n",
            "\n",
            "\n",
            "Review: mild motion artifact degrades image quality pulmonary arteries technically adequate study small acute pulmonary embolus seen straddling bifurcation right lower lobe artery segmental arteries signs right ventricular strain present lungs pleura significant abnormality noted mediastinum hila significant abnormality noted chest wall significant abnormality noted upper abdomen significant abnormality noted \n",
            "Original summary: acute small pulmonary embolus straddling the bifurcation of the right lower lobe artery into the segmental arteries without signs of right ventricular strain these findings were relayed to the emergency room physician by the radiology resident on call at \n",
            "Predicted summary:  small pulmonary embolus in the right lower lobe extending into the segmental pulmonary artery no evidence of pulmonary embolus\n",
            "\n",
            "\n",
            "Review: pleural effusion pneumothorax questionable increased opacity right lung base cardiomediastinal silhouette within normal limits \n",
            "Original summary: questionable increased opacity at the right lung base which could be soft tissue summation artifact short term follow up is recommended with repeat chest pa and lateral radiographs no other conclusive abnormality to indicate tuberculosis is seen \n",
            "Predicted summary:  no acute cardiopulmonary abnormality\n",
            "\n",
            "\n",
            "Review: patient status post resection epidermoid tumor left cerebellum post surgical changes left cerebellar hemisphere extend vermis region left cerebellar pontine angle cerebellar atrophy volume loss elsewhere small punctate patchy hypodense foci periventricular white matter subcortical white matter correlate small areas increased signal intensity previous flair images consistent chronic small vessel disease gray white matter differentiation preserved mass effect midline shift intra extra axial fluid collection acute hemorrhage noted postsurgical craniotomy changes left occipital bone appear unchanged otherwise bones unremarkable limited view paranasal sinuses mastoid air cells normally pneumatized \n",
            "Original summary: no acute intracranial abnormalities postsurgical changes of the left cerebellum and craniotomy as described above small vessel disease essentially unchanged since \n",
            "Predicted summary:  no acute intracranial abnormality stable post surgical changes status post resection of left cerebellar tumor resection and left cerebellar hemisphere tumor recurrence no acute intracranial hemorrhage or mass effect\n",
            "\n",
            "\n",
            "Review: lungs pleura evidence faint patchy small areas groundglass opacity right upper lower lobes discrete areas consolidation evidence pleural effusion linear atelectasis lung bases mediastinum hila negative chest wall negative upper abdomen superior portion gravid uterus partially visualized \n",
            "Original summary: faint multifocal ground glass opacity in right lung this may be due mild aspiration or pulmonary edema it can also be seen in early infections such as viral uri bronchitis or atypical infections it is unlikely to represent bacterial pneumonia findings communicated to the referring physician dr pace at the time of report \n",
            "Predicted summary:  no evidence of pulmonary metastases\n",
            "\n",
            "\n",
            "Review: two standard digital views breasts tomosynthesis performed reviewed aid cad breast parenchyma composed scattered fibroglandular density suspicious masses microcalcifications areas architectural distortion present \n",
            "Original summary: no mammographic evidence of malignancy as long as the patient physical examination remains normal routine screening mammogram is recommended annually birads negative recommendation nsb screening mammogram \n",
            "Predicted summary:  no mammographic evidence of malignancy as long as the patient physical examination remains normal routine screening mammogram is recommended annually birads negative recommendation nsb screening mammogram\n",
            "\n",
            "\n",
            "Review: right elbow fracture line associated mild cortical step present within posterolateral aspect distal humerus anterior humeral line projects anterior capitellum periosteal reaction present along posterolateral distal humerus right forearm fractures identified within forearm \n",
            "Original summary: subacute supracondylar fracture with posterior angulation of the distal fracture fragment \n",
            "Predicted summary:  distal fibular fracture as above\n",
            "\n",
            "\n",
            "Review: abnormal osseous foci identified indicate metastatic disease subtle asymmetric increased activity soft tissues right breast consistent known breast cancer \n",
            "Original summary: no evidence of bone metastases \n",
            "Predicted summary:  no evidence of bone metastases\n",
            "\n",
            "\n",
            "Review: left sided cardiac device leads right atrial appendage right ventricular outflow tract cardiomediastinal silhouette unremarkable focal air space opacities pleural effusions pneumothorax \n",
            "Original summary: no acute cardiopulmonary abnormality \n",
            "Predicted summary:  no evidence of infection or edema\n",
            "\n",
            "\n",
            "Review: cardiothymic silhouette pulmonary vascularity normal focal lung opacity present left thoracolumbar curve seen appears gastrostomy tube \n",
            "Original summary: no pneumonia \n",
            "Predicted summary:  normal examination\n",
            "\n",
            "\n",
            "Review: right jugular swan ganz catheter tip proximal right interlobar pulmonary artery unchanged left subclavian icd leads unchanged position iabp marker approximately superior aspect aortic arch moderate cardiomegaly specific evidence infection edema pneumothorax \n",
            "Original summary: support devices unchanged moderate cardiomegaly without acute abnormality \n",
            "Predicted summary:  swan ganz catheter tip in the right interlobar pulmonary artery\n",
            "\n",
            "\n"
          ],
          "name": "stdout"
        }
      ]
    },
    {
      "cell_type": "markdown",
      "metadata": {
        "id": "IsuBsj4gHge8"
      },
      "source": [
        "# Check predictions"
      ]
    },
    {
      "cell_type": "code",
      "metadata": {
        "colab": {
          "base_uri": "https://localhost:8080/",
          "height": 164
        },
        "id": "bnY8M_n0Hheb",
        "outputId": "b12513c0-789e-428c-8ddf-10b709ed1c77"
      },
      "source": [
        "pred_output.head()"
      ],
      "execution_count": 1,
      "outputs": [
        {
          "output_type": "error",
          "ename": "NameError",
          "evalue": "ignored",
          "traceback": [
            "\u001b[0;31m---------------------------------------------------------------------------\u001b[0m",
            "\u001b[0;31mNameError\u001b[0m                                 Traceback (most recent call last)",
            "\u001b[0;32m<ipython-input-1-73d3b5e29b83>\u001b[0m in \u001b[0;36m<module>\u001b[0;34m()\u001b[0m\n\u001b[0;32m----> 1\u001b[0;31m \u001b[0mpred_output\u001b[0m\u001b[0;34m.\u001b[0m\u001b[0mhead\u001b[0m\u001b[0;34m(\u001b[0m\u001b[0;34m)\u001b[0m\u001b[0;34m\u001b[0m\u001b[0;34m\u001b[0m\u001b[0m\n\u001b[0m",
            "\u001b[0;31mNameError\u001b[0m: name 'pred_output' is not defined"
          ]
        }
      ]
    },
    {
      "cell_type": "code",
      "metadata": {
        "id": "8oTp_Z95HlP0"
      },
      "source": [
        "index_for_equivalent=pred_output[pred_output[\"bleu1\"]==1].index"
      ],
      "execution_count": null,
      "outputs": []
    },
    {
      "cell_type": "code",
      "metadata": {
        "id": "jz2ad53NH7yP"
      },
      "source": [
        "test_for_equivalent=test.iloc[index_for_equivalent,:]"
      ],
      "execution_count": null,
      "outputs": []
    },
    {
      "cell_type": "code",
      "metadata": {
        "colab": {
          "base_uri": "https://localhost:8080/"
        },
        "id": "CP1v9reWIjrs",
        "outputId": "15d5016e-6238-49f7-f15b-c315895d91af"
      },
      "source": [
        "sum(test_for_equivalent[\"FINDINGS\"]!=test_for_equivalent[\"IMPRESSION\"])"
      ],
      "execution_count": null,
      "outputs": [
        {
          "output_type": "execute_result",
          "data": {
            "text/plain": [
              "104"
            ]
          },
          "metadata": {
            "tags": []
          },
          "execution_count": 22
        }
      ]
    },
    {
      "cell_type": "code",
      "metadata": {
        "colab": {
          "base_uri": "https://localhost:8080/",
          "height": 521
        },
        "id": "c2_o25puIpcx",
        "outputId": "908696f2-2699-4107-b9f9-119de802b38d"
      },
      "source": [
        "test_for_equivalent"
      ],
      "execution_count": null,
      "outputs": [
        {
          "output_type": "execute_result",
          "data": {
            "text/html": [
              "<div>\n",
              "<style scoped>\n",
              "    .dataframe tbody tr th:only-of-type {\n",
              "        vertical-align: middle;\n",
              "    }\n",
              "\n",
              "    .dataframe tbody tr th {\n",
              "        vertical-align: top;\n",
              "    }\n",
              "\n",
              "    .dataframe thead th {\n",
              "        text-align: right;\n",
              "    }\n",
              "</style>\n",
              "<table border=\"1\" class=\"dataframe\">\n",
              "  <thead>\n",
              "    <tr style=\"text-align: right;\">\n",
              "      <th></th>\n",
              "      <th>index</th>\n",
              "      <th>FINDINGS</th>\n",
              "      <th>IMPRESSION</th>\n",
              "    </tr>\n",
              "  </thead>\n",
              "  <tbody>\n",
              "    <tr>\n",
              "      <th>8</th>\n",
              "      <td>8</td>\n",
              "      <td>Heart size normal.Basilar opacities likely ate...</td>\n",
              "      <td>No specific evidence of infection or edema.</td>\n",
              "    </tr>\n",
              "    <tr>\n",
              "      <th>42</th>\n",
              "      <td>42</td>\n",
              "      <td>No abnormal osseous foci are identified to ind...</td>\n",
              "      <td>No evidence of bone metastases.</td>\n",
              "    </tr>\n",
              "    <tr>\n",
              "      <th>43</th>\n",
              "      <td>43</td>\n",
              "      <td>ET tube tip approximately 5 cm above the carin...</td>\n",
              "      <td>ET tube in acceptable position.</td>\n",
              "    </tr>\n",
              "    <tr>\n",
              "      <th>53</th>\n",
              "      <td>53</td>\n",
              "      <td>Clear lungs. No pleural effusion or pneumothor...</td>\n",
              "      <td>No acute cardiopulmonary process on radiography.</td>\n",
              "    </tr>\n",
              "    <tr>\n",
              "      <th>87</th>\n",
              "      <td>87</td>\n",
              "      <td>The cardiomediastinal silhouette is unremarkab...</td>\n",
              "      <td>No acute cardiopulmonary abnormalities are ide...</td>\n",
              "    </tr>\n",
              "    <tr>\n",
              "      <th>...</th>\n",
              "      <td>...</td>\n",
              "      <td>...</td>\n",
              "      <td>...</td>\n",
              "    </tr>\n",
              "    <tr>\n",
              "      <th>1826</th>\n",
              "      <td>1844</td>\n",
              "      <td>Nonenhanced head CT:No detectable acute intrac...</td>\n",
              "      <td>Negative nonenhanced head CT.</td>\n",
              "    </tr>\n",
              "    <tr>\n",
              "      <th>1856</th>\n",
              "      <td>1874</td>\n",
              "      <td>Iatrogenic devices are unchanged. Low lung vol...</td>\n",
              "      <td>No substantial change in bibasilar pleural-par...</td>\n",
              "    </tr>\n",
              "    <tr>\n",
              "      <th>1857</th>\n",
              "      <td>1875</td>\n",
              "      <td>Tracheostomy tube tip is below thoracic inlet....</td>\n",
              "      <td>No focal lung opacities.</td>\n",
              "    </tr>\n",
              "    <tr>\n",
              "      <th>1928</th>\n",
              "      <td>1947</td>\n",
              "      <td>Mild left basilar scarring and/or atelectasis ...</td>\n",
              "      <td>No acute cardiopulmonary process on radiography.</td>\n",
              "    </tr>\n",
              "    <tr>\n",
              "      <th>1955</th>\n",
              "      <td>1975</td>\n",
              "      <td>Minimal bibasilar scarring/atelectasis. No foc...</td>\n",
              "      <td>No acute cardiopulmonary abnormality.</td>\n",
              "    </tr>\n",
              "  </tbody>\n",
              "</table>\n",
              "<p>104 rows × 3 columns</p>\n",
              "</div>"
            ],
            "text/plain": [
              "      index  ...                                         IMPRESSION\n",
              "8         8  ...        No specific evidence of infection or edema.\n",
              "42       42  ...                    No evidence of bone metastases.\n",
              "43       43  ...                    ET tube in acceptable position.\n",
              "53       53  ...  No acute cardiopulmonary process on radiography. \n",
              "87       87  ...  No acute cardiopulmonary abnormalities are ide...\n",
              "...     ...  ...                                                ...\n",
              "1826   1844  ...                      Negative nonenhanced head CT.\n",
              "1856   1874  ...  No substantial change in bibasilar pleural-par...\n",
              "1857   1875  ...                           No focal lung opacities.\n",
              "1928   1947  ...   No acute cardiopulmonary process on radiography.\n",
              "1955   1975  ...              No acute cardiopulmonary abnormality.\n",
              "\n",
              "[104 rows x 3 columns]"
            ]
          },
          "metadata": {
            "tags": []
          },
          "execution_count": 24
        }
      ]
    },
    {
      "cell_type": "code",
      "metadata": {
        "id": "F9_nhqBHJh3v"
      },
      "source": [
        "from nltk.translate.bleu_score import sentence_bleu\n",
        "from nltk.translate.bleu_score import SmoothingFunction\n",
        "chencherry = SmoothingFunction()\n",
        "\n",
        "def sentence_bleu_n(ref, hyp, weights):\n",
        "  return sentence_bleu(references = [ref.split()], \n",
        "                       hypothesis = hyp.split(),\n",
        "                       weights = weights,\n",
        "                       smoothing_function = chencherry.method1)"
      ],
      "execution_count": null,
      "outputs": []
    },
    {
      "cell_type": "code",
      "metadata": {
        "id": "Zmsy3xv8KLib"
      },
      "source": [
        "from rouge import Rouge"
      ],
      "execution_count": null,
      "outputs": []
    },
    {
      "cell_type": "code",
      "metadata": {
        "id": "trG8_EP3K05d"
      },
      "source": [
        "def sentence_rouge(ref, hyp,weight):\n",
        "  rouge = Rouge()\n",
        "  scores=rouge.get_scores(ref, hyp)\n",
        "  if weight==1:\n",
        "    return scores[0][\"rouge-1\"][\"f\"]\n",
        "  else:\n",
        "    return scores[0][\"rouge-2\"][\"f\"]"
      ],
      "execution_count": null,
      "outputs": []
    },
    {
      "cell_type": "code",
      "metadata": {
        "id": "7SuODeCUKNxe"
      },
      "source": [
        "# bleu1\n",
        "pred_output['bleu1'] = pred_output[['y_pred', 'y_true']].apply(lambda x: sentence_bleu_n(x[1], x[0], weights = [1,0,0,0]), axis=1)\n",
        "\n",
        "# bleu2\n",
        "pred_output['bleu2'] = pred_output[['y_pred', 'y_true']].apply(lambda x: sentence_bleu_n(x[1], x[0], weights = [0,1,0,0]), axis=1)\n",
        "\n",
        "#Rouge1\n",
        "pred_output[\"rouge1\"]=pred_output[['y_pred', 'y_true']].apply(lambda x: sentence_rouge(x[1], x[0], weight = 1), axis=1)\n",
        "\n",
        "#Rouge2\n",
        "pred_output[\"rouge2\"]=pred_output[['y_pred', 'y_true']].apply(lambda x: sentence_rouge(x[1], x[0], weight = 2), axis=1)"
      ],
      "execution_count": null,
      "outputs": []
    },
    {
      "cell_type": "code",
      "metadata": {
        "colab": {
          "base_uri": "https://localhost:8080/"
        },
        "id": "o1cm1xEsK2S9",
        "outputId": "1d08a92c-643e-4e4f-96cc-8de4cfe32148"
      },
      "source": [
        "pred_output['bleu1'].mean()"
      ],
      "execution_count": null,
      "outputs": [
        {
          "output_type": "execute_result",
          "data": {
            "text/plain": [
              "0.26645652330411523"
            ]
          },
          "metadata": {
            "tags": []
          },
          "execution_count": 34
        }
      ]
    },
    {
      "cell_type": "code",
      "metadata": {
        "colab": {
          "base_uri": "https://localhost:8080/"
        },
        "id": "Iqn2su5DKuVV",
        "outputId": "9e9f1c18-dc37-495a-9adb-8d2e6b7ccb1d"
      },
      "source": [
        "pred_output['bleu2'].mean()"
      ],
      "execution_count": null,
      "outputs": [
        {
          "output_type": "execute_result",
          "data": {
            "text/plain": [
              "0.1705575839963342"
            ]
          },
          "metadata": {
            "tags": []
          },
          "execution_count": 35
        }
      ]
    },
    {
      "cell_type": "code",
      "metadata": {
        "colab": {
          "base_uri": "https://localhost:8080/"
        },
        "id": "GVALSdyQK6v9",
        "outputId": "8fd39161-c9c5-4a85-f753-e4d24373f313"
      },
      "source": [
        "pred_output['rouge1'].mean()"
      ],
      "execution_count": null,
      "outputs": [
        {
          "output_type": "execute_result",
          "data": {
            "text/plain": [
              "0.3539328846244041"
            ]
          },
          "metadata": {
            "tags": []
          },
          "execution_count": 36
        }
      ]
    },
    {
      "cell_type": "code",
      "metadata": {
        "colab": {
          "base_uri": "https://localhost:8080/"
        },
        "id": "aDkssBBOK8nO",
        "outputId": "bb2bc448-43ac-4eac-9650-ae60d40c3f7b"
      },
      "source": [
        "pred_output['rouge2'].mean()"
      ],
      "execution_count": null,
      "outputs": [
        {
          "output_type": "execute_result",
          "data": {
            "text/plain": [
              "0.20996441622055256"
            ]
          },
          "metadata": {
            "tags": []
          },
          "execution_count": 37
        }
      ]
    },
    {
      "cell_type": "code",
      "metadata": {
        "colab": {
          "base_uri": "https://localhost:8080/",
          "height": 303
        },
        "id": "aqfWgLDTI-L3",
        "outputId": "f8365b2e-9c74-4f46-a26c-91d05368c2ff"
      },
      "source": [
        "test[test[\"FINDINGS\"]==test[\"IMPRESSION\"]]"
      ],
      "execution_count": null,
      "outputs": [
        {
          "output_type": "execute_result",
          "data": {
            "text/html": [
              "<div>\n",
              "<style scoped>\n",
              "    .dataframe tbody tr th:only-of-type {\n",
              "        vertical-align: middle;\n",
              "    }\n",
              "\n",
              "    .dataframe tbody tr th {\n",
              "        vertical-align: top;\n",
              "    }\n",
              "\n",
              "    .dataframe thead th {\n",
              "        text-align: right;\n",
              "    }\n",
              "</style>\n",
              "<table border=\"1\" class=\"dataframe\">\n",
              "  <thead>\n",
              "    <tr style=\"text-align: right;\">\n",
              "      <th></th>\n",
              "      <th>index</th>\n",
              "      <th>FINDINGS</th>\n",
              "      <th>IMPRESSION</th>\n",
              "    </tr>\n",
              "  </thead>\n",
              "  <tbody>\n",
              "    <tr>\n",
              "      <th>292</th>\n",
              "      <td>292</td>\n",
              "      <td>Linear scarring or atelectasis on the right.Du...</td>\n",
              "      <td>Linear scarring or atelectasis on the right.Du...</td>\n",
              "    </tr>\n",
              "    <tr>\n",
              "      <th>354</th>\n",
              "      <td>354</td>\n",
              "      <td>Lungs hypoinflated though there is no new opac...</td>\n",
              "      <td>Lungs hypoinflated though there is no new opac...</td>\n",
              "    </tr>\n",
              "    <tr>\n",
              "      <th>641</th>\n",
              "      <td>642</td>\n",
              "      <td>Interval increase in right pleural fluid filli...</td>\n",
              "      <td>Interval increase in right pleural fluid filli...</td>\n",
              "    </tr>\n",
              "    <tr>\n",
              "      <th>1702</th>\n",
              "      <td>1718</td>\n",
              "      <td>Mild to moderate fecal accumulation with no ev...</td>\n",
              "      <td>Mild to moderate fecal accumulation with no ev...</td>\n",
              "    </tr>\n",
              "    <tr>\n",
              "      <th>1894</th>\n",
              "      <td>1913</td>\n",
              "      <td>Dobbhoff tube tip in stomach. ET tube tip 4 cm...</td>\n",
              "      <td>Dobbhoff tube tip in stomach. ET tube tip 4 cm...</td>\n",
              "    </tr>\n",
              "    <tr>\n",
              "      <th>1903</th>\n",
              "      <td>1922</td>\n",
              "      <td>Lungs hypoinflated with no new opacity to sugg...</td>\n",
              "      <td>Lungs hypoinflated with no new opacity to sugg...</td>\n",
              "    </tr>\n",
              "  </tbody>\n",
              "</table>\n",
              "</div>"
            ],
            "text/plain": [
              "      index  ...                                         IMPRESSION\n",
              "292     292  ...  Linear scarring or atelectasis on the right.Du...\n",
              "354     354  ...  Lungs hypoinflated though there is no new opac...\n",
              "641     642  ...  Interval increase in right pleural fluid filli...\n",
              "1702   1718  ...  Mild to moderate fecal accumulation with no ev...\n",
              "1894   1913  ...  Dobbhoff tube tip in stomach. ET tube tip 4 cm...\n",
              "1903   1922  ...  Lungs hypoinflated with no new opacity to sugg...\n",
              "\n",
              "[6 rows x 3 columns]"
            ]
          },
          "metadata": {
            "tags": []
          },
          "execution_count": 26
        }
      ]
    },
    {
      "cell_type": "code",
      "metadata": {
        "colab": {
          "base_uri": "https://localhost:8080/",
          "height": 529
        },
        "id": "Y0D6TVlqLouW",
        "outputId": "ff6edc68-0dd3-496b-9b33-fdad8d92141d"
      },
      "source": [
        "pred_output[pred_output[\"bleu1\"]==1].head(10)"
      ],
      "execution_count": null,
      "outputs": [
        {
          "output_type": "execute_result",
          "data": {
            "text/html": [
              "<div>\n",
              "<style scoped>\n",
              "    .dataframe tbody tr th:only-of-type {\n",
              "        vertical-align: middle;\n",
              "    }\n",
              "\n",
              "    .dataframe tbody tr th {\n",
              "        vertical-align: top;\n",
              "    }\n",
              "\n",
              "    .dataframe thead th {\n",
              "        text-align: right;\n",
              "    }\n",
              "</style>\n",
              "<table border=\"1\" class=\"dataframe\">\n",
              "  <thead>\n",
              "    <tr style=\"text-align: right;\">\n",
              "      <th></th>\n",
              "      <th>Unnamed: 0</th>\n",
              "      <th>y_pred</th>\n",
              "      <th>y_true</th>\n",
              "      <th>bleu1</th>\n",
              "      <th>bleu2</th>\n",
              "      <th>rouge1</th>\n",
              "      <th>rouge2</th>\n",
              "    </tr>\n",
              "  </thead>\n",
              "  <tbody>\n",
              "    <tr>\n",
              "      <th>8</th>\n",
              "      <td>8</td>\n",
              "      <td>no specific evidence of infection or edema</td>\n",
              "      <td>no specific evidence of infection or edema</td>\n",
              "      <td>1.0</td>\n",
              "      <td>1.0</td>\n",
              "      <td>1.0</td>\n",
              "      <td>1.0</td>\n",
              "    </tr>\n",
              "    <tr>\n",
              "      <th>42</th>\n",
              "      <td>42</td>\n",
              "      <td>no evidence of bone metastases</td>\n",
              "      <td>no evidence of bone metastases</td>\n",
              "      <td>1.0</td>\n",
              "      <td>1.0</td>\n",
              "      <td>1.0</td>\n",
              "      <td>1.0</td>\n",
              "    </tr>\n",
              "    <tr>\n",
              "      <th>43</th>\n",
              "      <td>43</td>\n",
              "      <td>et tube in acceptable position</td>\n",
              "      <td>et tube in acceptable position</td>\n",
              "      <td>1.0</td>\n",
              "      <td>1.0</td>\n",
              "      <td>1.0</td>\n",
              "      <td>1.0</td>\n",
              "    </tr>\n",
              "    <tr>\n",
              "      <th>53</th>\n",
              "      <td>53</td>\n",
              "      <td>no acute cardiopulmonary process on radiography</td>\n",
              "      <td>no acute cardiopulmonary process on radiography</td>\n",
              "      <td>1.0</td>\n",
              "      <td>1.0</td>\n",
              "      <td>1.0</td>\n",
              "      <td>1.0</td>\n",
              "    </tr>\n",
              "    <tr>\n",
              "      <th>87</th>\n",
              "      <td>87</td>\n",
              "      <td>no acute cardiopulmonary abnormalities are id...</td>\n",
              "      <td>no acute cardiopulmonary abnormalities are ide...</td>\n",
              "      <td>1.0</td>\n",
              "      <td>1.0</td>\n",
              "      <td>1.0</td>\n",
              "      <td>1.0</td>\n",
              "    </tr>\n",
              "    <tr>\n",
              "      <th>93</th>\n",
              "      <td>93</td>\n",
              "      <td>no mammographic evidence of malignancy as lon...</td>\n",
              "      <td>no mammographic evidence of malignancy as long...</td>\n",
              "      <td>1.0</td>\n",
              "      <td>1.0</td>\n",
              "      <td>1.0</td>\n",
              "      <td>1.0</td>\n",
              "    </tr>\n",
              "    <tr>\n",
              "      <th>95</th>\n",
              "      <td>95</td>\n",
              "      <td>no evidence of bone metastases</td>\n",
              "      <td>no evidence of bone metastases</td>\n",
              "      <td>1.0</td>\n",
              "      <td>1.0</td>\n",
              "      <td>1.0</td>\n",
              "      <td>1.0</td>\n",
              "    </tr>\n",
              "    <tr>\n",
              "      <th>96</th>\n",
              "      <td>96</td>\n",
              "      <td>no acute cardiopulmonary abnormality</td>\n",
              "      <td>no acute cardiopulmonary abnormality</td>\n",
              "      <td>1.0</td>\n",
              "      <td>1.0</td>\n",
              "      <td>1.0</td>\n",
              "      <td>1.0</td>\n",
              "    </tr>\n",
              "    <tr>\n",
              "      <th>128</th>\n",
              "      <td>128</td>\n",
              "      <td>no significant abnormality</td>\n",
              "      <td>no significant abnormality</td>\n",
              "      <td>1.0</td>\n",
              "      <td>1.0</td>\n",
              "      <td>1.0</td>\n",
              "      <td>1.0</td>\n",
              "    </tr>\n",
              "    <tr>\n",
              "      <th>161</th>\n",
              "      <td>161</td>\n",
              "      <td>no significant abnormality</td>\n",
              "      <td>no significant abnormality</td>\n",
              "      <td>1.0</td>\n",
              "      <td>1.0</td>\n",
              "      <td>1.0</td>\n",
              "      <td>1.0</td>\n",
              "    </tr>\n",
              "  </tbody>\n",
              "</table>\n",
              "</div>"
            ],
            "text/plain": [
              "     Unnamed: 0  ... rouge2\n",
              "8             8  ...    1.0\n",
              "42           42  ...    1.0\n",
              "43           43  ...    1.0\n",
              "53           53  ...    1.0\n",
              "87           87  ...    1.0\n",
              "93           93  ...    1.0\n",
              "95           95  ...    1.0\n",
              "96           96  ...    1.0\n",
              "128         128  ...    1.0\n",
              "161         161  ...    1.0\n",
              "\n",
              "[10 rows x 7 columns]"
            ]
          },
          "metadata": {
            "tags": []
          },
          "execution_count": 40
        }
      ]
    },
    {
      "cell_type": "code",
      "metadata": {
        "colab": {
          "base_uri": "https://localhost:8080/",
          "height": 272
        },
        "id": "iTfNorX5OAKy",
        "outputId": "f656482f-de9b-4ef0-ded9-2c6317960c55"
      },
      "source": [
        "test.head()"
      ],
      "execution_count": null,
      "outputs": [
        {
          "output_type": "execute_result",
          "data": {
            "text/html": [
              "<div>\n",
              "<style scoped>\n",
              "    .dataframe tbody tr th:only-of-type {\n",
              "        vertical-align: middle;\n",
              "    }\n",
              "\n",
              "    .dataframe tbody tr th {\n",
              "        vertical-align: top;\n",
              "    }\n",
              "\n",
              "    .dataframe thead th {\n",
              "        text-align: right;\n",
              "    }\n",
              "</style>\n",
              "<table border=\"1\" class=\"dataframe\">\n",
              "  <thead>\n",
              "    <tr style=\"text-align: right;\">\n",
              "      <th></th>\n",
              "      <th>index</th>\n",
              "      <th>FINDINGS</th>\n",
              "      <th>IMPRESSION</th>\n",
              "    </tr>\n",
              "  </thead>\n",
              "  <tbody>\n",
              "    <tr>\n",
              "      <th>0</th>\n",
              "      <td>0</td>\n",
              "      <td>There is diffusion restriction present involvi...</td>\n",
              "      <td>Subacute infarction involving the right poster...</td>\n",
              "    </tr>\n",
              "    <tr>\n",
              "      <th>1</th>\n",
              "      <td>1</td>\n",
              "      <td>Over the interval, previously demonstrated mod...</td>\n",
              "      <td>1.Over the interval, previously demonstrated m...</td>\n",
              "    </tr>\n",
              "    <tr>\n",
              "      <th>2</th>\n",
              "      <td>2</td>\n",
              "      <td>PULMONARY ARTERIES: Diagnostic quality examina...</td>\n",
              "      <td>1.No evidence of pulmonary embolism.2.Centrilo...</td>\n",
              "    </tr>\n",
              "    <tr>\n",
              "      <th>3</th>\n",
              "      <td>3</td>\n",
              "      <td>Enteric tube seen curled on itself with tip ex...</td>\n",
              "      <td>No change in appearance of enteric tube as abo...</td>\n",
              "    </tr>\n",
              "    <tr>\n",
              "      <th>4</th>\n",
              "      <td>4</td>\n",
              "      <td>No intracranial hemorrhage is identified. No i...</td>\n",
              "      <td>1. No evidence of intracranial hemorrhage or m...</td>\n",
              "    </tr>\n",
              "  </tbody>\n",
              "</table>\n",
              "</div>"
            ],
            "text/plain": [
              "   index  ...                                         IMPRESSION\n",
              "0      0  ...  Subacute infarction involving the right poster...\n",
              "1      1  ...  1.Over the interval, previously demonstrated m...\n",
              "2      2  ...  1.No evidence of pulmonary embolism.2.Centrilo...\n",
              "3      3  ...  No change in appearance of enteric tube as abo...\n",
              "4      4  ...  1. No evidence of intracranial hemorrhage or m...\n",
              "\n",
              "[5 rows x 3 columns]"
            ]
          },
          "metadata": {
            "tags": []
          },
          "execution_count": 41
        }
      ]
    },
    {
      "cell_type": "code",
      "metadata": {
        "colab": {
          "base_uri": "https://localhost:8080/",
          "height": 120
        },
        "id": "TsveEzLNOTHe",
        "outputId": "7d523e3b-f13d-4554-a5f6-85b8d7157e1f"
      },
      "source": [
        "test[\"IMPRESSION\"][74]"
      ],
      "execution_count": null,
      "outputs": [
        {
          "output_type": "execute_result",
          "data": {
            "application/vnd.google.colaboratory.intrinsic+json": {
              "type": "string"
            },
            "text/plain": [
              "'1. Posterior occipital bone lesion overall stable in size with progression of sclerosis compared with the previous examination, as detailed above.2. Intracranial vasculature appears patent and intact.3. Progression of hypoattenuation throughout the supra-and infratentorial posterior brain parenchyma may be secondary to image artifact, or possibly posttreatment change. Please correlate clinically. If indicated, findings can be further correlated with MRI.'"
            ]
          },
          "metadata": {
            "tags": []
          },
          "execution_count": 46
        }
      ]
    },
    {
      "cell_type": "code",
      "metadata": {
        "colab": {
          "base_uri": "https://localhost:8080/"
        },
        "id": "IPpeSNyjOVg5",
        "outputId": "583a90bc-8bd3-4704-f9d4-f159c9b0d10a"
      },
      "source": [
        "pred_output.iloc[74,:]"
      ],
      "execution_count": null,
      "outputs": [
        {
          "output_type": "execute_result",
          "data": {
            "text/plain": [
              "Unnamed: 0                                                   74\n",
              "y_pred         no evidence of intracranial metastatic diseas...\n",
              "y_true        in size with progression of sclerosis compared...\n",
              "bleu1                                                 0.0953074\n",
              "bleu2                                                  0.001416\n",
              "rouge1                                                 0.177215\n",
              "rouge2                                                        0\n",
              "Name: 74, dtype: object"
            ]
          },
          "metadata": {
            "tags": []
          },
          "execution_count": 48
        }
      ]
    },
    {
      "cell_type": "code",
      "metadata": {
        "colab": {
          "base_uri": "https://localhost:8080/"
        },
        "id": "LNscUniWO-Zm",
        "outputId": "c2c0251b-5785-4f23-a267-7b32f12e1178"
      },
      "source": [
        "pred_output[\"y_pred\"].str.split()"
      ],
      "execution_count": null,
      "outputs": [
        {
          "output_type": "execute_result",
          "data": {
            "text/plain": [
              "1999"
            ]
          },
          "metadata": {
            "tags": []
          },
          "execution_count": 51
        }
      ]
    },
    {
      "cell_type": "code",
      "metadata": {
        "id": "It9z7TsRQtHH"
      },
      "source": [
        "y_pred_length=[]\n",
        "for i in pred_output[\"y_pred\"]:\n",
        "    y_pred_length.append(len(i.split()))\n",
        "  "
      ],
      "execution_count": null,
      "outputs": []
    },
    {
      "cell_type": "code",
      "metadata": {
        "colab": {
          "base_uri": "https://localhost:8080/"
        },
        "id": "YkEYz3GwRAQ1",
        "outputId": "e55a9967-676a-4db9-d7ce-d78434410047"
      },
      "source": [
        "max(y_pred_length)"
      ],
      "execution_count": null,
      "outputs": [
        {
          "output_type": "execute_result",
          "data": {
            "text/plain": [
              "78"
            ]
          },
          "metadata": {
            "tags": []
          },
          "execution_count": 56
        }
      ]
    }
  ]
}