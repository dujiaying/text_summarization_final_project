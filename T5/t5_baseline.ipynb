{
 "cells": [
  {
   "cell_type": "code",
   "execution_count": 1,
   "metadata": {
    "executionInfo": {
     "elapsed": 2245,
     "status": "ok",
     "timestamp": 1607142068165,
     "user": {
      "displayName": "Jiaying Du",
      "photoUrl": "",
      "userId": "14440266368094325657"
     },
     "user_tz": 300
    },
    "id": "iz_EBfNDdCeW"
   },
   "outputs": [],
   "source": [
    "import numpy as np\n",
    "import pandas as pd\n",
    "import nltk\n",
    "import re\n",
    "import string"
   ]
  },
  {
   "cell_type": "code",
   "execution_count": 52,
   "metadata": {
    "colab": {
     "base_uri": "https://localhost:8080/",
     "height": 204
    },
    "executionInfo": {
     "elapsed": 3013,
     "status": "ok",
     "timestamp": 1607142070224,
     "user": {
      "displayName": "Jiaying Du",
      "photoUrl": "",
      "userId": "14440266368094325657"
     },
     "user_tz": 300
    },
    "id": "D1oQP9U1dPQz",
    "outputId": "18b52c49-645b-4b27-b8dd-d6050436d299"
   },
   "outputs": [
    {
     "data": {
      "text/html": [
       "<div>\n",
       "<style scoped>\n",
       "    .dataframe tbody tr th:only-of-type {\n",
       "        vertical-align: middle;\n",
       "    }\n",
       "\n",
       "    .dataframe tbody tr th {\n",
       "        vertical-align: top;\n",
       "    }\n",
       "\n",
       "    .dataframe thead th {\n",
       "        text-align: right;\n",
       "    }\n",
       "</style>\n",
       "<table border=\"1\" class=\"dataframe\">\n",
       "  <thead>\n",
       "    <tr style=\"text-align: right;\">\n",
       "      <th></th>\n",
       "      <th>FINDINGS</th>\n",
       "      <th>IMPRESSION</th>\n",
       "    </tr>\n",
       "  </thead>\n",
       "  <tbody>\n",
       "    <tr>\n",
       "      <th>0</th>\n",
       "      <td>There is diffusion restriction present involvi...</td>\n",
       "      <td>Subacute infarction involving the right poster...</td>\n",
       "    </tr>\n",
       "    <tr>\n",
       "      <th>1</th>\n",
       "      <td>Over the interval, previously demonstrated mod...</td>\n",
       "      <td>1.Over the interval, previously demonstrated m...</td>\n",
       "    </tr>\n",
       "    <tr>\n",
       "      <th>2</th>\n",
       "      <td>PULMONARY ARTERIES: Diagnostic quality examina...</td>\n",
       "      <td>1.No evidence of pulmonary embolism.2.Centrilo...</td>\n",
       "    </tr>\n",
       "    <tr>\n",
       "      <th>3</th>\n",
       "      <td>Enteric tube seen curled on itself with tip ex...</td>\n",
       "      <td>No change in appearance of enteric tube as abo...</td>\n",
       "    </tr>\n",
       "    <tr>\n",
       "      <th>4</th>\n",
       "      <td>No intracranial hemorrhage is identified. No i...</td>\n",
       "      <td>1. No evidence of intracranial hemorrhage or m...</td>\n",
       "    </tr>\n",
       "  </tbody>\n",
       "</table>\n",
       "</div>"
      ],
      "text/plain": [
       "                                            FINDINGS  \\\n",
       "0  There is diffusion restriction present involvi...   \n",
       "1  Over the interval, previously demonstrated mod...   \n",
       "2  PULMONARY ARTERIES: Diagnostic quality examina...   \n",
       "3  Enteric tube seen curled on itself with tip ex...   \n",
       "4  No intracranial hemorrhage is identified. No i...   \n",
       "\n",
       "                                          IMPRESSION  \n",
       "0  Subacute infarction involving the right poster...  \n",
       "1  1.Over the interval, previously demonstrated m...  \n",
       "2  1.No evidence of pulmonary embolism.2.Centrilo...  \n",
       "3  No change in appearance of enteric tube as abo...  \n",
       "4  1. No evidence of intracranial hemorrhage or m...  "
      ]
     },
     "execution_count": 52,
     "metadata": {},
     "output_type": "execute_result"
    }
   ],
   "source": [
    "data = pd.read_csv('hot_topics_data_100K.csv', index_col=0)\n",
    "data.reset_index(drop=True, inplace=True)\n",
    "data.head()"
   ]
  },
  {
   "cell_type": "code",
   "execution_count": 53,
   "metadata": {},
   "outputs": [
    {
     "data": {
      "text/html": [
       "<div>\n",
       "<style scoped>\n",
       "    .dataframe tbody tr th:only-of-type {\n",
       "        vertical-align: middle;\n",
       "    }\n",
       "\n",
       "    .dataframe tbody tr th {\n",
       "        vertical-align: top;\n",
       "    }\n",
       "\n",
       "    .dataframe thead th {\n",
       "        text-align: right;\n",
       "    }\n",
       "</style>\n",
       "<table border=\"1\" class=\"dataframe\">\n",
       "  <thead>\n",
       "    <tr style=\"text-align: right;\">\n",
       "      <th></th>\n",
       "      <th>FINDINGS</th>\n",
       "      <th>IMPRESSION</th>\n",
       "    </tr>\n",
       "    <tr>\n",
       "      <th>index</th>\n",
       "      <th></th>\n",
       "      <th></th>\n",
       "    </tr>\n",
       "  </thead>\n",
       "  <tbody>\n",
       "    <tr>\n",
       "      <th>0</th>\n",
       "      <td>There is diffusion restriction present involvi...</td>\n",
       "      <td>Subacute infarction involving the right poster...</td>\n",
       "    </tr>\n",
       "    <tr>\n",
       "      <th>1</th>\n",
       "      <td>Over the interval, previously demonstrated mod...</td>\n",
       "      <td>1.Over the interval, previously demonstrated m...</td>\n",
       "    </tr>\n",
       "    <tr>\n",
       "      <th>2</th>\n",
       "      <td>PULMONARY ARTERIES: Diagnostic quality examina...</td>\n",
       "      <td>1.No evidence of pulmonary embolism.2.Centrilo...</td>\n",
       "    </tr>\n",
       "    <tr>\n",
       "      <th>3</th>\n",
       "      <td>Enteric tube seen curled on itself with tip ex...</td>\n",
       "      <td>No change in appearance of enteric tube as abo...</td>\n",
       "    </tr>\n",
       "    <tr>\n",
       "      <th>4</th>\n",
       "      <td>No intracranial hemorrhage is identified. No i...</td>\n",
       "      <td>1. No evidence of intracranial hemorrhage or m...</td>\n",
       "    </tr>\n",
       "    <tr>\n",
       "      <th>...</th>\n",
       "      <td>...</td>\n",
       "      <td>...</td>\n",
       "    </tr>\n",
       "    <tr>\n",
       "      <th>2015</th>\n",
       "      <td>Right temporal lobe encephalomalacia is grossl...</td>\n",
       "      <td>Grossly stable infarct in the right posterior ...</td>\n",
       "    </tr>\n",
       "    <tr>\n",
       "      <th>2016</th>\n",
       "      <td>ABDOMEN:LUNG BASES: Multiple bilateral lung no...</td>\n",
       "      <td>1.Large mass at the duodenal jejunal junction ...</td>\n",
       "    </tr>\n",
       "    <tr>\n",
       "      <th>2017</th>\n",
       "      <td>CHEST:LUNGS AND PLEURA: Apical scarring is pre...</td>\n",
       "      <td>No CT evidence of recurrence.</td>\n",
       "    </tr>\n",
       "    <tr>\n",
       "      <th>2018</th>\n",
       "      <td>The exam is not sensitive for detecting lesion...</td>\n",
       "      <td>Limitations of no intravenous contrast. Decrea...</td>\n",
       "    </tr>\n",
       "    <tr>\n",
       "      <th>2019</th>\n",
       "      <td>NG tube terminates at the stomach. A single tr...</td>\n",
       "      <td>Postsurgical changes as described.</td>\n",
       "    </tr>\n",
       "  </tbody>\n",
       "</table>\n",
       "<p>2000 rows × 2 columns</p>\n",
       "</div>"
      ],
      "text/plain": [
       "                                                FINDINGS  \\\n",
       "index                                                      \n",
       "0      There is diffusion restriction present involvi...   \n",
       "1      Over the interval, previously demonstrated mod...   \n",
       "2      PULMONARY ARTERIES: Diagnostic quality examina...   \n",
       "3      Enteric tube seen curled on itself with tip ex...   \n",
       "4      No intracranial hemorrhage is identified. No i...   \n",
       "...                                                  ...   \n",
       "2015   Right temporal lobe encephalomalacia is grossl...   \n",
       "2016   ABDOMEN:LUNG BASES: Multiple bilateral lung no...   \n",
       "2017   CHEST:LUNGS AND PLEURA: Apical scarring is pre...   \n",
       "2018   The exam is not sensitive for detecting lesion...   \n",
       "2019   NG tube terminates at the stomach. A single tr...   \n",
       "\n",
       "                                              IMPRESSION  \n",
       "index                                                     \n",
       "0      Subacute infarction involving the right poster...  \n",
       "1      1.Over the interval, previously demonstrated m...  \n",
       "2      1.No evidence of pulmonary embolism.2.Centrilo...  \n",
       "3      No change in appearance of enteric tube as abo...  \n",
       "4      1. No evidence of intracranial hemorrhage or m...  \n",
       "...                                                  ...  \n",
       "2015   Grossly stable infarct in the right posterior ...  \n",
       "2016   1.Large mass at the duodenal jejunal junction ...  \n",
       "2017                       No CT evidence of recurrence.  \n",
       "2018   Limitations of no intravenous contrast. Decrea...  \n",
       "2019                  Postsurgical changes as described.  \n",
       "\n",
       "[2000 rows x 2 columns]"
      ]
     },
     "execution_count": 53,
     "metadata": {},
     "output_type": "execute_result"
    }
   ],
   "source": [
    "df_test = pd.read_csv('test_set_2000.csv', index_col=0)\n",
    "df_test"
   ]
  },
  {
   "cell_type": "code",
   "execution_count": 55,
   "metadata": {},
   "outputs": [
    {
     "data": {
      "text/html": [
       "<div>\n",
       "<style scoped>\n",
       "    .dataframe tbody tr th:only-of-type {\n",
       "        vertical-align: middle;\n",
       "    }\n",
       "\n",
       "    .dataframe tbody tr th {\n",
       "        vertical-align: top;\n",
       "    }\n",
       "\n",
       "    .dataframe thead th {\n",
       "        text-align: right;\n",
       "    }\n",
       "</style>\n",
       "<table border=\"1\" class=\"dataframe\">\n",
       "  <thead>\n",
       "    <tr style=\"text-align: right;\">\n",
       "      <th></th>\n",
       "      <th>FINDINGS</th>\n",
       "      <th>IMPRESSION</th>\n",
       "    </tr>\n",
       "  </thead>\n",
       "  <tbody>\n",
       "    <tr>\n",
       "      <th>372</th>\n",
       "      <td>There is redemonstration of C2 -occipital fusi...</td>\n",
       "      <td>1. Interval fracture of right C2 laminar screw...</td>\n",
       "    </tr>\n",
       "    <tr>\n",
       "      <th>692</th>\n",
       "      <td>No acute fracture or dislocation.</td>\n",
       "      <td>Normal examination.</td>\n",
       "    </tr>\n",
       "    <tr>\n",
       "      <th>744</th>\n",
       "      <td>There is no evidence of intracranial hemorrhag...</td>\n",
       "      <td>Normal brain CT.</td>\n",
       "    </tr>\n",
       "    <tr>\n",
       "      <th>840</th>\n",
       "      <td>There is no evidence of intracranial hemorrhag...</td>\n",
       "      <td>Normal brain CT.</td>\n",
       "    </tr>\n",
       "    <tr>\n",
       "      <th>847</th>\n",
       "      <td>There is no evidence of intracranial hemorrhag...</td>\n",
       "      <td>Normal brain CT.</td>\n",
       "    </tr>\n",
       "    <tr>\n",
       "      <th>...</th>\n",
       "      <td>...</td>\n",
       "      <td>...</td>\n",
       "    </tr>\n",
       "    <tr>\n",
       "      <th>99995</th>\n",
       "      <td>ABDOMEN: Please note that within the limits of...</td>\n",
       "      <td>1. Small right groin hematoma without evidence...</td>\n",
       "    </tr>\n",
       "    <tr>\n",
       "      <th>99996</th>\n",
       "      <td>The patient has undergone ACL reconstruction w...</td>\n",
       "      <td>Postsurgical changes of prior ACL reconstructi...</td>\n",
       "    </tr>\n",
       "    <tr>\n",
       "      <th>99997</th>\n",
       "      <td>LUNGS AND PLEURA: Scattered pulmonary micronod...</td>\n",
       "      <td>Right upper lobe interstitial opacity of uncer...</td>\n",
       "    </tr>\n",
       "    <tr>\n",
       "      <th>99998</th>\n",
       "      <td>A left temporoparietal subdural hematoma is id...</td>\n",
       "      <td>1.Large left subdural and left temporal intrap...</td>\n",
       "    </tr>\n",
       "    <tr>\n",
       "      <th>99999</th>\n",
       "      <td>CHEST:LUNGS AND PLEURA: No significant abnorma...</td>\n",
       "      <td>Stable examination.</td>\n",
       "    </tr>\n",
       "  </tbody>\n",
       "</table>\n",
       "<p>98000 rows × 2 columns</p>\n",
       "</div>"
      ],
      "text/plain": [
       "                                                FINDINGS  \\\n",
       "372    There is redemonstration of C2 -occipital fusi...   \n",
       "692                    No acute fracture or dislocation.   \n",
       "744    There is no evidence of intracranial hemorrhag...   \n",
       "840    There is no evidence of intracranial hemorrhag...   \n",
       "847    There is no evidence of intracranial hemorrhag...   \n",
       "...                                                  ...   \n",
       "99995  ABDOMEN: Please note that within the limits of...   \n",
       "99996  The patient has undergone ACL reconstruction w...   \n",
       "99997  LUNGS AND PLEURA: Scattered pulmonary micronod...   \n",
       "99998  A left temporoparietal subdural hematoma is id...   \n",
       "99999  CHEST:LUNGS AND PLEURA: No significant abnorma...   \n",
       "\n",
       "                                              IMPRESSION  \n",
       "372    1. Interval fracture of right C2 laminar screw...  \n",
       "692                                  Normal examination.  \n",
       "744                                     Normal brain CT.  \n",
       "840                                     Normal brain CT.  \n",
       "847                                     Normal brain CT.  \n",
       "...                                                  ...  \n",
       "99995  1. Small right groin hematoma without evidence...  \n",
       "99996  Postsurgical changes of prior ACL reconstructi...  \n",
       "99997  Right upper lobe interstitial opacity of uncer...  \n",
       "99998  1.Large left subdural and left temporal intrap...  \n",
       "99999                                Stable examination.  \n",
       "\n",
       "[98000 rows x 2 columns]"
      ]
     },
     "execution_count": 55,
     "metadata": {},
     "output_type": "execute_result"
    }
   ],
   "source": [
    "df_train_index = list(set(data.index) - set(df_test.index))\n",
    "df_train = data.iloc[df_train_index, :]\n",
    "df_train"
   ]
  },
  {
   "cell_type": "code",
   "execution_count": 56,
   "metadata": {},
   "outputs": [],
   "source": [
    "df_train.reset_index(drop=True, inplace=True)\n",
    "df_test.reset_index(drop=True, inplace=True)"
   ]
  },
  {
   "cell_type": "code",
   "execution_count": 57,
   "metadata": {},
   "outputs": [
    {
     "data": {
      "text/plain": [
       "(98000, 2)"
      ]
     },
     "execution_count": 57,
     "metadata": {},
     "output_type": "execute_result"
    }
   ],
   "source": [
    "df_train.shape"
   ]
  },
  {
   "cell_type": "code",
   "execution_count": 58,
   "metadata": {},
   "outputs": [
    {
     "data": {
      "text/plain": [
       "(2000, 2)"
      ]
     },
     "execution_count": 58,
     "metadata": {},
     "output_type": "execute_result"
    }
   ],
   "source": [
    "df_test.shape"
   ]
  },
  {
   "cell_type": "code",
   "execution_count": 59,
   "metadata": {
    "colab": {
     "base_uri": "https://localhost:8080/"
    },
    "executionInfo": {
     "elapsed": 2907,
     "status": "ok",
     "timestamp": 1607142070702,
     "user": {
      "displayName": "Jiaying Du",
      "photoUrl": "",
      "userId": "14440266368094325657"
     },
     "user_tz": 300
    },
    "id": "fNJblLf5djcG",
    "outputId": "59188d64-eaef-4ef4-8659-f12c2bf72f6b"
   },
   "outputs": [
    {
     "name": "stdout",
     "output_type": "stream",
     "text": [
      "there are 0 empty observations in col1\n",
      "there are 0 empty observations in col2\n",
      "there are 0 empty observations in col1\n",
      "there are 0 empty observations in col2\n"
     ]
    }
   ],
   "source": [
    "def remove_nonstr(dataframe, col1='IMPRESSION', col2='FINDINGS'):\n",
    "    \n",
    "    '''\n",
    "    There are some summary are of type None, so we remove those observations\n",
    "    '''\n",
    "    \n",
    "    print ('there are {} empty observations in col1'.format(len(np.where([type(i) != str for i in dataframe[col1]])[0])))\n",
    "    print ('there are {} empty observations in col2'.format(len(np.where([type(i) != str for i in dataframe[col2]])[0])))\n",
    "    dataframe = dataframe.drop(dataframe.index[np.where([type(i) != str for i in dataframe[col1]])])\n",
    "    dataframe = dataframe.reset_index(drop = True)\n",
    "    dataframe = dataframe.drop(dataframe.index[np.where([type(i) != str for i in dataframe[col2]])])\n",
    "    dataframe = dataframe.reset_index(drop = True)\n",
    "                                                 \n",
    "    return dataframe\n",
    "                                               \n",
    "df_train = remove_nonstr(df_train)\n",
    "df_test = remove_nonstr(df_test)"
   ]
  },
  {
   "cell_type": "code",
   "execution_count": 60,
   "metadata": {
    "executionInfo": {
     "elapsed": 2795,
     "status": "ok",
     "timestamp": 1607142071140,
     "user": {
      "displayName": "Jiaying Du",
      "photoUrl": "",
      "userId": "14440266368094325657"
     },
     "user_tz": 300
    },
    "id": "KeNHwJwzgB5M"
   },
   "outputs": [],
   "source": [
    "'''\n",
    "Remove \\n from rows\n",
    "'''\n",
    "for col in df_train.columns:\n",
    "    df_train[col] = [r.replace('\\n','') if type(r) == str else r for r in df_train[col]]\n",
    "    df_train[col] = [r.replace('\\n\\n','') if type(r) == str else r for r in df_train[col]]\n",
    "    \n",
    "'''\n",
    "Remove trailing spaces from rows\n",
    "'''\n",
    "for col in df_train.columns:\n",
    "    df_train[col] = [r.strip() if type(r) == str else r for r in df_train[col]]\n",
    "    \n",
    "'''\n",
    "Remove \\n from rows\n",
    "'''\n",
    "for col in df_test.columns:\n",
    "    df_test[col] = [r.replace('\\n','') if type(r) == str else r for r in df_test[col]]\n",
    "    df_test[col] = [r.replace('\\n\\n','') if type(r) == str else r for r in df_test[col]]\n",
    "    \n",
    "'''\n",
    "Remove trailing spaces from rows\n",
    "'''\n",
    "for col in df_test.columns:\n",
    "    df_test[col] = [r.strip() if type(r) == str else r for r in df_test[col]]"
   ]
  },
  {
   "cell_type": "code",
   "execution_count": 61,
   "metadata": {
    "colab": {
     "base_uri": "https://localhost:8080/"
    },
    "executionInfo": {
     "elapsed": 2346,
     "status": "ok",
     "timestamp": 1607142071140,
     "user": {
      "displayName": "Jiaying Du",
      "photoUrl": "",
      "userId": "14440266368094325657"
     },
     "user_tz": 300
    },
    "id": "WlYj0gG7gDiy",
    "outputId": "c267e69d-cb4a-4459-f323-09148db12a95"
   },
   "outputs": [
    {
     "name": "stdout",
     "output_type": "stream",
     "text": [
      "there are 0 empty observations in col1\n",
      "there are 0 empty observations in col2\n",
      "there are 0 empty observations in col1\n",
      "there are 0 empty observations in col2\n"
     ]
    }
   ],
   "source": [
    "def remove_emptystr(dataframe,col1 ='IMPRESSION' ,col2 ='FINDINGS' ):\n",
    "    \n",
    "    '''\n",
    "    There are some summary are of type None, so we remove those observations\n",
    "    '''\n",
    "    \n",
    "    print ('there are {} empty observations in col1'.format(len(np.where([len(i) == 0 for i in dataframe[col1]])[0])))\n",
    "    print ('there are {} empty observations in col2'.format(len(np.where([i == ' ' for i in dataframe[col2]])[0])))\n",
    "    dataframe = dataframe.drop(dataframe.index[np.where([len(i) == 0 for i in dataframe[col1]])])\n",
    "    dataframe = dataframe.reset_index(drop = True)\n",
    "    dataframe = dataframe.drop(dataframe.index[np.where([i == ' ' for i in dataframe[col2]])])\n",
    "    dataframe = dataframe.reset_index(drop = True)\n",
    "    \n",
    "                                               \n",
    "    return dataframe\n",
    "\n",
    "df_train = remove_emptystr(df_train)\n",
    "df_test = remove_emptystr(df_test)"
   ]
  },
  {
   "cell_type": "code",
   "execution_count": 62,
   "metadata": {
    "executionInfo": {
     "elapsed": 4388,
     "status": "ok",
     "timestamp": 1607142073471,
     "user": {
      "displayName": "Jiaying Du",
      "photoUrl": "",
      "userId": "14440266368094325657"
     },
     "user_tz": 300
    },
    "id": "IHb87_nWgiET"
   },
   "outputs": [],
   "source": [
    "'''\n",
    "Remove impression or finding of lenghth smaller than 2 or None type\n",
    "'''\n",
    "res = []\n",
    "for i in range(len(df_train['IMPRESSION'])):\n",
    "    if (len(df_train['IMPRESSION'][i]) <= 2) | (len(df_train['FINDINGS'][i])<=2) | (df_train['FINDINGS'][i]==None)|(df_train['IMPRESSION'][i] == None):\n",
    "               # print (i,all_parsed['FINDINGS'][i])\n",
    "               res.append(i)\n",
    "\n",
    "df_train = df_train.drop(df_train.index[res])\n",
    "df_train = df_train.reset_index(drop=True) \n",
    "\n",
    "'''\n",
    "Remove impression or finding of lenghth smaller than 2 or None type\n",
    "'''\n",
    "res = []\n",
    "for i in range(len(df_test['IMPRESSION'])):\n",
    "    if (len(df_test['IMPRESSION'][i]) <= 2) | (len(df_test['FINDINGS'][i])<=2) | (df_test['FINDINGS'][i]==None)|(df_test['IMPRESSION'][i] == None):\n",
    "               # print (i,all_parsed['FINDINGS'][i])\n",
    "               res.append(i)\n",
    "\n",
    "df_test = df_test.drop(df_test.index[res])\n",
    "df_test = df_test.reset_index(drop=True) "
   ]
  },
  {
   "cell_type": "code",
   "execution_count": 65,
   "metadata": {
    "executionInfo": {
     "elapsed": 20574,
     "status": "ok",
     "timestamp": 1607142090535,
     "user": {
      "displayName": "Jiaying Du",
      "photoUrl": "",
      "userId": "14440266368094325657"
     },
     "user_tz": 300
    },
    "id": "dkJQ7aHQjMIU"
   },
   "outputs": [],
   "source": [
    "'''\n",
    "Remove \\r from rows\n",
    "'''\n",
    "for col in df_train.columns:\n",
    "    df_train[col] = [r.replace('\\r','') if type(r) == str else r for r in df_train[col]]\n",
    "    df_train[col] = [r.replace('\\r\\r','') if type(r) == str else r for r in df_train[col]]\n",
    "\n",
    "df_train['IMPRESSION'] = df_train['IMPRESSION'].apply(lambda x: x.split('Report Electronically Signed')[0])\n",
    "\n",
    "for index, row in df_train.iterrows():\n",
    "    try:\n",
    "        len(row['IMPRESSION'])\n",
    "    except:\n",
    "        print ('is float:',row['IMPRESSION'])\n",
    "        df_train.drop(index, inplace=True)\n",
    "        \n",
    "for index, row in df_train.iterrows():\n",
    "    try:\n",
    "        len(row['FINDINGS'])\n",
    "    except:\n",
    "        print ('is float:',row['FINDINGS'])\n",
    "        df_train.drop(index, inplace=True)\n",
    "        \n",
    "'''\n",
    "Remove \\r from rows\n",
    "'''\n",
    "for col in df_test.columns:\n",
    "    df_test[col] = [r.replace('\\r','') if type(r) == str else r for r in df_test[col]]\n",
    "    df_test[col] = [r.replace('\\r\\r','') if type(r) == str else r for r in df_test[col]]\n",
    "\n",
    "df_test['IMPRESSION'] = df_test['IMPRESSION'].apply(lambda x: x.split('Report Electronically Signed')[0])\n",
    "\n",
    "for index, row in df_test.iterrows():\n",
    "    try:\n",
    "        len(row['IMPRESSION'])\n",
    "    except:\n",
    "        print ('is float:',row['IMPRESSION'])\n",
    "        df_test.drop(index, inplace=True)\n",
    "        \n",
    "for index, row in df_test.iterrows():\n",
    "    try:\n",
    "        len(row['FINDINGS'])\n",
    "    except:\n",
    "        print ('is float:',row['FINDINGS'])\n",
    "        df_test.drop(index, inplace=True)"
   ]
  },
  {
   "cell_type": "code",
   "execution_count": 66,
   "metadata": {},
   "outputs": [
    {
     "data": {
      "text/plain": [
       "(98000, 2)"
      ]
     },
     "execution_count": 66,
     "metadata": {},
     "output_type": "execute_result"
    }
   ],
   "source": [
    "df_train.shape"
   ]
  },
  {
   "cell_type": "code",
   "execution_count": 67,
   "metadata": {},
   "outputs": [
    {
     "data": {
      "text/plain": [
       "(2000, 2)"
      ]
     },
     "execution_count": 67,
     "metadata": {},
     "output_type": "execute_result"
    }
   ],
   "source": [
    "df_test.shape"
   ]
  },
  {
   "cell_type": "markdown",
   "metadata": {
    "id": "JrfKE8uOEfEz"
   },
   "source": [
    "## T5"
   ]
  },
  {
   "cell_type": "code",
   "execution_count": 69,
   "metadata": {
    "colab": {
     "base_uri": "https://localhost:8080/",
     "height": 369
    },
    "executionInfo": {
     "elapsed": 195989,
     "status": "ok",
     "timestamp": 1607142270797,
     "user": {
      "displayName": "Jiaying Du",
      "photoUrl": "",
      "userId": "14440266368094325657"
     },
     "user_tz": 300
    },
    "id": "ZxiX8Sr6AoCX",
    "outputId": "ee1ae4e8-1a36-4be1-969e-b2946e458a97"
   },
   "outputs": [
    {
     "name": "stdout",
     "output_type": "stream",
     "text": [
      "Size of train dataset:  (98000,)\n",
      "Size of test dataset:  (2000,)\n",
      " Example of text:  Clear lungs. No pleural effusion or pneumothorax. No acute bony abnormality. Normal heart size. Patient status post cholecystectomy. Patient status post sternotomy and CABG.\n",
      " Example of Summary:  No acute cardiopulmonary process on radiography.\n"
     ]
    },
    {
     "data": {
      "image/png": "[encoded data removed]",
      "text/plain": [
       "<Figure size 432x288 with 1 Axes>"
      ]
     },
     "metadata": {
      "needs_background": "light"
     },
     "output_type": "display_data"
    }
   ],
   "source": [
    "# Load Data from NLP Library\n",
    "print(\"Size of train dataset: \", df_train['FINDINGS'].shape)\n",
    "print(\"Size of test dataset: \", df_test['IMPRESSION'].shape)\n",
    "# Look at Sample Examples\n",
    "print(\" Example of text: \", df_train['FINDINGS'][2000])\n",
    "print(\" Example of Summary: \", df_train['IMPRESSION'][2000])\n",
    "# Average Length of Text and Summary\n",
    "text_len = []\n",
    "summary_len=[]\n",
    "for i in range(df_train.shape[0]):\n",
    "    text_example = df_train['FINDINGS'][i]\n",
    "    text_example = text_example.replace('\\n','')\n",
    "    text_words = text_example.split()\n",
    "    text_len.append(len(text_words))\n",
    "    summary_example = df_train['IMPRESSION'][i]\n",
    "    summary_example = summary_example.replace('\\n','')\n",
    "    summary_words = summary_example.split()\n",
    "    summary_len.append(len(summary_words))\n",
    "    \n",
    "import matplotlib.pyplot as plt\n",
    "%matplotlib inline\n",
    "plt.hist(text_len, bins=np.arange(0, 800, 50))\n",
    "plt.xlim([0, 800])\n",
    "plt.title('Average Text Length of Findings')\n",
    "plt.show()"
   ]
  },
  {
   "cell_type": "code",
   "execution_count": 70,
   "metadata": {
    "colab": {
     "base_uri": "https://localhost:8080/",
     "height": 281
    },
    "executionInfo": {
     "elapsed": 195636,
     "status": "ok",
     "timestamp": 1607142270944,
     "user": {
      "displayName": "Jiaying Du",
      "photoUrl": "",
      "userId": "14440266368094325657"
     },
     "user_tz": 300
    },
    "id": "qUCGJdAdDSe7",
    "outputId": "0d343eb1-be7d-4294-f261-c3319f1c372c"
   },
   "outputs": [
    {
     "data": {
      "image/png": "[encoded data removed]",
      "text/plain": [
       "<Figure size 432x288 with 1 Axes>"
      ]
     },
     "metadata": {
      "needs_background": "light"
     },
     "output_type": "display_data"
    }
   ],
   "source": [
    "plt.hist(summary_len, bins=np.arange(0, 200, 20))\n",
    "plt.xlim([0, 200])\n",
    "plt.title('Average Text Length of Impression')\n",
    "plt.show()"
   ]
  },
  {
   "cell_type": "code",
   "execution_count": 75,
   "metadata": {},
   "outputs": [
    {
     "name": "stderr",
     "output_type": "stream",
     "text": [
      "Some weights of T5ForConditionalGeneration were not initialized from the model checkpoint at t5-small and are newly initialized: ['encoder.embed_tokens.weight', 'decoder.embed_tokens.weight', 'lm_head.weight']\n",
      "You should probably TRAIN this model on a down-stream task to be able to use it for predictions and inference.\n"
     ]
    },
    {
     "data": {
      "application/vnd.jupyter.widget-view+json": {
       "model_id": "f34ea72dcc7e4632ac90e3f762d597f8",
       "version_major": 2,
       "version_minor": 0
      },
      "text/plain": [
       "HBox(children=(FloatProgress(value=0.0, max=2000.0), HTML(value='')))"
      ]
     },
     "metadata": {},
     "output_type": "display_data"
    },
    {
     "name": "stdout",
     "output_type": "stream",
     "text": [
      "\n"
     ]
    }
   ],
   "source": [
    "from transformers import T5Tokenizer, T5ForConditionalGeneration\n",
    "from tqdm.notebook import tqdm\n",
    "import warnings\n",
    "warnings.filterwarnings('ignore')\n",
    "\n",
    "tokenizer = T5Tokenizer.from_pretrained('t5-small')\n",
    "model = T5ForConditionalGeneration.from_pretrained('t5-small')\n",
    "res = []\n",
    "\n",
    "for i in tqdm(range(df_test.shape[0])):\n",
    "    inputs = tokenizer.batch_encode_plus([\"summarize: \" + df_test['FINDINGS'][i]], max_length=200, truncation=True, return_tensors=\"pt\", pad_to_max_length=True)  # Batch size 1\n",
    "    outputs = model.generate(inputs['input_ids'], num_beams=4, max_length=54, early_stopping=True)\n",
    "    res.append([tokenizer.decode(g, skip_special_tokens=True, clean_up_tokenization_spaces=False) for g in outputs][0])"
   ]
  },
  {
   "cell_type": "code",
   "execution_count": 76,
   "metadata": {
    "id": "JTv8imhA_93M"
   },
   "outputs": [],
   "source": [
    "res_s = pd.Series(res)\n",
    "res_s.to_csv('t5_2000.csv', index=False)"
   ]
  },
  {
   "cell_type": "code",
   "execution_count": 77,
   "metadata": {
    "colab": {
     "base_uri": "https://localhost:8080/"
    },
    "executionInfo": {
     "elapsed": 339,
     "status": "ok",
     "timestamp": 1606593333203,
     "user": {
      "displayName": "Jiaying Du",
      "photoUrl": "",
      "userId": "14440266368094325657"
     },
     "user_tz": 300
    },
    "id": "T4NzLy3iLwpX",
    "outputId": "b2bc0bc2-9838-47db-e5b3-27bca62db22e"
   },
   "outputs": [
    {
     "name": "stdout",
     "output_type": "stream",
     "text": [
      "bleu1: 0.12733222583072706\n",
      "bleu2: 0.07591165998798084\n"
     ]
    }
   ],
   "source": [
    "from nltk.translate.bleu_score import sentence_bleu\n",
    "\n",
    "def sentence_bleu_n(ref, hyp, weights):\n",
    "  # ref and hyp are strings\n",
    "  # bleu1: weights = [1, 0, 0, 0]\n",
    "  # bleu2: weights = [.5, .5, 0, 0]\n",
    "  # bleu3: weights = [.33, .33, .33, 0]\n",
    "  # bleu3: weights = [.25, .25, .25, .25] <- default in sentence_bleu\n",
    "  return sentence_bleu(references = [ref.split()], \n",
    "                       hypothesis = hyp.split(),\n",
    "                       weights = weights)\n",
    "\n",
    "df_test['SUMMARY'] = res_s\n",
    "\n",
    "# bleu1\n",
    "df_test['bleu1'] = df_test[['SUMMARY', 'IMPRESSION']].apply(lambda x: sentence_bleu_n(x[1], x[0], weights = [1,0,0,0]), axis=1)\n",
    "\n",
    "# bleu2\n",
    "df_test['bleu2'] = df_test[['SUMMARY', 'IMPRESSION']].apply(lambda x: sentence_bleu_n(x[1], x[0], weights = [.5,.5,0,0]), axis=1)\n",
    "\n",
    "print('bleu1: {}'.format(df_test['bleu1'].mean()))\n",
    "print('bleu2: {}'.format(df_test['bleu2'].mean()))"
   ]
  },
  {
   "cell_type": "code",
   "execution_count": 78,
   "metadata": {},
   "outputs": [
    {
     "name": "stdout",
     "output_type": "stream",
     "text": [
      "rouge1: 0.19134528495475825\n",
      "rouge2: 0.0899680521731839\n"
     ]
    }
   ],
   "source": [
    "from rouge import Rouge \n",
    "\n",
    "# rouge1\n",
    "df_test['rouge1'] = df_test[['SUMMARY', 'IMPRESSION']].apply(lambda x: Rouge().get_scores(x[0], x[1])[0]['rouge-1']['f'], axis=1)\n",
    "\n",
    "# rouge2\n",
    "df_test['rouge2'] = df_test[['SUMMARY', 'IMPRESSION']].apply(lambda x: Rouge().get_scores(x[0], x[1])[0]['rouge-2']['f'], axis=1)\n",
    "\n",
    "print('rouge1: {}'.format(df_test['rouge1'].mean()))\n",
    "print('rouge2: {}'.format(df_test['rouge2'].mean()))"
   ]
  },
  {
   "cell_type": "code",
   "execution_count": null,
   "metadata": {},
   "outputs": [],
   "source": []
  }
 ],
 "metadata": {
  "accelerator": "TPU",
  "colab": {
   "authorship_tag": "ABX9TyOuFoQ8+Vf8vYVIb7tVQ5UE",
   "collapsed_sections": [],
   "name": "t5.ipynb",
   "provenance": []
  },
  "kernelspec": {
   "display_name": "Python 3",
   "language": "python",
   "name": "python3"
  },
  "language_info": {
   "codemirror_mode": {
    "name": "ipython",
    "version": 3
   },
   "file_extension": ".py",
   "mimetype": "text/x-python",
   "name": "python",
   "nbconvert_exporter": "python",
   "pygments_lexer": "ipython3",
   "version": "3.8.6"
  },
  "toc": {
   "base_numbering": 1,
   "nav_menu": {},
   "number_sections": true,
   "sideBar": true,
   "skip_h1_title": false,
   "title_cell": "Table of Contents",
   "title_sidebar": "Contents",
   "toc_cell": false,
   "toc_position": {},
   "toc_section_display": true,
   "toc_window_display": false
  },
  "varInspector": {
   "cols": {
    "lenName": 16,
    "lenType": 16,
    "lenVar": 40
   },
   "kernels_config": {
    "python": {
     "delete_cmd_postfix": "",
     "delete_cmd_prefix": "del ",
     "library": "var_list.py",
     "varRefreshCmd": "print(var_dic_list())"
    },
    "r": {
     "delete_cmd_postfix": ") ",
     "delete_cmd_prefix": "rm(",
     "library": "var_list.r",
     "varRefreshCmd": "cat(var_dic_list()) "
    }
   },
   "types_to_exclude": [
    "module",
    "function",
    "builtin_function_or_method",
    "instance",
    "_Feature"
   ],
   "window_display": false
  },
  "widgets": {
   "application/vnd.jupyter.widget-state+json": {
    "02d9237ee31d48b3a23eb6808163d95f": {
     "model_module": "@jupyter-widgets/controls",
     "model_name": "DescriptionStyleModel",
     "state": {
      "_model_module": "@jupyter-widgets/controls",
      "_model_module_version": "1.5.0",
      "_model_name": "DescriptionStyleModel",
      "_view_count": null,
      "_view_module": "@jupyter-widgets/base",
      "_view_module_version": "1.2.0",
      "_view_name": "StyleView",
      "description_width": ""
     }
    },
    "04483d99fe6149638d6a44e76bee2db8": {
     "model_module": "@jupyter-widgets/base",
     "model_name": "LayoutModel",
     "state": {
      "_model_module": "@jupyter-widgets/base",
      "_model_module_version": "1.2.0",
      "_model_name": "LayoutModel",
      "_view_count": null,
      "_view_module": "@jupyter-widgets/base",
      "_view_module_version": "1.2.0",
      "_view_name": "LayoutView",
      "align_content": null,
      "align_items": null,
      "align_self": null,
      "border": null,
      "bottom": null,
      "display": null,
      "flex": null,
      "flex_flow": null,
      "grid_area": null,
      "grid_auto_columns": null,
      "grid_auto_flow": null,
      "grid_auto_rows": null,
      "grid_column": null,
      "grid_gap": null,
      "grid_row": null,
      "grid_template_areas": null,
      "grid_template_columns": null,
      "grid_template_rows": null,
      "height": null,
      "justify_content": null,
      "justify_items": null,
      "left": null,
      "margin": null,
      "max_height": null,
      "max_width": null,
      "min_height": null,
      "min_width": null,
      "object_fit": null,
      "object_position": null,
      "order": null,
      "overflow": null,
      "overflow_x": null,
      "overflow_y": null,
      "padding": null,
      "right": null,
      "top": null,
      "visibility": null,
      "width": null
     }
    },
    "04935188949c4b56a2067e0053f440ca": {
     "model_module": "@jupyter-widgets/controls",
     "model_name": "DescriptionStyleModel",
     "state": {
      "_model_module": "@jupyter-widgets/controls",
      "_model_module_version": "1.5.0",
      "_model_name": "DescriptionStyleModel",
      "_view_count": null,
      "_view_module": "@jupyter-widgets/base",
      "_view_module_version": "1.2.0",
      "_view_name": "StyleView",
      "description_width": ""
     }
    },
    "0b527dba43e646159655b499d376a164": {
     "model_module": "@jupyter-widgets/controls",
     "model_name": "DescriptionStyleModel",
     "state": {
      "_model_module": "@jupyter-widgets/controls",
      "_model_module_version": "1.5.0",
      "_model_name": "DescriptionStyleModel",
      "_view_count": null,
      "_view_module": "@jupyter-widgets/base",
      "_view_module_version": "1.2.0",
      "_view_name": "StyleView",
      "description_width": ""
     }
    },
    "1ee4aa7ba1c74664847349abd07162cb": {
     "model_module": "@jupyter-widgets/base",
     "model_name": "LayoutModel",
     "state": {
      "_model_module": "@jupyter-widgets/base",
      "_model_module_version": "1.2.0",
      "_model_name": "LayoutModel",
      "_view_count": null,
      "_view_module": "@jupyter-widgets/base",
      "_view_module_version": "1.2.0",
      "_view_name": "LayoutView",
      "align_content": null,
      "align_items": null,
      "align_self": null,
      "border": null,
      "bottom": null,
      "display": null,
      "flex": null,
      "flex_flow": null,
      "grid_area": null,
      "grid_auto_columns": null,
      "grid_auto_flow": null,
      "grid_auto_rows": null,
      "grid_column": null,
      "grid_gap": null,
      "grid_row": null,
      "grid_template_areas": null,
      "grid_template_columns": null,
      "grid_template_rows": null,
      "height": null,
      "justify_content": null,
      "justify_items": null,
      "left": null,
      "margin": null,
      "max_height": null,
      "max_width": null,
      "min_height": null,
      "min_width": null,
      "object_fit": null,
      "object_position": null,
      "order": null,
      "overflow": null,
      "overflow_x": null,
      "overflow_y": null,
      "padding": null,
      "right": null,
      "top": null,
      "visibility": null,
      "width": null
     }
    },
    "2140391a60004b579e2ce6ead2a46caa": {
     "model_module": "@jupyter-widgets/controls",
     "model_name": "ProgressStyleModel",
     "state": {
      "_model_module": "@jupyter-widgets/controls",
      "_model_module_version": "1.5.0",
      "_model_name": "ProgressStyleModel",
      "_view_count": null,
      "_view_module": "@jupyter-widgets/base",
      "_view_module_version": "1.2.0",
      "_view_name": "StyleView",
      "bar_color": null,
      "description_width": "initial"
     }
    },
    "2896cda0671a47b7aeeb13a652d0edf5": {
     "model_module": "@jupyter-widgets/controls",
     "model_name": "DescriptionStyleModel",
     "state": {
      "_model_module": "@jupyter-widgets/controls",
      "_model_module_version": "1.5.0",
      "_model_name": "DescriptionStyleModel",
      "_view_count": null,
      "_view_module": "@jupyter-widgets/base",
      "_view_module_version": "1.2.0",
      "_view_name": "StyleView",
      "description_width": ""
     }
    },
    "2ce76a3b899b4777aec485bfb8623d79": {
     "model_module": "@jupyter-widgets/controls",
     "model_name": "ProgressStyleModel",
     "state": {
      "_model_module": "@jupyter-widgets/controls",
      "_model_module_version": "1.5.0",
      "_model_name": "ProgressStyleModel",
      "_view_count": null,
      "_view_module": "@jupyter-widgets/base",
      "_view_module_version": "1.2.0",
      "_view_name": "StyleView",
      "bar_color": null,
      "description_width": "initial"
     }
    },
    "31a99ebe4cfd4c4caaf4a3acd9aa5941": {
     "model_module": "@jupyter-widgets/controls",
     "model_name": "HTMLModel",
     "state": {
      "_dom_classes": [],
      "_model_module": "@jupyter-widgets/controls",
      "_model_module_version": "1.5.0",
      "_model_name": "HTMLModel",
      "_view_count": null,
      "_view_module": "@jupyter-widgets/controls",
      "_view_module_version": "1.5.0",
      "_view_name": "HTMLView",
      "description": "",
      "description_tooltip": null,
      "layout": "IPY_MODEL_a65e54addc914f1ca94432b91461e9e4",
      "placeholder": "​",
      "style": "IPY_MODEL_02d9237ee31d48b3a23eb6808163d95f",
      "value": " 1.39M/1.39M [00:00&lt;00:00, 2.21MB/s]"
     }
    },
    "3bc843b06465449898e502f2902a7ce8": {
     "model_module": "@jupyter-widgets/base",
     "model_name": "LayoutModel",
     "state": {
      "_model_module": "@jupyter-widgets/base",
      "_model_module_version": "1.2.0",
      "_model_name": "LayoutModel",
      "_view_count": null,
      "_view_module": "@jupyter-widgets/base",
      "_view_module_version": "1.2.0",
      "_view_name": "LayoutView",
      "align_content": null,
      "align_items": null,
      "align_self": null,
      "border": null,
      "bottom": null,
      "display": null,
      "flex": null,
      "flex_flow": null,
      "grid_area": null,
      "grid_auto_columns": null,
      "grid_auto_flow": null,
      "grid_auto_rows": null,
      "grid_column": null,
      "grid_gap": null,
      "grid_row": null,
      "grid_template_areas": null,
      "grid_template_columns": null,
      "grid_template_rows": null,
      "height": null,
      "justify_content": null,
      "justify_items": null,
      "left": null,
      "margin": null,
      "max_height": null,
      "max_width": null,
      "min_height": null,
      "min_width": null,
      "object_fit": null,
      "object_position": null,
      "order": null,
      "overflow": null,
      "overflow_x": null,
      "overflow_y": null,
      "padding": null,
      "right": null,
      "top": null,
      "visibility": null,
      "width": null
     }
    },
    "3e1c994789c54eef839663da7b832a45": {
     "model_module": "@jupyter-widgets/controls",
     "model_name": "FloatProgressModel",
     "state": {
      "_dom_classes": [],
      "_model_module": "@jupyter-widgets/controls",
      "_model_module_version": "1.5.0",
      "_model_name": "FloatProgressModel",
      "_view_count": null,
      "_view_module": "@jupyter-widgets/controls",
      "_view_module_version": "1.5.0",
      "_view_name": "ProgressView",
      "bar_style": "success",
      "description": "Downloading: 100%",
      "description_tooltip": null,
      "layout": "IPY_MODEL_893b5ffa394549e5aa3e5631d6ae3dbd",
      "max": 230,
      "min": 0,
      "orientation": "horizontal",
      "style": "IPY_MODEL_74a9b22b38b749cba958ded4bc11953d",
      "value": 230
     }
    },
    "42a62dc5dd79467299ef8fcf4ab37cd3": {
     "model_module": "@jupyter-widgets/controls",
     "model_name": "FloatProgressModel",
     "state": {
      "_dom_classes": [],
      "_model_module": "@jupyter-widgets/controls",
      "_model_module_version": "1.5.0",
      "_model_name": "FloatProgressModel",
      "_view_count": null,
      "_view_module": "@jupyter-widgets/controls",
      "_view_module_version": "1.5.0",
      "_view_name": "ProgressView",
      "bar_style": "success",
      "description": "Downloading: 100%",
      "description_tooltip": null,
      "layout": "IPY_MODEL_b2d858f910274cda83d35e4fe1ac46c3",
      "max": 791656,
      "min": 0,
      "orientation": "horizontal",
      "style": "IPY_MODEL_2ce76a3b899b4777aec485bfb8623d79",
      "value": 791656
     }
    },
    "447eb51adeb24162b83774870f91373b": {
     "model_module": "@jupyter-widgets/controls",
     "model_name": "HBoxModel",
     "state": {
      "_dom_classes": [],
      "_model_module": "@jupyter-widgets/controls",
      "_model_module_version": "1.5.0",
      "_model_name": "HBoxModel",
      "_view_count": null,
      "_view_module": "@jupyter-widgets/controls",
      "_view_module_version": "1.5.0",
      "_view_name": "HBoxView",
      "box_style": "",
      "children": [
       "IPY_MODEL_a55c6692f99b48b8823bc6e9d1a65aa5",
       "IPY_MODEL_f3e351b00bf2457d9ce1977c33465586"
      ],
      "layout": "IPY_MODEL_c0e53087ce034f88a8ea47e4a1aed72e"
     }
    },
    "45ee9c9e75ca4b1d9e596bfa3e73c115": {
     "model_module": "@jupyter-widgets/base",
     "model_name": "LayoutModel",
     "state": {
      "_model_module": "@jupyter-widgets/base",
      "_model_module_version": "1.2.0",
      "_model_name": "LayoutModel",
      "_view_count": null,
      "_view_module": "@jupyter-widgets/base",
      "_view_module_version": "1.2.0",
      "_view_name": "LayoutView",
      "align_content": null,
      "align_items": null,
      "align_self": null,
      "border": null,
      "bottom": null,
      "display": null,
      "flex": null,
      "flex_flow": null,
      "grid_area": null,
      "grid_auto_columns": null,
      "grid_auto_flow": null,
      "grid_auto_rows": null,
      "grid_column": null,
      "grid_gap": null,
      "grid_row": null,
      "grid_template_areas": null,
      "grid_template_columns": null,
      "grid_template_rows": null,
      "height": null,
      "justify_content": null,
      "justify_items": null,
      "left": null,
      "margin": null,
      "max_height": null,
      "max_width": null,
      "min_height": null,
      "min_width": null,
      "object_fit": null,
      "object_position": null,
      "order": null,
      "overflow": null,
      "overflow_x": null,
      "overflow_y": null,
      "padding": null,
      "right": null,
      "top": null,
      "visibility": null,
      "width": null
     }
    },
    "4f223971ef8e4308b8453c8614af5133": {
     "model_module": "@jupyter-widgets/base",
     "model_name": "LayoutModel",
     "state": {
      "_model_module": "@jupyter-widgets/base",
      "_model_module_version": "1.2.0",
      "_model_name": "LayoutModel",
      "_view_count": null,
      "_view_module": "@jupyter-widgets/base",
      "_view_module_version": "1.2.0",
      "_view_name": "LayoutView",
      "align_content": null,
      "align_items": null,
      "align_self": null,
      "border": null,
      "bottom": null,
      "display": null,
      "flex": null,
      "flex_flow": null,
      "grid_area": null,
      "grid_auto_columns": null,
      "grid_auto_flow": null,
      "grid_auto_rows": null,
      "grid_column": null,
      "grid_gap": null,
      "grid_row": null,
      "grid_template_areas": null,
      "grid_template_columns": null,
      "grid_template_rows": null,
      "height": null,
      "justify_content": null,
      "justify_items": null,
      "left": null,
      "margin": null,
      "max_height": null,
      "max_width": null,
      "min_height": null,
      "min_width": null,
      "object_fit": null,
      "object_position": null,
      "order": null,
      "overflow": null,
      "overflow_x": null,
      "overflow_y": null,
      "padding": null,
      "right": null,
      "top": null,
      "visibility": null,
      "width": null
     }
    },
    "53270f12e8964dacac53e46d6df152ac": {
     "model_module": "@jupyter-widgets/base",
     "model_name": "LayoutModel",
     "state": {
      "_model_module": "@jupyter-widgets/base",
      "_model_module_version": "1.2.0",
      "_model_name": "LayoutModel",
      "_view_count": null,
      "_view_module": "@jupyter-widgets/base",
      "_view_module_version": "1.2.0",
      "_view_name": "LayoutView",
      "align_content": null,
      "align_items": null,
      "align_self": null,
      "border": null,
      "bottom": null,
      "display": null,
      "flex": null,
      "flex_flow": null,
      "grid_area": null,
      "grid_auto_columns": null,
      "grid_auto_flow": null,
      "grid_auto_rows": null,
      "grid_column": null,
      "grid_gap": null,
      "grid_row": null,
      "grid_template_areas": null,
      "grid_template_columns": null,
      "grid_template_rows": null,
      "height": null,
      "justify_content": null,
      "justify_items": null,
      "left": null,
      "margin": null,
      "max_height": null,
      "max_width": null,
      "min_height": null,
      "min_width": null,
      "object_fit": null,
      "object_position": null,
      "order": null,
      "overflow": null,
      "overflow_x": null,
      "overflow_y": null,
      "padding": null,
      "right": null,
      "top": null,
      "visibility": null,
      "width": null
     }
    },
    "6415418cddac49df8538a400ead34e63": {
     "model_module": "@jupyter-widgets/controls",
     "model_name": "HBoxModel",
     "state": {
      "_dom_classes": [],
      "_model_module": "@jupyter-widgets/controls",
      "_model_module_version": "1.5.0",
      "_model_name": "HBoxModel",
      "_view_count": null,
      "_view_module": "@jupyter-widgets/controls",
      "_view_module_version": "1.5.0",
      "_view_name": "HBoxView",
      "box_style": "",
      "children": [
       "IPY_MODEL_fe8dcc3fe9214fdf8dab7df2175e8447",
       "IPY_MODEL_d7e7ccd99ea6413c9c5316849522a3ab"
      ],
      "layout": "IPY_MODEL_1ee4aa7ba1c74664847349abd07162cb"
     }
    },
    "6bdb49e3f3ee456cbe2e2deaa6061b52": {
     "model_module": "@jupyter-widgets/controls",
     "model_name": "FloatProgressModel",
     "state": {
      "_dom_classes": [],
      "_model_module": "@jupyter-widgets/controls",
      "_model_module_version": "1.5.0",
      "_model_name": "FloatProgressModel",
      "_view_count": null,
      "_view_module": "@jupyter-widgets/controls",
      "_view_module_version": "1.5.0",
      "_view_name": "ProgressView",
      "bar_style": "success",
      "description": "Downloading: 100%",
      "description_tooltip": null,
      "layout": "IPY_MODEL_45ee9c9e75ca4b1d9e596bfa3e73c115",
      "max": 1389353,
      "min": 0,
      "orientation": "horizontal",
      "style": "IPY_MODEL_e2df252763394e168c4df668c6f49f35",
      "value": 1389353
     }
    },
    "74a9b22b38b749cba958ded4bc11953d": {
     "model_module": "@jupyter-widgets/controls",
     "model_name": "ProgressStyleModel",
     "state": {
      "_model_module": "@jupyter-widgets/controls",
      "_model_module_version": "1.5.0",
      "_model_name": "ProgressStyleModel",
      "_view_count": null,
      "_view_module": "@jupyter-widgets/base",
      "_view_module_version": "1.2.0",
      "_view_name": "StyleView",
      "bar_color": null,
      "description_width": "initial"
     }
    },
    "893b5ffa394549e5aa3e5631d6ae3dbd": {
     "model_module": "@jupyter-widgets/base",
     "model_name": "LayoutModel",
     "state": {
      "_model_module": "@jupyter-widgets/base",
      "_model_module_version": "1.2.0",
      "_model_name": "LayoutModel",
      "_view_count": null,
      "_view_module": "@jupyter-widgets/base",
      "_view_module_version": "1.2.0",
      "_view_name": "LayoutView",
      "align_content": null,
      "align_items": null,
      "align_self": null,
      "border": null,
      "bottom": null,
      "display": null,
      "flex": null,
      "flex_flow": null,
      "grid_area": null,
      "grid_auto_columns": null,
      "grid_auto_flow": null,
      "grid_auto_rows": null,
      "grid_column": null,
      "grid_gap": null,
      "grid_row": null,
      "grid_template_areas": null,
      "grid_template_columns": null,
      "grid_template_rows": null,
      "height": null,
      "justify_content": null,
      "justify_items": null,
      "left": null,
      "margin": null,
      "max_height": null,
      "max_width": null,
      "min_height": null,
      "min_width": null,
      "object_fit": null,
      "object_position": null,
      "order": null,
      "overflow": null,
      "overflow_x": null,
      "overflow_y": null,
      "padding": null,
      "right": null,
      "top": null,
      "visibility": null,
      "width": null
     }
    },
    "91df6c1ed21f481c8c5254c90523ccfe": {
     "model_module": "@jupyter-widgets/controls",
     "model_name": "HBoxModel",
     "state": {
      "_dom_classes": [],
      "_model_module": "@jupyter-widgets/controls",
      "_model_module_version": "1.5.0",
      "_model_name": "HBoxModel",
      "_view_count": null,
      "_view_module": "@jupyter-widgets/controls",
      "_view_module_version": "1.5.0",
      "_view_name": "HBoxView",
      "box_style": "",
      "children": [
       "IPY_MODEL_6bdb49e3f3ee456cbe2e2deaa6061b52",
       "IPY_MODEL_31a99ebe4cfd4c4caaf4a3acd9aa5941"
      ],
      "layout": "IPY_MODEL_4f223971ef8e4308b8453c8614af5133"
     }
    },
    "950038cc931b43ac948fc9709e48cc73": {
     "model_module": "@jupyter-widgets/base",
     "model_name": "LayoutModel",
     "state": {
      "_model_module": "@jupyter-widgets/base",
      "_model_module_version": "1.2.0",
      "_model_name": "LayoutModel",
      "_view_count": null,
      "_view_module": "@jupyter-widgets/base",
      "_view_module_version": "1.2.0",
      "_view_name": "LayoutView",
      "align_content": null,
      "align_items": null,
      "align_self": null,
      "border": null,
      "bottom": null,
      "display": null,
      "flex": null,
      "flex_flow": null,
      "grid_area": null,
      "grid_auto_columns": null,
      "grid_auto_flow": null,
      "grid_auto_rows": null,
      "grid_column": null,
      "grid_gap": null,
      "grid_row": null,
      "grid_template_areas": null,
      "grid_template_columns": null,
      "grid_template_rows": null,
      "height": null,
      "justify_content": null,
      "justify_items": null,
      "left": null,
      "margin": null,
      "max_height": null,
      "max_width": null,
      "min_height": null,
      "min_width": null,
      "object_fit": null,
      "object_position": null,
      "order": null,
      "overflow": null,
      "overflow_x": null,
      "overflow_y": null,
      "padding": null,
      "right": null,
      "top": null,
      "visibility": null,
      "width": null
     }
    },
    "9a5febe0c03a4405b00244c105777003": {
     "model_module": "@jupyter-widgets/base",
     "model_name": "LayoutModel",
     "state": {
      "_model_module": "@jupyter-widgets/base",
      "_model_module_version": "1.2.0",
      "_model_name": "LayoutModel",
      "_view_count": null,
      "_view_module": "@jupyter-widgets/base",
      "_view_module_version": "1.2.0",
      "_view_name": "LayoutView",
      "align_content": null,
      "align_items": null,
      "align_self": null,
      "border": null,
      "bottom": null,
      "display": null,
      "flex": null,
      "flex_flow": null,
      "grid_area": null,
      "grid_auto_columns": null,
      "grid_auto_flow": null,
      "grid_auto_rows": null,
      "grid_column": null,
      "grid_gap": null,
      "grid_row": null,
      "grid_template_areas": null,
      "grid_template_columns": null,
      "grid_template_rows": null,
      "height": null,
      "justify_content": null,
      "justify_items": null,
      "left": null,
      "margin": null,
      "max_height": null,
      "max_width": null,
      "min_height": null,
      "min_width": null,
      "object_fit": null,
      "object_position": null,
      "order": null,
      "overflow": null,
      "overflow_x": null,
      "overflow_y": null,
      "padding": null,
      "right": null,
      "top": null,
      "visibility": null,
      "width": null
     }
    },
    "9cddaf854d0a40dd837805231cf19b8b": {
     "model_module": "@jupyter-widgets/controls",
     "model_name": "HBoxModel",
     "state": {
      "_dom_classes": [],
      "_model_module": "@jupyter-widgets/controls",
      "_model_module_version": "1.5.0",
      "_model_name": "HBoxModel",
      "_view_count": null,
      "_view_module": "@jupyter-widgets/controls",
      "_view_module_version": "1.5.0",
      "_view_name": "HBoxView",
      "box_style": "",
      "children": [
       "IPY_MODEL_3e1c994789c54eef839663da7b832a45",
       "IPY_MODEL_f6953f40fd7b46c18db4ec874ff8f054"
      ],
      "layout": "IPY_MODEL_9a5febe0c03a4405b00244c105777003"
     }
    },
    "9e8df31c9871490f92a499d570f0ecf1": {
     "model_module": "@jupyter-widgets/controls",
     "model_name": "ProgressStyleModel",
     "state": {
      "_model_module": "@jupyter-widgets/controls",
      "_model_module_version": "1.5.0",
      "_model_name": "ProgressStyleModel",
      "_view_count": null,
      "_view_module": "@jupyter-widgets/base",
      "_view_module_version": "1.2.0",
      "_view_name": "StyleView",
      "bar_color": null,
      "description_width": "initial"
     }
    },
    "a55c6692f99b48b8823bc6e9d1a65aa5": {
     "model_module": "@jupyter-widgets/controls",
     "model_name": "FloatProgressModel",
     "state": {
      "_dom_classes": [],
      "_model_module": "@jupyter-widgets/controls",
      "_model_module_version": "1.5.0",
      "_model_name": "FloatProgressModel",
      "_view_count": null,
      "_view_module": "@jupyter-widgets/controls",
      "_view_module_version": "1.5.0",
      "_view_name": "ProgressView",
      "bar_style": "success",
      "description": "Downloading: 100%",
      "description_tooltip": null,
      "layout": "IPY_MODEL_f77340f0930341bb91f13444d8699ade",
      "max": 2950825948,
      "min": 0,
      "orientation": "horizontal",
      "style": "IPY_MODEL_9e8df31c9871490f92a499d570f0ecf1",
      "value": 2950825948
     }
    },
    "a61403ebbaca4f77904fe927ef177e6e": {
     "model_module": "@jupyter-widgets/controls",
     "model_name": "DescriptionStyleModel",
     "state": {
      "_model_module": "@jupyter-widgets/controls",
      "_model_module_version": "1.5.0",
      "_model_name": "DescriptionStyleModel",
      "_view_count": null,
      "_view_module": "@jupyter-widgets/base",
      "_view_module_version": "1.2.0",
      "_view_name": "StyleView",
      "description_width": ""
     }
    },
    "a65e54addc914f1ca94432b91461e9e4": {
     "model_module": "@jupyter-widgets/base",
     "model_name": "LayoutModel",
     "state": {
      "_model_module": "@jupyter-widgets/base",
      "_model_module_version": "1.2.0",
      "_model_name": "LayoutModel",
      "_view_count": null,
      "_view_module": "@jupyter-widgets/base",
      "_view_module_version": "1.2.0",
      "_view_name": "LayoutView",
      "align_content": null,
      "align_items": null,
      "align_self": null,
      "border": null,
      "bottom": null,
      "display": null,
      "flex": null,
      "flex_flow": null,
      "grid_area": null,
      "grid_auto_columns": null,
      "grid_auto_flow": null,
      "grid_auto_rows": null,
      "grid_column": null,
      "grid_gap": null,
      "grid_row": null,
      "grid_template_areas": null,
      "grid_template_columns": null,
      "grid_template_rows": null,
      "height": null,
      "justify_content": null,
      "justify_items": null,
      "left": null,
      "margin": null,
      "max_height": null,
      "max_width": null,
      "min_height": null,
      "min_width": null,
      "object_fit": null,
      "object_position": null,
      "order": null,
      "overflow": null,
      "overflow_x": null,
      "overflow_y": null,
      "padding": null,
      "right": null,
      "top": null,
      "visibility": null,
      "width": null
     }
    },
    "aae18b42856f42c7a8826e259bec051f": {
     "model_module": "@jupyter-widgets/controls",
     "model_name": "HBoxModel",
     "state": {
      "_dom_classes": [],
      "_model_module": "@jupyter-widgets/controls",
      "_model_module_version": "1.5.0",
      "_model_name": "HBoxModel",
      "_view_count": null,
      "_view_module": "@jupyter-widgets/controls",
      "_view_module_version": "1.5.0",
      "_view_name": "HBoxView",
      "box_style": "",
      "children": [
       "IPY_MODEL_42a62dc5dd79467299ef8fcf4ab37cd3",
       "IPY_MODEL_bd9778e5d2994b71857c3a99860bc72f"
      ],
      "layout": "IPY_MODEL_ce31ed62da734f62ac21a922a0eb86e8"
     }
    },
    "af7654ca3db449d896a877c16699624d": {
     "model_module": "@jupyter-widgets/base",
     "model_name": "LayoutModel",
     "state": {
      "_model_module": "@jupyter-widgets/base",
      "_model_module_version": "1.2.0",
      "_model_name": "LayoutModel",
      "_view_count": null,
      "_view_module": "@jupyter-widgets/base",
      "_view_module_version": "1.2.0",
      "_view_name": "LayoutView",
      "align_content": null,
      "align_items": null,
      "align_self": null,
      "border": null,
      "bottom": null,
      "display": null,
      "flex": null,
      "flex_flow": null,
      "grid_area": null,
      "grid_auto_columns": null,
      "grid_auto_flow": null,
      "grid_auto_rows": null,
      "grid_column": null,
      "grid_gap": null,
      "grid_row": null,
      "grid_template_areas": null,
      "grid_template_columns": null,
      "grid_template_rows": null,
      "height": null,
      "justify_content": null,
      "justify_items": null,
      "left": null,
      "margin": null,
      "max_height": null,
      "max_width": null,
      "min_height": null,
      "min_width": null,
      "object_fit": null,
      "object_position": null,
      "order": null,
      "overflow": null,
      "overflow_x": null,
      "overflow_y": null,
      "padding": null,
      "right": null,
      "top": null,
      "visibility": null,
      "width": null
     }
    },
    "b2d858f910274cda83d35e4fe1ac46c3": {
     "model_module": "@jupyter-widgets/base",
     "model_name": "LayoutModel",
     "state": {
      "_model_module": "@jupyter-widgets/base",
      "_model_module_version": "1.2.0",
      "_model_name": "LayoutModel",
      "_view_count": null,
      "_view_module": "@jupyter-widgets/base",
      "_view_module_version": "1.2.0",
      "_view_name": "LayoutView",
      "align_content": null,
      "align_items": null,
      "align_self": null,
      "border": null,
      "bottom": null,
      "display": null,
      "flex": null,
      "flex_flow": null,
      "grid_area": null,
      "grid_auto_columns": null,
      "grid_auto_flow": null,
      "grid_auto_rows": null,
      "grid_column": null,
      "grid_gap": null,
      "grid_row": null,
      "grid_template_areas": null,
      "grid_template_columns": null,
      "grid_template_rows": null,
      "height": null,
      "justify_content": null,
      "justify_items": null,
      "left": null,
      "margin": null,
      "max_height": null,
      "max_width": null,
      "min_height": null,
      "min_width": null,
      "object_fit": null,
      "object_position": null,
      "order": null,
      "overflow": null,
      "overflow_x": null,
      "overflow_y": null,
      "padding": null,
      "right": null,
      "top": null,
      "visibility": null,
      "width": null
     }
    },
    "bd9778e5d2994b71857c3a99860bc72f": {
     "model_module": "@jupyter-widgets/controls",
     "model_name": "HTMLModel",
     "state": {
      "_dom_classes": [],
      "_model_module": "@jupyter-widgets/controls",
      "_model_module_version": "1.5.0",
      "_model_name": "HTMLModel",
      "_view_count": null,
      "_view_module": "@jupyter-widgets/controls",
      "_view_module_version": "1.5.0",
      "_view_name": "HTMLView",
      "description": "",
      "description_tooltip": null,
      "layout": "IPY_MODEL_af7654ca3db449d896a877c16699624d",
      "placeholder": "​",
      "style": "IPY_MODEL_04935188949c4b56a2067e0053f440ca",
      "value": " 792k/792k [00:01&lt;00:00, 730kB/s]"
     }
    },
    "c0e53087ce034f88a8ea47e4a1aed72e": {
     "model_module": "@jupyter-widgets/base",
     "model_name": "LayoutModel",
     "state": {
      "_model_module": "@jupyter-widgets/base",
      "_model_module_version": "1.2.0",
      "_model_name": "LayoutModel",
      "_view_count": null,
      "_view_module": "@jupyter-widgets/base",
      "_view_module_version": "1.2.0",
      "_view_name": "LayoutView",
      "align_content": null,
      "align_items": null,
      "align_self": null,
      "border": null,
      "bottom": null,
      "display": null,
      "flex": null,
      "flex_flow": null,
      "grid_area": null,
      "grid_auto_columns": null,
      "grid_auto_flow": null,
      "grid_auto_rows": null,
      "grid_column": null,
      "grid_gap": null,
      "grid_row": null,
      "grid_template_areas": null,
      "grid_template_columns": null,
      "grid_template_rows": null,
      "height": null,
      "justify_content": null,
      "justify_items": null,
      "left": null,
      "margin": null,
      "max_height": null,
      "max_width": null,
      "min_height": null,
      "min_width": null,
      "object_fit": null,
      "object_position": null,
      "order": null,
      "overflow": null,
      "overflow_x": null,
      "overflow_y": null,
      "padding": null,
      "right": null,
      "top": null,
      "visibility": null,
      "width": null
     }
    },
    "ce31ed62da734f62ac21a922a0eb86e8": {
     "model_module": "@jupyter-widgets/base",
     "model_name": "LayoutModel",
     "state": {
      "_model_module": "@jupyter-widgets/base",
      "_model_module_version": "1.2.0",
      "_model_name": "LayoutModel",
      "_view_count": null,
      "_view_module": "@jupyter-widgets/base",
      "_view_module_version": "1.2.0",
      "_view_name": "LayoutView",
      "align_content": null,
      "align_items": null,
      "align_self": null,
      "border": null,
      "bottom": null,
      "display": null,
      "flex": null,
      "flex_flow": null,
      "grid_area": null,
      "grid_auto_columns": null,
      "grid_auto_flow": null,
      "grid_auto_rows": null,
      "grid_column": null,
      "grid_gap": null,
      "grid_row": null,
      "grid_template_areas": null,
      "grid_template_columns": null,
      "grid_template_rows": null,
      "height": null,
      "justify_content": null,
      "justify_items": null,
      "left": null,
      "margin": null,
      "max_height": null,
      "max_width": null,
      "min_height": null,
      "min_width": null,
      "object_fit": null,
      "object_position": null,
      "order": null,
      "overflow": null,
      "overflow_x": null,
      "overflow_y": null,
      "padding": null,
      "right": null,
      "top": null,
      "visibility": null,
      "width": null
     }
    },
    "d7e7ccd99ea6413c9c5316849522a3ab": {
     "model_module": "@jupyter-widgets/controls",
     "model_name": "HTMLModel",
     "state": {
      "_dom_classes": [],
      "_model_module": "@jupyter-widgets/controls",
      "_model_module_version": "1.5.0",
      "_model_name": "HTMLModel",
      "_view_count": null,
      "_view_module": "@jupyter-widgets/controls",
      "_view_module_version": "1.5.0",
      "_view_name": "HTMLView",
      "description": "",
      "description_tooltip": null,
      "layout": "IPY_MODEL_04483d99fe6149638d6a44e76bee2db8",
      "placeholder": "​",
      "style": "IPY_MODEL_0b527dba43e646159655b499d376a164",
      "value": " 1.20k/1.20k [00:51&lt;00:00, 23.3B/s]"
     }
    },
    "e2df252763394e168c4df668c6f49f35": {
     "model_module": "@jupyter-widgets/controls",
     "model_name": "ProgressStyleModel",
     "state": {
      "_model_module": "@jupyter-widgets/controls",
      "_model_module_version": "1.5.0",
      "_model_name": "ProgressStyleModel",
      "_view_count": null,
      "_view_module": "@jupyter-widgets/base",
      "_view_module_version": "1.2.0",
      "_view_name": "StyleView",
      "bar_color": null,
      "description_width": "initial"
     }
    },
    "f3e351b00bf2457d9ce1977c33465586": {
     "model_module": "@jupyter-widgets/controls",
     "model_name": "HTMLModel",
     "state": {
      "_dom_classes": [],
      "_model_module": "@jupyter-widgets/controls",
      "_model_module_version": "1.5.0",
      "_model_name": "HTMLModel",
      "_view_count": null,
      "_view_module": "@jupyter-widgets/controls",
      "_view_module_version": "1.5.0",
      "_view_name": "HTMLView",
      "description": "",
      "description_tooltip": null,
      "layout": "IPY_MODEL_53270f12e8964dacac53e46d6df152ac",
      "placeholder": "​",
      "style": "IPY_MODEL_2896cda0671a47b7aeeb13a652d0edf5",
      "value": " 2.95G/2.95G [00:49&lt;00:00, 60.2MB/s]"
     }
    },
    "f6953f40fd7b46c18db4ec874ff8f054": {
     "model_module": "@jupyter-widgets/controls",
     "model_name": "HTMLModel",
     "state": {
      "_dom_classes": [],
      "_model_module": "@jupyter-widgets/controls",
      "_model_module_version": "1.5.0",
      "_model_name": "HTMLModel",
      "_view_count": null,
      "_view_module": "@jupyter-widgets/controls",
      "_view_module_version": "1.5.0",
      "_view_name": "HTMLView",
      "description": "",
      "description_tooltip": null,
      "layout": "IPY_MODEL_3bc843b06465449898e502f2902a7ce8",
      "placeholder": "​",
      "style": "IPY_MODEL_a61403ebbaca4f77904fe927ef177e6e",
      "value": " 230/230 [00:02&lt;00:00, 106B/s]"
     }
    },
    "f77340f0930341bb91f13444d8699ade": {
     "model_module": "@jupyter-widgets/base",
     "model_name": "LayoutModel",
     "state": {
      "_model_module": "@jupyter-widgets/base",
      "_model_module_version": "1.2.0",
      "_model_name": "LayoutModel",
      "_view_count": null,
      "_view_module": "@jupyter-widgets/base",
      "_view_module_version": "1.2.0",
      "_view_name": "LayoutView",
      "align_content": null,
      "align_items": null,
      "align_self": null,
      "border": null,
      "bottom": null,
      "display": null,
      "flex": null,
      "flex_flow": null,
      "grid_area": null,
      "grid_auto_columns": null,
      "grid_auto_flow": null,
      "grid_auto_rows": null,
      "grid_column": null,
      "grid_gap": null,
      "grid_row": null,
      "grid_template_areas": null,
      "grid_template_columns": null,
      "grid_template_rows": null,
      "height": null,
      "justify_content": null,
      "justify_items": null,
      "left": null,
      "margin": null,
      "max_height": null,
      "max_width": null,
      "min_height": null,
      "min_width": null,
      "object_fit": null,
      "object_position": null,
      "order": null,
      "overflow": null,
      "overflow_x": null,
      "overflow_y": null,
      "padding": null,
      "right": null,
      "top": null,
      "visibility": null,
      "width": null
     }
    },
    "fe8dcc3fe9214fdf8dab7df2175e8447": {
     "model_module": "@jupyter-widgets/controls",
     "model_name": "FloatProgressModel",
     "state": {
      "_dom_classes": [],
      "_model_module": "@jupyter-widgets/controls",
      "_model_module_version": "1.5.0",
      "_model_name": "FloatProgressModel",
      "_view_count": null,
      "_view_module": "@jupyter-widgets/controls",
      "_view_module_version": "1.5.0",
      "_view_name": "ProgressView",
      "bar_style": "success",
      "description": "Downloading: 100%",
      "description_tooltip": null,
      "layout": "IPY_MODEL_950038cc931b43ac948fc9709e48cc73",
      "max": 1200,
      "min": 0,
      "orientation": "horizontal",
      "style": "IPY_MODEL_2140391a60004b579e2ce6ead2a46caa",
      "value": 1200
     }
    }
   }
  }
 },
 "nbformat": 4,
 "nbformat_minor": 1
}
